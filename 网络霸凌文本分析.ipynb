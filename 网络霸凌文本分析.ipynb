{
 "cells": [
  {
   "cell_type": "markdown",
   "metadata": {
    "id": "JiIg_5F_5Qr9"
   },
   "source": [
    "# Detecting bullying Tweets with PyTorch LSTM + Attention and BERT Transformer Project"
   ]
  },
  {
   "cell_type": "markdown",
   "metadata": {
    "id": "AiabNLkT5QsB"
   },
   "source": [
    "This project is about the analysis of tweets about cyberbullying, with the goal of performing a Sentiment Analysis using LSTM w/ Attention and BERT on PyTorch to predict if a tweet is about cyberbullying or not. <br>\n",
    "In particular, bullying tweets are divided in 4 categories: religion, age, race and gender.<br>\n",
    "The project is divided in the following sections:\n",
    "\n",
    "- Data Import\n",
    "- Text cleaning with custom defined functions\n",
    "- Naive Bayes baseline model Classifier\n",
    "- Data preparation for LSTM RNN: Tokenization\n",
    "- PyTorch LSTM RNN Classifier w/ Attention\n",
    "- Data preparation for BERT: Tokenization\n",
    "- PyTorch BERT Classifier\n",
    "- Results summary"
   ]
  },
  {
   "cell_type": "markdown",
   "metadata": {
    "id": "J7bRgtas5QsC"
   },
   "source": [
    "# Main results summary:"
   ]
  },
  {
   "cell_type": "markdown",
   "metadata": {
    "id": "EC-QOF-KsMuM"
   },
   "source": [
    "**Naive Bayes baseline classifier performed quite well on the dataset, with an overall accuracy of 87% among all the classes.<br>\n",
    "On the other hand, the custom LSTM w/ attention RNN by PyTorch achieved an accuracy of 93%, where some classes have F1 score over 95%.**<br>\n",
    "**Finally, BERT performed the best, with an overall accuracy around 95% and F1 scores over 96%.**<br>\n",
    "Overall, the algorithms could properly distinguish the different topics of the bullying tweets, and had little **more troubles** with the **less populated class \"not cyberbullying\" and the \"gender\" class (achieving lower precision and recall compared to other classes)**.<br>\n",
    "For this reason, it could be a good idea to **collect more data of this classes** and aim to achieve higher accuracy and F1 score."
   ]
  },
  {
   "cell_type": "markdown",
   "metadata": {
    "id": "ZUtsZQ0RsMuN"
   },
   "source": [
    "## Custom functions definition:"
   ]
  },
  {
   "cell_type": "code",
   "execution_count": 1,
   "metadata": {
    "_kg_hide-input": true,
    "execution": {
     "iopub.execute_input": "2023-06-02T01:54:45.185395Z",
     "iopub.status.busy": "2023-06-02T01:54:45.184756Z",
     "iopub.status.idle": "2023-06-02T01:54:45.193440Z",
     "shell.execute_reply": "2023-06-02T01:54:45.192600Z",
     "shell.execute_reply.started": "2023-06-02T01:54:45.185352Z"
    },
    "id": "Ia28YBTrsMuN"
   },
   "outputs": [],
   "source": [
    "#定义一个混淆矩阵\n",
    "def conf_matrix(y, y_pred, title, labels):\n",
    "    fig, ax =plt.subplots(figsize=(7.5,7.5))\n",
    "    ax=sns.heatmap(confusion_matrix(y, y_pred), annot=True, cmap=\"Purples\", fmt='g', cbar=False, annot_kws={\"size\":30})\n",
    "    plt.title(title, fontsize=25)\n",
    "    ax.xaxis.set_ticklabels(labels, fontsize=16)\n",
    "    ax.yaxis.set_ticklabels(labels, fontsize=14.5)\n",
    "    ax.set_ylabel('Test', fontsize=25)\n",
    "    ax.set_xlabel('Predicted', fontsize=25)\n",
    "    plt.show()"
   ]
  },
  {
   "cell_type": "markdown",
   "metadata": {
    "id": "FDLYv5EBsMuO"
   },
   "source": [
    "## Import libraries"
   ]
  },
  {
   "cell_type": "code",
   "execution_count": 2,
   "metadata": {
    "id": "zGe287pMx5QJ"
   },
   "outputs": [],
   "source": [
    "#%pip uninstall emoji\n",
    "#%pip install emoji\n",
    "#%pip show emoji"
   ]
  },
  {
   "cell_type": "code",
   "execution_count": 3,
   "metadata": {
    "colab": {
     "base_uri": "https://localhost:8080/",
     "height": 644
    },
    "execution": {
     "iopub.execute_input": "2023-06-02T01:55:03.267566Z",
     "iopub.status.busy": "2023-06-02T01:55:03.267318Z",
     "iopub.status.idle": "2023-06-02T01:55:06.717286Z",
     "shell.execute_reply": "2023-06-02T01:55:06.716524Z",
     "shell.execute_reply.started": "2023-06-02T01:55:03.267533Z"
    },
    "id": "D0GOzHmK5QsH",
    "outputId": "36e50a04-b11b-4d3a-de85-6569a5ddd7a9"
   },
   "outputs": [
    {
     "name": "stdout",
     "output_type": "stream",
     "text": [
      "Requirement already satisfied: emoji in /usr/local/lib/python3.10/dist-packages (2.7.0)\n",
      "Requirement already satisfied: demoji in /usr/local/lib/python3.10/dist-packages (1.1.0)\n"
     ]
    },
    {
     "name": "stderr",
     "output_type": "stream",
     "text": [
      "[nltk_data] Downloading package stopwords to /root/nltk_data...\n",
      "[nltk_data]   Package stopwords is already up-to-date!\n",
      "[nltk_data] Downloading package punkt to /root/nltk_data...\n",
      "[nltk_data]   Package punkt is already up-to-date!\n",
      "[nltk_data] Downloading package wordnet to /root/nltk_data...\n",
      "[nltk_data]   Package wordnet is already up-to-date!\n"
     ]
    },
    {
     "name": "stdout",
     "output_type": "stream",
     "text": [
      "Requirement already satisfied: langdetect in /usr/local/lib/python3.10/dist-packages (1.0.9)\n",
      "Requirement already satisfied: six in /usr/local/lib/python3.10/dist-packages (from langdetect) (1.16.0)\n",
      "Requirement already satisfied: contractions in /usr/local/lib/python3.10/dist-packages (0.1.73)\n",
      "Requirement already satisfied: textsearch>=0.0.21 in /usr/local/lib/python3.10/dist-packages (from contractions) (0.0.24)\n",
      "Requirement already satisfied: anyascii in /usr/local/lib/python3.10/dist-packages (from textsearch>=0.0.21->contractions) (0.3.2)\n",
      "Requirement already satisfied: pyahocorasick in /usr/local/lib/python3.10/dist-packages (from textsearch>=0.0.21->contractions) (2.0.0)\n",
      "Requirement already satisfied: transformers in /usr/local/lib/python3.10/dist-packages (4.31.0)\n",
      "Requirement already satisfied: filelock in /usr/local/lib/python3.10/dist-packages (from transformers) (3.12.2)\n",
      "Requirement already satisfied: huggingface-hub<1.0,>=0.14.1 in /usr/local/lib/python3.10/dist-packages (from transformers) (0.16.4)\n",
      "Requirement already satisfied: numpy>=1.17 in /usr/local/lib/python3.10/dist-packages (from transformers) (1.22.4)\n",
      "Requirement already satisfied: packaging>=20.0 in /usr/local/lib/python3.10/dist-packages (from transformers) (23.1)\n",
      "Requirement already satisfied: pyyaml>=5.1 in /usr/local/lib/python3.10/dist-packages (from transformers) (6.0.1)\n",
      "Requirement already satisfied: regex!=2019.12.17 in /usr/local/lib/python3.10/dist-packages (from transformers) (2022.10.31)\n",
      "Requirement already satisfied: requests in /usr/local/lib/python3.10/dist-packages (from transformers) (2.27.1)\n",
      "Requirement already satisfied: tokenizers!=0.11.3,<0.14,>=0.11.1 in /usr/local/lib/python3.10/dist-packages (from transformers) (0.13.3)\n",
      "Requirement already satisfied: safetensors>=0.3.1 in /usr/local/lib/python3.10/dist-packages (from transformers) (0.3.1)\n",
      "Requirement already satisfied: tqdm>=4.27 in /usr/local/lib/python3.10/dist-packages (from transformers) (4.65.0)\n",
      "Requirement already satisfied: fsspec in /usr/local/lib/python3.10/dist-packages (from huggingface-hub<1.0,>=0.14.1->transformers) (2023.6.0)\n",
      "Requirement already satisfied: typing-extensions>=3.7.4.3 in /usr/local/lib/python3.10/dist-packages (from huggingface-hub<1.0,>=0.14.1->transformers) (4.7.1)\n",
      "Requirement already satisfied: urllib3<1.27,>=1.21.1 in /usr/local/lib/python3.10/dist-packages (from requests->transformers) (1.26.16)\n",
      "Requirement already satisfied: certifi>=2017.4.17 in /usr/local/lib/python3.10/dist-packages (from requests->transformers) (2023.7.22)\n",
      "Requirement already satisfied: charset-normalizer~=2.0.0 in /usr/local/lib/python3.10/dist-packages (from requests->transformers) (2.0.12)\n",
      "Requirement already satisfied: idna<4,>=2.5 in /usr/local/lib/python3.10/dist-packages (from requests->transformers) (3.4)\n"
     ]
    },
    {
     "name": "stderr",
     "output_type": "stream",
     "text": [
      "<ipython-input-3-3fefad709ba2>:69: MatplotlibDeprecationWarning: The seaborn styles shipped by Matplotlib are deprecated since 3.6, as they no longer correspond to the styles shipped by seaborn. However, they will remain available as 'seaborn-v0_8-<style>'. Alternatively, directly use the seaborn API instead.\n",
      "  plt.style.use(\"seaborn-whitegrid\")\n"
     ]
    },
    {
     "data": {
      "text/plain": [
       "<Figure size 640x480 with 0 Axes>"
      ]
     },
     "metadata": {},
     "output_type": "display_data"
    }
   ],
   "source": [
    "# Libraries for general purpose\n",
    "import pandas as pd\n",
    "import numpy as np\n",
    "import matplotlib.pyplot as plt\n",
    "import seaborn as sns\n",
    "\n",
    "# Text cleaning\n",
    "import re\n",
    "import string\n",
    "%pip install emoji\n",
    "import emoji\n",
    "%pip install demoji\n",
    "import demoji\n",
    "import nltk\n",
    "nltk.download('stopwords')\n",
    "nltk.download('punkt')\n",
    "nltk.download('wordnet')\n",
    "from nltk.stem import WordNetLemmatizer, PorterStemmer\n",
    "from nltk.corpus import stopwords\n",
    "\n",
    "# Data preprocessing\n",
    "from sklearn import preprocessing\n",
    "from sklearn.model_selection import train_test_split\n",
    "from imblearn.over_sampling import RandomOverSampler\n",
    "%pip install langdetect\n",
    "from langdetect import detect, LangDetectException\n",
    "%pip install contractions\n",
    "import contractions\n",
    "from nltk.tokenize import word_tokenize\n",
    "\n",
    "# Naive Bayes\n",
    "from sklearn.feature_extraction.text import CountVectorizer\n",
    "from sklearn.feature_extraction.text import TfidfTransformer\n",
    "from sklearn.naive_bayes import MultinomialNB\n",
    "\n",
    "# PyTorch LSTM\n",
    "import torch\n",
    "import torch.nn as nn\n",
    "import torch.nn.functional as F\n",
    "import torch.optim as optim\n",
    "from torch.utils.data import TensorDataset, DataLoader, RandomSampler, SequentialSampler\n",
    "\n",
    "# Tokenization for LSTM\n",
    "from collections import Counter\n",
    "#%pip install gensim\n",
    "from gensim.models import Word2Vec\n",
    "\n",
    "# Transformers library for BERT\n",
    "%pip install transformers\n",
    "import transformers\n",
    "from transformers import BertModel\n",
    "from transformers import BertTokenizer\n",
    "from transformers import AdamW, get_linear_schedule_with_warmup\n",
    "from sklearn.metrics import classification_report, confusion_matrix\n",
    "\n",
    "import time\n",
    "\n",
    "# Set seed for reproducibility\n",
    "import random\n",
    "seed_value = 100\n",
    "random.seed(seed_value)\n",
    "np.random.seed(seed_value)\n",
    "torch.manual_seed(seed_value)\n",
    "torch.cuda.manual_seed_all(seed_value)\n",
    "\n",
    "# Set style for plots\n",
    "sns.set_style(\"whitegrid\")\n",
    "sns.despine()\n",
    "plt.style.use(\"seaborn-whitegrid\")\n",
    "plt.rc(\"figure\", autolayout=True)\n",
    "plt.rc(\"axes\", labelweight=\"bold\", labelsize=\"large\", titleweight=\"bold\", titlepad=10)\n",
    "\n",
    "# Define stop words for text cleaning\n",
    "stop_words = set(stopwords.words('english'))\n",
    "\n",
    "# Initialize lemmatizer for text cleaning\n",
    "lemmatizer = WordNetLemmatizer()"
   ]
  },
  {
   "cell_type": "markdown",
   "metadata": {
    "id": "uEKWGXunsMuQ"
   },
   "source": [
    "## Data Import"
   ]
  },
  {
   "cell_type": "code",
   "execution_count": 144,
   "metadata": {
    "execution": {
     "iopub.execute_input": "2023-06-02T01:55:06.719260Z",
     "iopub.status.busy": "2023-06-02T01:55:06.718963Z",
     "iopub.status.idle": "2023-06-02T01:55:06.835451Z",
     "shell.execute_reply": "2023-06-02T01:55:06.834613Z",
     "shell.execute_reply.started": "2023-06-02T01:55:06.719219Z"
    },
    "id": "aCVJ1XJi5QsI"
   },
   "outputs": [],
   "source": [
    "df = pd.read_csv(\"/content/cyberbullying_tweets.csv\")"
   ]
  },
  {
   "cell_type": "code",
   "execution_count": 145,
   "metadata": {
    "colab": {
     "base_uri": "https://localhost:8080/",
     "height": 206
    },
    "execution": {
     "iopub.execute_input": "2023-06-02T01:55:06.839130Z",
     "iopub.status.busy": "2023-06-02T01:55:06.838891Z",
     "iopub.status.idle": "2023-06-02T01:55:06.852652Z",
     "shell.execute_reply": "2023-06-02T01:55:06.851746Z",
     "shell.execute_reply.started": "2023-06-02T01:55:06.839100Z"
    },
    "id": "NPhe4rM35QsJ",
    "outputId": "45d673f1-a049-4c00-cc61-c5da3abf336c"
   },
   "outputs": [
    {
     "data": {
      "text/html": [
       "\n",
       "\n",
       "  <div id=\"df-30fa0a9c-3836-42dc-83b5-e52f684a89ca\">\n",
       "    <div class=\"colab-df-container\">\n",
       "      <div>\n",
       "<style scoped>\n",
       "    .dataframe tbody tr th:only-of-type {\n",
       "        vertical-align: middle;\n",
       "    }\n",
       "\n",
       "    .dataframe tbody tr th {\n",
       "        vertical-align: top;\n",
       "    }\n",
       "\n",
       "    .dataframe thead th {\n",
       "        text-align: right;\n",
       "    }\n",
       "</style>\n",
       "<table border=\"1\" class=\"dataframe\">\n",
       "  <thead>\n",
       "    <tr style=\"text-align: right;\">\n",
       "      <th></th>\n",
       "      <th>tweet_text</th>\n",
       "      <th>cyberbullying_type</th>\n",
       "    </tr>\n",
       "  </thead>\n",
       "  <tbody>\n",
       "    <tr>\n",
       "      <th>0</th>\n",
       "      <td>In other words #katandandre, your food was cra...</td>\n",
       "      <td>not_cyberbullying</td>\n",
       "    </tr>\n",
       "    <tr>\n",
       "      <th>1</th>\n",
       "      <td>Why is #aussietv so white? #MKR #theblock #ImA...</td>\n",
       "      <td>not_cyberbullying</td>\n",
       "    </tr>\n",
       "    <tr>\n",
       "      <th>2</th>\n",
       "      <td>@XochitlSuckkks a classy whore? Or more red ve...</td>\n",
       "      <td>not_cyberbullying</td>\n",
       "    </tr>\n",
       "    <tr>\n",
       "      <th>3</th>\n",
       "      <td>@Jason_Gio meh. :P  thanks for the heads up, b...</td>\n",
       "      <td>not_cyberbullying</td>\n",
       "    </tr>\n",
       "    <tr>\n",
       "      <th>4</th>\n",
       "      <td>@RudhoeEnglish This is an ISIS account pretend...</td>\n",
       "      <td>not_cyberbullying</td>\n",
       "    </tr>\n",
       "  </tbody>\n",
       "</table>\n",
       "</div>\n",
       "      <button class=\"colab-df-convert\" onclick=\"convertToInteractive('df-30fa0a9c-3836-42dc-83b5-e52f684a89ca')\"\n",
       "              title=\"Convert this dataframe to an interactive table.\"\n",
       "              style=\"display:none;\">\n",
       "\n",
       "  <svg xmlns=\"http://www.w3.org/2000/svg\" height=\"24px\"viewBox=\"0 0 24 24\"\n",
       "       width=\"24px\">\n",
       "    <path d=\"M0 0h24v24H0V0z\" fill=\"none\"/>\n",
       "    <path d=\"M18.56 5.44l.94 2.06.94-2.06 2.06-.94-2.06-.94-.94-2.06-.94 2.06-2.06.94zm-11 1L8.5 8.5l.94-2.06 2.06-.94-2.06-.94L8.5 2.5l-.94 2.06-2.06.94zm10 10l.94 2.06.94-2.06 2.06-.94-2.06-.94-.94-2.06-.94 2.06-2.06.94z\"/><path d=\"M17.41 7.96l-1.37-1.37c-.4-.4-.92-.59-1.43-.59-.52 0-1.04.2-1.43.59L10.3 9.45l-7.72 7.72c-.78.78-.78 2.05 0 2.83L4 21.41c.39.39.9.59 1.41.59.51 0 1.02-.2 1.41-.59l7.78-7.78 2.81-2.81c.8-.78.8-2.07 0-2.86zM5.41 20L4 18.59l7.72-7.72 1.47 1.35L5.41 20z\"/>\n",
       "  </svg>\n",
       "      </button>\n",
       "\n",
       "\n",
       "\n",
       "    <div id=\"df-0752a04b-671b-4ddf-818a-39ce83c67f2d\">\n",
       "      <button class=\"colab-df-quickchart\" onclick=\"quickchart('df-0752a04b-671b-4ddf-818a-39ce83c67f2d')\"\n",
       "              title=\"Suggest charts.\"\n",
       "              style=\"display:none;\">\n",
       "\n",
       "<svg xmlns=\"http://www.w3.org/2000/svg\" height=\"24px\"viewBox=\"0 0 24 24\"\n",
       "     width=\"24px\">\n",
       "    <g>\n",
       "        <path d=\"M19 3H5c-1.1 0-2 .9-2 2v14c0 1.1.9 2 2 2h14c1.1 0 2-.9 2-2V5c0-1.1-.9-2-2-2zM9 17H7v-7h2v7zm4 0h-2V7h2v10zm4 0h-2v-4h2v4z\"/>\n",
       "    </g>\n",
       "</svg>\n",
       "      </button>\n",
       "    </div>\n",
       "\n",
       "<style>\n",
       "  .colab-df-quickchart {\n",
       "    background-color: #E8F0FE;\n",
       "    border: none;\n",
       "    border-radius: 50%;\n",
       "    cursor: pointer;\n",
       "    display: none;\n",
       "    fill: #1967D2;\n",
       "    height: 32px;\n",
       "    padding: 0 0 0 0;\n",
       "    width: 32px;\n",
       "  }\n",
       "\n",
       "  .colab-df-quickchart:hover {\n",
       "    background-color: #E2EBFA;\n",
       "    box-shadow: 0px 1px 2px rgba(60, 64, 67, 0.3), 0px 1px 3px 1px rgba(60, 64, 67, 0.15);\n",
       "    fill: #174EA6;\n",
       "  }\n",
       "\n",
       "  [theme=dark] .colab-df-quickchart {\n",
       "    background-color: #3B4455;\n",
       "    fill: #D2E3FC;\n",
       "  }\n",
       "\n",
       "  [theme=dark] .colab-df-quickchart:hover {\n",
       "    background-color: #434B5C;\n",
       "    box-shadow: 0px 1px 3px 1px rgba(0, 0, 0, 0.15);\n",
       "    filter: drop-shadow(0px 1px 2px rgba(0, 0, 0, 0.3));\n",
       "    fill: #FFFFFF;\n",
       "  }\n",
       "</style>\n",
       "\n",
       "    <script>\n",
       "      async function quickchart(key) {\n",
       "        const containerElement = document.querySelector('#' + key);\n",
       "        const charts = await google.colab.kernel.invokeFunction(\n",
       "            'suggestCharts', [key], {});\n",
       "      }\n",
       "    </script>\n",
       "\n",
       "      <script>\n",
       "\n",
       "function displayQuickchartButton(domScope) {\n",
       "  let quickchartButtonEl =\n",
       "    domScope.querySelector('#df-0752a04b-671b-4ddf-818a-39ce83c67f2d button.colab-df-quickchart');\n",
       "  quickchartButtonEl.style.display =\n",
       "    google.colab.kernel.accessAllowed ? 'block' : 'none';\n",
       "}\n",
       "\n",
       "        displayQuickchartButton(document);\n",
       "      </script>\n",
       "      <style>\n",
       "    .colab-df-container {\n",
       "      display:flex;\n",
       "      flex-wrap:wrap;\n",
       "      gap: 12px;\n",
       "    }\n",
       "\n",
       "    .colab-df-convert {\n",
       "      background-color: #E8F0FE;\n",
       "      border: none;\n",
       "      border-radius: 50%;\n",
       "      cursor: pointer;\n",
       "      display: none;\n",
       "      fill: #1967D2;\n",
       "      height: 32px;\n",
       "      padding: 0 0 0 0;\n",
       "      width: 32px;\n",
       "    }\n",
       "\n",
       "    .colab-df-convert:hover {\n",
       "      background-color: #E2EBFA;\n",
       "      box-shadow: 0px 1px 2px rgba(60, 64, 67, 0.3), 0px 1px 3px 1px rgba(60, 64, 67, 0.15);\n",
       "      fill: #174EA6;\n",
       "    }\n",
       "\n",
       "    [theme=dark] .colab-df-convert {\n",
       "      background-color: #3B4455;\n",
       "      fill: #D2E3FC;\n",
       "    }\n",
       "\n",
       "    [theme=dark] .colab-df-convert:hover {\n",
       "      background-color: #434B5C;\n",
       "      box-shadow: 0px 1px 3px 1px rgba(0, 0, 0, 0.15);\n",
       "      filter: drop-shadow(0px 1px 2px rgba(0, 0, 0, 0.3));\n",
       "      fill: #FFFFFF;\n",
       "    }\n",
       "  </style>\n",
       "\n",
       "      <script>\n",
       "        const buttonEl =\n",
       "          document.querySelector('#df-30fa0a9c-3836-42dc-83b5-e52f684a89ca button.colab-df-convert');\n",
       "        buttonEl.style.display =\n",
       "          google.colab.kernel.accessAllowed ? 'block' : 'none';\n",
       "\n",
       "        async function convertToInteractive(key) {\n",
       "          const element = document.querySelector('#df-30fa0a9c-3836-42dc-83b5-e52f684a89ca');\n",
       "          const dataTable =\n",
       "            await google.colab.kernel.invokeFunction('convertToInteractive',\n",
       "                                                     [key], {});\n",
       "          if (!dataTable) return;\n",
       "\n",
       "          const docLinkHtml = 'Like what you see? Visit the ' +\n",
       "            '<a target=\"_blank\" href=https://colab.research.google.com/notebooks/data_table.ipynb>data table notebook</a>'\n",
       "            + ' to learn more about interactive tables.';\n",
       "          element.innerHTML = '';\n",
       "          dataTable['output_type'] = 'display_data';\n",
       "          await google.colab.output.renderOutput(dataTable, element);\n",
       "          const docLink = document.createElement('div');\n",
       "          docLink.innerHTML = docLinkHtml;\n",
       "          element.appendChild(docLink);\n",
       "        }\n",
       "      </script>\n",
       "    </div>\n",
       "  </div>\n"
      ],
      "text/plain": [
       "                                          tweet_text cyberbullying_type\n",
       "0  In other words #katandandre, your food was cra...  not_cyberbullying\n",
       "1  Why is #aussietv so white? #MKR #theblock #ImA...  not_cyberbullying\n",
       "2  @XochitlSuckkks a classy whore? Or more red ve...  not_cyberbullying\n",
       "3  @Jason_Gio meh. :P  thanks for the heads up, b...  not_cyberbullying\n",
       "4  @RudhoeEnglish This is an ISIS account pretend...  not_cyberbullying"
      ]
     },
     "execution_count": 145,
     "metadata": {},
     "output_type": "execute_result"
    }
   ],
   "source": [
    "df.head()"
   ]
  },
  {
   "cell_type": "code",
   "execution_count": 146,
   "metadata": {
    "colab": {
     "base_uri": "https://localhost:8080/"
    },
    "execution": {
     "iopub.execute_input": "2023-06-02T01:55:06.854815Z",
     "iopub.status.busy": "2023-06-02T01:55:06.854309Z",
     "iopub.status.idle": "2023-06-02T01:55:06.878423Z",
     "shell.execute_reply": "2023-06-02T01:55:06.877515Z",
     "shell.execute_reply.started": "2023-06-02T01:55:06.854770Z"
    },
    "id": "PHcZV3EtsMuQ",
    "outputId": "9cb8a85f-0491-4bde-df46-4f8a6dc9b0d4"
   },
   "outputs": [
    {
     "name": "stdout",
     "output_type": "stream",
     "text": [
      "<class 'pandas.core.frame.DataFrame'>\n",
      "RangeIndex: 47692 entries, 0 to 47691\n",
      "Data columns (total 2 columns):\n",
      " #   Column              Non-Null Count  Dtype \n",
      "---  ------              --------------  ----- \n",
      " 0   tweet_text          47692 non-null  object\n",
      " 1   cyberbullying_type  47692 non-null  object\n",
      "dtypes: object(2)\n",
      "memory usage: 745.3+ KB\n"
     ]
    }
   ],
   "source": [
    "df.info()"
   ]
  },
  {
   "cell_type": "markdown",
   "metadata": {
    "id": "WvDNQIGksMuQ"
   },
   "source": [
    "First we rename the columns using shorter words for easier reference."
   ]
  },
  {
   "cell_type": "code",
   "execution_count": 147,
   "metadata": {
    "execution": {
     "iopub.execute_input": "2023-06-02T01:55:06.880184Z",
     "iopub.status.busy": "2023-06-02T01:55:06.879820Z",
     "iopub.status.idle": "2023-06-02T01:55:06.887777Z",
     "shell.execute_reply": "2023-06-02T01:55:06.886991Z",
     "shell.execute_reply.started": "2023-06-02T01:55:06.880130Z"
    },
    "id": "AwUN352x5QsK"
   },
   "outputs": [],
   "source": [
    "df = df.rename(columns={'tweet_text': 'text', 'cyberbullying_type': 'sentiment'})"
   ]
  },
  {
   "cell_type": "markdown",
   "metadata": {
    "id": "u9wTHjTcc1D7"
   },
   "source": [
    "### Are there duplicated tweets?"
   ]
  },
  {
   "cell_type": "code",
   "execution_count": 148,
   "metadata": {
    "colab": {
     "base_uri": "https://localhost:8080/"
    },
    "execution": {
     "iopub.execute_input": "2023-06-02T01:55:06.889655Z",
     "iopub.status.busy": "2023-06-02T01:55:06.889344Z",
     "iopub.status.idle": "2023-06-02T01:55:06.938405Z",
     "shell.execute_reply": "2023-06-02T01:55:06.937570Z",
     "shell.execute_reply.started": "2023-06-02T01:55:06.889617Z"
    },
    "id": "LxsqWJ_OsMuR",
    "outputId": "a9db2fc7-854b-4ebe-e02b-7b409b3aacf6"
   },
   "outputs": [
    {
     "data": {
      "text/plain": [
       "43"
      ]
     },
     "execution_count": 148,
     "metadata": {},
     "output_type": "execute_result"
    }
   ],
   "source": [
    "df.duplicated().sum()"
   ]
  },
  {
   "cell_type": "markdown",
   "metadata": {
    "id": "wH412LqusMuR"
   },
   "source": [
    "There are some duplicated tweets, we will remove them."
   ]
  },
  {
   "cell_type": "code",
   "execution_count": 149,
   "metadata": {
    "execution": {
     "iopub.execute_input": "2023-06-02T01:55:06.940080Z",
     "iopub.status.busy": "2023-06-02T01:55:06.939706Z",
     "iopub.status.idle": "2023-06-02T01:55:06.979559Z",
     "shell.execute_reply": "2023-06-02T01:55:06.978738Z",
     "shell.execute_reply.started": "2023-06-02T01:55:06.940038Z"
    },
    "id": "4u7mn7wkchxj"
   },
   "outputs": [],
   "source": [
    "df = df[~df.duplicated()]"
   ]
  },
  {
   "cell_type": "code",
   "execution_count": 150,
   "metadata": {
    "colab": {
     "base_uri": "https://localhost:8080/"
    },
    "execution": {
     "iopub.execute_input": "2023-06-02T01:55:06.981405Z",
     "iopub.status.busy": "2023-06-02T01:55:06.981110Z",
     "iopub.status.idle": "2023-06-02T01:55:07.005087Z",
     "shell.execute_reply": "2023-06-02T01:55:07.004340Z",
     "shell.execute_reply.started": "2023-06-02T01:55:06.981362Z"
    },
    "id": "oedUGlQ9crg2",
    "outputId": "2439f34a-37df-48de-fea7-b79821788614"
   },
   "outputs": [
    {
     "name": "stdout",
     "output_type": "stream",
     "text": [
      "<class 'pandas.core.frame.DataFrame'>\n",
      "Int64Index: 47649 entries, 0 to 47691\n",
      "Data columns (total 2 columns):\n",
      " #   Column     Non-Null Count  Dtype \n",
      "---  ------     --------------  ----- \n",
      " 0   text       47649 non-null  object\n",
      " 1   sentiment  47649 non-null  object\n",
      "dtypes: object(2)\n",
      "memory usage: 1.1+ MB\n"
     ]
    }
   ],
   "source": [
    "df.info()"
   ]
  },
  {
   "cell_type": "code",
   "execution_count": 151,
   "metadata": {
    "id": "GdwWyyqjsMuR"
   },
   "outputs": [],
   "source": [
    "# 由于数据集较大，抽取5000个数据进行分析\n",
    "df = df.sample(n=5000, random_state=seed_value)\n",
    "df = df.reset_index(drop=True)"
   ]
  },
  {
   "cell_type": "markdown",
   "metadata": {
    "id": "htPACYJWsMuS"
   },
   "source": [
    "### Are the classes balanced?"
   ]
  },
  {
   "cell_type": "code",
   "execution_count": 152,
   "metadata": {
    "colab": {
     "base_uri": "https://localhost:8080/"
    },
    "execution": {
     "iopub.execute_input": "2023-06-02T01:55:07.009944Z",
     "iopub.status.busy": "2023-06-02T01:55:07.009700Z",
     "iopub.status.idle": "2023-06-02T01:55:07.024715Z",
     "shell.execute_reply": "2023-06-02T01:55:07.023741Z",
     "shell.execute_reply.started": "2023-06-02T01:55:07.009912Z"
    },
    "id": "c82luV2N5QsN",
    "outputId": "ea794d46-1b97-4657-93fc-d03fc6b0e9da"
   },
   "outputs": [
    {
     "data": {
      "text/plain": [
       "gender                 877\n",
       "religion               833\n",
       "not_cyberbullying      831\n",
       "other_cyberbullying    824\n",
       "age                    820\n",
       "ethnicity              815\n",
       "Name: sentiment, dtype: int64"
      ]
     },
     "execution_count": 152,
     "metadata": {},
     "output_type": "execute_result"
    }
   ],
   "source": [
    "df.sentiment.value_counts()"
   ]
  },
  {
   "cell_type": "markdown",
   "metadata": {
    "id": "a3mhwlTTsMuS"
   },
   "source": [
    "The classes look balanced."
   ]
  },
  {
   "cell_type": "markdown",
   "metadata": {
    "execution": {
     "iopub.execute_input": "2022-01-19T09:34:52.112295Z",
     "iopub.status.busy": "2022-01-19T09:34:52.112005Z",
     "iopub.status.idle": "2022-01-19T09:34:53.14386Z",
     "shell.execute_reply": "2022-01-19T09:34:53.142913Z",
     "shell.execute_reply.started": "2022-01-19T09:34:52.112262Z"
    },
    "id": "DGmYrF4d5QsP"
   },
   "source": [
    "# Tweets text deep cleaning"
   ]
  },
  {
   "cell_type": "markdown",
   "metadata": {
    "id": "JlPcQjoYsMuS"
   },
   "source": [
    "Next, we will define custom functions to clean the texts of the tweets."
   ]
  },
  {
   "cell_type": "code",
   "execution_count": 153,
   "metadata": {
    "execution": {
     "iopub.execute_input": "2023-06-02T01:55:07.027276Z",
     "iopub.status.busy": "2023-06-02T01:55:07.026969Z",
     "iopub.status.idle": "2023-06-02T01:55:07.050047Z",
     "shell.execute_reply": "2023-06-02T01:55:07.049136Z",
     "shell.execute_reply.started": "2023-06-02T01:55:07.027237Z"
    },
    "id": "E5E1UwMc5QsQ"
   },
   "outputs": [],
   "source": [
    "# 删除表情符号\n",
    "def strip_emoji(text):\n",
    "    return demoji.replace(text, '')\n",
    "\n",
    "# 删除标点，停用词， 网址, mentions and 换行符\n",
    "def strip_all_entities(text):\n",
    "    text = re.sub(r'\\r|\\n', ' ', text.lower())  # Replace newline and carriage return with space, and convert to lowercase\n",
    "    text = re.sub(r\"(?:\\@|https?\\://)\\S+\", \"\", text)  # Remove links and mentions\n",
    "    text = re.sub(r'[^\\x00-\\x7f]', '', text)  # Remove non-ASCII characters\n",
    "    banned_list = string.punctuation\n",
    "    table = str.maketrans('', '', banned_list)\n",
    "    text = text.translate(table)\n",
    "    text = ' '.join(word for word in text.split() if word not in stop_words)\n",
    "    return text\n",
    "\n",
    "# 删除句尾和句中的井号键\n",
    "def clean_hashtags(tweet):\n",
    "    # Remove hashtags at the end of the sentence\n",
    "    new_tweet = re.sub(r'(\\s+#[\\w-]+)+\\s*$', '', tweet).strip()\n",
    "\n",
    "    # Remove the # symbol from hashtags in the middle of the sentence\n",
    "    new_tweet = re.sub(r'#([\\w-]+)', r'\\1', new_tweet).strip()\n",
    "\n",
    "    return new_tweet\n",
    "\n",
    "# 删除特殊符号\n",
    "def filter_chars(text):\n",
    "    return ' '.join('' if ('$' in word) or ('&' in word) else word for word in text.split())\n",
    "\n",
    "# 删除多个空格\n",
    "def remove_mult_spaces(text):\n",
    "    return re.sub(r\"\\s\\s+\", \" \", text)\n",
    "\n",
    "# 删除不是英语的推特\n",
    "def filter_non_english(text):\n",
    "    try:\n",
    "        lang = detect(text)\n",
    "    except LangDetectException:\n",
    "        lang = \"unknown\"\n",
    "    return text if lang == \"en\" else \"\"\n",
    "\n",
    "# 恢复单词缩写\n",
    "def expand_contractions(text):\n",
    "    return contractions.fix(text)\n",
    "\n",
    "# 去除数字\n",
    "def remove_numbers(text):\n",
    "    return re.sub(r'\\d+', '', text)\n",
    "\n",
    "# 词形还原\n",
    "def lemmatize(text):\n",
    "    words = word_tokenize(text)\n",
    "    lemmatized_words = [lemmatizer.lemmatize(word) for word in words]\n",
    "    return ' '.join(lemmatized_words)\n",
    "\n",
    "# 删除短的词汇（长度小于等于2）\n",
    "def remove_short_words(text, min_len=2):\n",
    "    words = text.split()\n",
    "    long_words = [word for word in words if len(word) >= min_len]\n",
    "    return ' '.join(long_words)\n",
    "\n",
    "# Replace elongated words with their base form\n",
    "def replace_elongated_words(text):\n",
    "    regex_pattern = r'\\b(\\w+)((\\w)\\3{2,})(\\w*)\\b'\n",
    "    return re.sub(regex_pattern, r'\\1\\3\\4', text)\n",
    "\n",
    "# 删除重复标点\n",
    "def remove_repeated_punctuation(text):\n",
    "    return re.sub(r'[\\?\\.\\!]+(?=[\\?\\.\\!])', '', text)\n",
    "\n",
    "# 删除多余的空格\n",
    "def remove_extra_whitespace(text):\n",
    "    return ' '.join(text.split())\n",
    "\n",
    "def remove_url_shorteners(text):\n",
    "    return re.sub(r'(?:http[s]?://)?(?:www\\.)?(?:bit\\.ly|goo\\.gl|t\\.co|tinyurl\\.com|tr\\.im|is\\.gd|cli\\.gs|u\\.nu|url\\.ie|tiny\\.cc|alturl\\.com|ow\\.ly|bit\\.do|adoro\\.to)\\S+', '', text)\n",
    "\n",
    "# 删除推特首尾的空格\n",
    "def remove_spaces_tweets(tweet):\n",
    "    return tweet.strip()\n",
    "\n",
    "# 删除数量小于3个单词的推特\n",
    "def remove_short_tweets(tweet, min_words=3):\n",
    "    words = tweet.split()\n",
    "    return tweet if len(words) >= min_words else \"\"\n",
    "\n",
    "# 调用上述所有函数\n",
    "def clean_tweet(tweet):\n",
    "    tweet = strip_emoji(tweet)\n",
    "    tweet = expand_contractions(tweet)\n",
    "    tweet = filter_non_english(tweet)\n",
    "    tweet = strip_all_entities(tweet)\n",
    "    tweet = clean_hashtags(tweet)\n",
    "    tweet = filter_chars(tweet)\n",
    "    tweet = remove_mult_spaces(tweet)\n",
    "    tweet = remove_numbers(tweet)\n",
    "    tweet = lemmatize(tweet)\n",
    "    tweet = remove_short_words(tweet)\n",
    "    tweet = replace_elongated_words(tweet)\n",
    "    tweet = remove_repeated_punctuation(tweet)\n",
    "    tweet = remove_extra_whitespace(tweet)\n",
    "    tweet = remove_url_shorteners(tweet)\n",
    "    tweet = remove_spaces_tweets(tweet)\n",
    "    tweet = remove_short_tweets(tweet)\n",
    "    tweet = ' '.join(tweet.split())  # Remove multiple spaces between words\n",
    "    return tweet"
   ]
  },
  {
   "cell_type": "code",
   "execution_count": 154,
   "metadata": {
    "id": "DymOPyekHsWR"
   },
   "outputs": [],
   "source": [
    "df['text_clean'] = [clean_tweet(tweet) for tweet in df['text']]"
   ]
  },
  {
   "cell_type": "code",
   "execution_count": 155,
   "metadata": {
    "colab": {
     "base_uri": "https://localhost:8080/",
     "height": 206
    },
    "id": "nfJYDK7aHtB-",
    "outputId": "2e4481c7-50d0-4293-9b71-54c7bfaac636"
   },
   "outputs": [
    {
     "data": {
      "text/html": [
       "\n",
       "\n",
       "  <div id=\"df-e051a336-086b-4d96-9a1a-f8941f682575\">\n",
       "    <div class=\"colab-df-container\">\n",
       "      <div>\n",
       "<style scoped>\n",
       "    .dataframe tbody tr th:only-of-type {\n",
       "        vertical-align: middle;\n",
       "    }\n",
       "\n",
       "    .dataframe tbody tr th {\n",
       "        vertical-align: top;\n",
       "    }\n",
       "\n",
       "    .dataframe thead th {\n",
       "        text-align: right;\n",
       "    }\n",
       "</style>\n",
       "<table border=\"1\" class=\"dataframe\">\n",
       "  <thead>\n",
       "    <tr style=\"text-align: right;\">\n",
       "      <th></th>\n",
       "      <th>text</th>\n",
       "      <th>sentiment</th>\n",
       "      <th>text_clean</th>\n",
       "    </tr>\n",
       "  </thead>\n",
       "  <tbody>\n",
       "    <tr>\n",
       "      <th>0</th>\n",
       "      <td>The girl that used to bully me in high school ...</td>\n",
       "      <td>age</td>\n",
       "      <td>girl used bully high school told happy birthda...</td>\n",
       "    </tr>\n",
       "    <tr>\n",
       "      <th>1</th>\n",
       "      <td>@FanTaStIK_Zae2 big ass bully!</td>\n",
       "      <td>other_cyberbullying</td>\n",
       "      <td>big as bully</td>\n",
       "    </tr>\n",
       "    <tr>\n",
       "      <th>2</th>\n",
       "      <td>LMAO THIS GIRL WHO BULLIED ME IN HIGH SCHOOL T...</td>\n",
       "      <td>age</td>\n",
       "      <td>lmao girl bullied high school tried get boyfri...</td>\n",
       "    </tr>\n",
       "    <tr>\n",
       "      <th>3</th>\n",
       "      <td>I'm wearing sweat pants with flats in Walmart....</td>\n",
       "      <td>not_cyberbullying</td>\n",
       "      <td>wearing sweat pant flat walmart classy</td>\n",
       "    </tr>\n",
       "    <tr>\n",
       "      <th>4</th>\n",
       "      <td>Fuck me I hate Kat if she doesn't leave I swea...</td>\n",
       "      <td>gender</td>\n",
       "      <td>fuck hate kat leave swear mkr</td>\n",
       "    </tr>\n",
       "  </tbody>\n",
       "</table>\n",
       "</div>\n",
       "      <button class=\"colab-df-convert\" onclick=\"convertToInteractive('df-e051a336-086b-4d96-9a1a-f8941f682575')\"\n",
       "              title=\"Convert this dataframe to an interactive table.\"\n",
       "              style=\"display:none;\">\n",
       "\n",
       "  <svg xmlns=\"http://www.w3.org/2000/svg\" height=\"24px\"viewBox=\"0 0 24 24\"\n",
       "       width=\"24px\">\n",
       "    <path d=\"M0 0h24v24H0V0z\" fill=\"none\"/>\n",
       "    <path d=\"M18.56 5.44l.94 2.06.94-2.06 2.06-.94-2.06-.94-.94-2.06-.94 2.06-2.06.94zm-11 1L8.5 8.5l.94-2.06 2.06-.94-2.06-.94L8.5 2.5l-.94 2.06-2.06.94zm10 10l.94 2.06.94-2.06 2.06-.94-2.06-.94-.94-2.06-.94 2.06-2.06.94z\"/><path d=\"M17.41 7.96l-1.37-1.37c-.4-.4-.92-.59-1.43-.59-.52 0-1.04.2-1.43.59L10.3 9.45l-7.72 7.72c-.78.78-.78 2.05 0 2.83L4 21.41c.39.39.9.59 1.41.59.51 0 1.02-.2 1.41-.59l7.78-7.78 2.81-2.81c.8-.78.8-2.07 0-2.86zM5.41 20L4 18.59l7.72-7.72 1.47 1.35L5.41 20z\"/>\n",
       "  </svg>\n",
       "      </button>\n",
       "\n",
       "\n",
       "\n",
       "    <div id=\"df-d5d9149f-5ccf-4f0f-9c30-3b0c15356a68\">\n",
       "      <button class=\"colab-df-quickchart\" onclick=\"quickchart('df-d5d9149f-5ccf-4f0f-9c30-3b0c15356a68')\"\n",
       "              title=\"Suggest charts.\"\n",
       "              style=\"display:none;\">\n",
       "\n",
       "<svg xmlns=\"http://www.w3.org/2000/svg\" height=\"24px\"viewBox=\"0 0 24 24\"\n",
       "     width=\"24px\">\n",
       "    <g>\n",
       "        <path d=\"M19 3H5c-1.1 0-2 .9-2 2v14c0 1.1.9 2 2 2h14c1.1 0 2-.9 2-2V5c0-1.1-.9-2-2-2zM9 17H7v-7h2v7zm4 0h-2V7h2v10zm4 0h-2v-4h2v4z\"/>\n",
       "    </g>\n",
       "</svg>\n",
       "      </button>\n",
       "    </div>\n",
       "\n",
       "<style>\n",
       "  .colab-df-quickchart {\n",
       "    background-color: #E8F0FE;\n",
       "    border: none;\n",
       "    border-radius: 50%;\n",
       "    cursor: pointer;\n",
       "    display: none;\n",
       "    fill: #1967D2;\n",
       "    height: 32px;\n",
       "    padding: 0 0 0 0;\n",
       "    width: 32px;\n",
       "  }\n",
       "\n",
       "  .colab-df-quickchart:hover {\n",
       "    background-color: #E2EBFA;\n",
       "    box-shadow: 0px 1px 2px rgba(60, 64, 67, 0.3), 0px 1px 3px 1px rgba(60, 64, 67, 0.15);\n",
       "    fill: #174EA6;\n",
       "  }\n",
       "\n",
       "  [theme=dark] .colab-df-quickchart {\n",
       "    background-color: #3B4455;\n",
       "    fill: #D2E3FC;\n",
       "  }\n",
       "\n",
       "  [theme=dark] .colab-df-quickchart:hover {\n",
       "    background-color: #434B5C;\n",
       "    box-shadow: 0px 1px 3px 1px rgba(0, 0, 0, 0.15);\n",
       "    filter: drop-shadow(0px 1px 2px rgba(0, 0, 0, 0.3));\n",
       "    fill: #FFFFFF;\n",
       "  }\n",
       "</style>\n",
       "\n",
       "    <script>\n",
       "      async function quickchart(key) {\n",
       "        const containerElement = document.querySelector('#' + key);\n",
       "        const charts = await google.colab.kernel.invokeFunction(\n",
       "            'suggestCharts', [key], {});\n",
       "      }\n",
       "    </script>\n",
       "\n",
       "      <script>\n",
       "\n",
       "function displayQuickchartButton(domScope) {\n",
       "  let quickchartButtonEl =\n",
       "    domScope.querySelector('#df-d5d9149f-5ccf-4f0f-9c30-3b0c15356a68 button.colab-df-quickchart');\n",
       "  quickchartButtonEl.style.display =\n",
       "    google.colab.kernel.accessAllowed ? 'block' : 'none';\n",
       "}\n",
       "\n",
       "        displayQuickchartButton(document);\n",
       "      </script>\n",
       "      <style>\n",
       "    .colab-df-container {\n",
       "      display:flex;\n",
       "      flex-wrap:wrap;\n",
       "      gap: 12px;\n",
       "    }\n",
       "\n",
       "    .colab-df-convert {\n",
       "      background-color: #E8F0FE;\n",
       "      border: none;\n",
       "      border-radius: 50%;\n",
       "      cursor: pointer;\n",
       "      display: none;\n",
       "      fill: #1967D2;\n",
       "      height: 32px;\n",
       "      padding: 0 0 0 0;\n",
       "      width: 32px;\n",
       "    }\n",
       "\n",
       "    .colab-df-convert:hover {\n",
       "      background-color: #E2EBFA;\n",
       "      box-shadow: 0px 1px 2px rgba(60, 64, 67, 0.3), 0px 1px 3px 1px rgba(60, 64, 67, 0.15);\n",
       "      fill: #174EA6;\n",
       "    }\n",
       "\n",
       "    [theme=dark] .colab-df-convert {\n",
       "      background-color: #3B4455;\n",
       "      fill: #D2E3FC;\n",
       "    }\n",
       "\n",
       "    [theme=dark] .colab-df-convert:hover {\n",
       "      background-color: #434B5C;\n",
       "      box-shadow: 0px 1px 3px 1px rgba(0, 0, 0, 0.15);\n",
       "      filter: drop-shadow(0px 1px 2px rgba(0, 0, 0, 0.3));\n",
       "      fill: #FFFFFF;\n",
       "    }\n",
       "  </style>\n",
       "\n",
       "      <script>\n",
       "        const buttonEl =\n",
       "          document.querySelector('#df-e051a336-086b-4d96-9a1a-f8941f682575 button.colab-df-convert');\n",
       "        buttonEl.style.display =\n",
       "          google.colab.kernel.accessAllowed ? 'block' : 'none';\n",
       "\n",
       "        async function convertToInteractive(key) {\n",
       "          const element = document.querySelector('#df-e051a336-086b-4d96-9a1a-f8941f682575');\n",
       "          const dataTable =\n",
       "            await google.colab.kernel.invokeFunction('convertToInteractive',\n",
       "                                                     [key], {});\n",
       "          if (!dataTable) return;\n",
       "\n",
       "          const docLinkHtml = 'Like what you see? Visit the ' +\n",
       "            '<a target=\"_blank\" href=https://colab.research.google.com/notebooks/data_table.ipynb>data table notebook</a>'\n",
       "            + ' to learn more about interactive tables.';\n",
       "          element.innerHTML = '';\n",
       "          dataTable['output_type'] = 'display_data';\n",
       "          await google.colab.output.renderOutput(dataTable, element);\n",
       "          const docLink = document.createElement('div');\n",
       "          docLink.innerHTML = docLinkHtml;\n",
       "          element.appendChild(docLink);\n",
       "        }\n",
       "      </script>\n",
       "    </div>\n",
       "  </div>\n"
      ],
      "text/plain": [
       "                                                text            sentiment  \\\n",
       "0  The girl that used to bully me in high school ...                  age   \n",
       "1                     @FanTaStIK_Zae2 big ass bully!  other_cyberbullying   \n",
       "2  LMAO THIS GIRL WHO BULLIED ME IN HIGH SCHOOL T...                  age   \n",
       "3  I'm wearing sweat pants with flats in Walmart....    not_cyberbullying   \n",
       "4  Fuck me I hate Kat if she doesn't leave I swea...               gender   \n",
       "\n",
       "                                          text_clean  \n",
       "0  girl used bully high school told happy birthda...  \n",
       "1                                       big as bully  \n",
       "2  lmao girl bullied high school tried get boyfri...  \n",
       "3             wearing sweat pant flat walmart classy  \n",
       "4                      fuck hate kat leave swear mkr  "
      ]
     },
     "execution_count": 155,
     "metadata": {},
     "output_type": "execute_result"
    }
   ],
   "source": [
    "df.head()"
   ]
  },
  {
   "cell_type": "markdown",
   "metadata": {
    "id": "Ac4UXiOCsMuT"
   },
   "source": [
    "### Are there duplicate tweets after the cleaning?"
   ]
  },
  {
   "cell_type": "code",
   "execution_count": 156,
   "metadata": {
    "colab": {
     "base_uri": "https://localhost:8080/"
    },
    "execution": {
     "iopub.execute_input": "2023-06-02T02:03:23.958348Z",
     "iopub.status.busy": "2023-06-02T02:03:23.958070Z",
     "iopub.status.idle": "2023-06-02T02:03:23.976094Z",
     "shell.execute_reply": "2023-06-02T02:03:23.975338Z",
     "shell.execute_reply.started": "2023-06-02T02:03:23.958311Z"
    },
    "id": "jJHwXvGYsMuT",
    "outputId": "ec6ddec5-8f77-491d-9461-c6e30d6449a3"
   },
   "outputs": [
    {
     "name": "stdout",
     "output_type": "stream",
     "text": [
      "There are around 527 duplicated tweets, we will remove them.\n"
     ]
    }
   ],
   "source": [
    "print(f'There are around {int(df[\"text_clean\"].duplicated().sum())} duplicated tweets, we will remove them.')"
   ]
  },
  {
   "cell_type": "code",
   "execution_count": 157,
   "metadata": {
    "execution": {
     "iopub.execute_input": "2023-06-02T02:03:23.978088Z",
     "iopub.status.busy": "2023-06-02T02:03:23.977743Z",
     "iopub.status.idle": "2023-06-02T02:03:24.007089Z",
     "shell.execute_reply": "2023-06-02T02:03:24.006308Z",
     "shell.execute_reply.started": "2023-06-02T02:03:23.978047Z"
    },
    "id": "uA9xFlm9sMuT"
   },
   "outputs": [],
   "source": [
    "df.drop_duplicates(\"text_clean\", inplace=True)"
   ]
  },
  {
   "cell_type": "markdown",
   "metadata": {
    "id": "BOxikVXGsMuT"
   },
   "source": [
    "We removed the duplicated cleaned tweets. How is the class balance after the cleaning?"
   ]
  },
  {
   "cell_type": "code",
   "execution_count": 158,
   "metadata": {
    "colab": {
     "base_uri": "https://localhost:8080/"
    },
    "execution": {
     "iopub.execute_input": "2023-06-02T02:03:24.008795Z",
     "iopub.status.busy": "2023-06-02T02:03:24.008492Z",
     "iopub.status.idle": "2023-06-02T02:03:24.020196Z",
     "shell.execute_reply": "2023-06-02T02:03:24.019209Z",
     "shell.execute_reply.started": "2023-06-02T02:03:24.008751Z"
    },
    "id": "0cdAYJpGsMuT",
    "outputId": "1ebb1b22-bae0-4ed2-ea80-64928641c542"
   },
   "outputs": [
    {
     "data": {
      "text/plain": [
       "religion               828\n",
       "gender                 818\n",
       "age                    809\n",
       "ethnicity              769\n",
       "not_cyberbullying      638\n",
       "other_cyberbullying    611\n",
       "Name: sentiment, dtype: int64"
      ]
     },
     "execution_count": 158,
     "metadata": {},
     "output_type": "execute_result"
    }
   ],
   "source": [
    "df.sentiment.value_counts()"
   ]
  },
  {
   "cell_type": "markdown",
   "metadata": {
    "id": "9atav2HdsMuU"
   },
   "source": [
    "We can see that lots of tweets of the class \"other_cyberbullying\" have been removed. Since the class is very unbalanced compared to the other classes and looks too \"generic\", we decide to remove the tweets labeled belonging to this class.<br>\n",
    "EDIT: by performing some tests, the f1 score for predicting the \"other_cyberbullying\" resulted to be around 60%, a value far lower compared to the othter f1 scores (around 95% using LSTM model). This supports the decision of removing this generic class."
   ]
  },
  {
   "cell_type": "code",
   "execution_count": 159,
   "metadata": {
    "execution": {
     "iopub.execute_input": "2023-06-02T02:03:24.022039Z",
     "iopub.status.busy": "2023-06-02T02:03:24.021691Z",
     "iopub.status.idle": "2023-06-02T02:03:24.037187Z",
     "shell.execute_reply": "2023-06-02T02:03:24.036422Z",
     "shell.execute_reply.started": "2023-06-02T02:03:24.021997Z"
    },
    "id": "IZtmrrkcsMuU"
   },
   "outputs": [],
   "source": [
    "df = df[df[\"sentiment\"]!=\"other_cyberbullying\"]"
   ]
  },
  {
   "cell_type": "markdown",
   "metadata": {
    "id": "fGE9LfeBsMuU"
   },
   "source": [
    "Then we also define a list of the classes names, which will be useful for the future plots."
   ]
  },
  {
   "cell_type": "code",
   "execution_count": 160,
   "metadata": {
    "execution": {
     "iopub.execute_input": "2023-06-02T02:03:24.039132Z",
     "iopub.status.busy": "2023-06-02T02:03:24.038366Z",
     "iopub.status.idle": "2023-06-02T02:03:24.044996Z",
     "shell.execute_reply": "2023-06-02T02:03:24.044134Z",
     "shell.execute_reply.started": "2023-06-02T02:03:24.039092Z"
    },
    "id": "3EI7okLOsMuU"
   },
   "outputs": [],
   "source": [
    "sentiments = [\"religion\",\"age\",\"ethnicity\",\"gender\",\"not bullying\"]"
   ]
  },
  {
   "cell_type": "markdown",
   "metadata": {
    "id": "BjhXZGGCsMud"
   },
   "source": [
    "# Tweets length analysis"
   ]
  },
  {
   "cell_type": "markdown",
   "metadata": {
    "id": "X-eYqXCosMue"
   },
   "source": [
    "Now we will define a new dataframe column containing the length of the cleaned tweets in terms of number of words."
   ]
  },
  {
   "cell_type": "code",
   "execution_count": 161,
   "metadata": {
    "colab": {
     "base_uri": "https://localhost:8080/"
    },
    "execution": {
     "iopub.execute_input": "2023-06-02T02:03:24.046896Z",
     "iopub.status.busy": "2023-06-02T02:03:24.046599Z",
     "iopub.status.idle": "2023-06-02T02:03:24.106733Z",
     "shell.execute_reply": "2023-06-02T02:03:24.105946Z",
     "shell.execute_reply.started": "2023-06-02T02:03:24.046857Z"
    },
    "id": "vQsHVXTA5QsV",
    "outputId": "5fbb4deb-1ecd-4a82-eb1e-368d8257bf43"
   },
   "outputs": [
    {
     "name": "stderr",
     "output_type": "stream",
     "text": [
      "<ipython-input-161-fe586f79ef4e>:1: SettingWithCopyWarning: \n",
      "A value is trying to be set on a copy of a slice from a DataFrame.\n",
      "Try using .loc[row_indexer,col_indexer] = value instead\n",
      "\n",
      "See the caveats in the documentation: https://pandas.pydata.org/pandas-docs/stable/user_guide/indexing.html#returning-a-view-versus-a-copy\n",
      "  df['text_len'] = [len(text.split()) for text in df.text_clean]\n"
     ]
    }
   ],
   "source": [
    "df['text_len'] = [len(text.split()) for text in df.text_clean]"
   ]
  },
  {
   "cell_type": "code",
   "execution_count": 162,
   "metadata": {
    "_kg_hide-input": true,
    "colab": {
     "base_uri": "https://localhost:8080/",
     "height": 506
    },
    "execution": {
     "iopub.execute_input": "2023-06-02T02:03:24.109947Z",
     "iopub.status.busy": "2023-06-02T02:03:24.109739Z",
     "iopub.status.idle": "2023-06-02T02:03:24.451036Z",
     "shell.execute_reply": "2023-06-02T02:03:24.450262Z",
     "shell.execute_reply.started": "2023-06-02T02:03:24.109919Z"
    },
    "id": "HZcu8uGh5QsW",
    "outputId": "deac6e9c-36b3-40d7-82f4-05985c91e156"
   },
   "outputs": [
    {
     "data": {
      "image/png": "[encoded data removed]",
      "text/plain": [
       "<Figure size 700x500 with 1 Axes>"
      ]
     },
     "metadata": {},
     "output_type": "display_data"
    }
   ],
   "source": [
    "plt.figure(figsize=(7,5))\n",
    "ax = sns.countplot(x='text_len', data=df[df['text_len']<10], palette='mako')\n",
    "plt.title('Count of tweets with less than 10 words', fontsize=20)\n",
    "plt.yticks([])\n",
    "ax.bar_label(ax.containers[0])\n",
    "plt.ylabel('count')\n",
    "plt.xlabel('')\n",
    "plt.show()"
   ]
  },
  {
   "cell_type": "markdown",
   "metadata": {
    "id": "fmN9566u5QsX"
   },
   "source": [
    "### What about long tweets?"
   ]
  },
  {
   "cell_type": "code",
   "execution_count": 163,
   "metadata": {
    "colab": {
     "base_uri": "https://localhost:8080/",
     "height": 424
    },
    "execution": {
     "iopub.execute_input": "2023-06-02T02:03:24.453325Z",
     "iopub.status.busy": "2023-06-02T02:03:24.452453Z",
     "iopub.status.idle": "2023-06-02T02:03:24.486382Z",
     "shell.execute_reply": "2023-06-02T02:03:24.485591Z",
     "shell.execute_reply.started": "2023-06-02T02:03:24.453279Z"
    },
    "id": "2Dv2aZRv5QsY",
    "outputId": "29d263c8-0880-44a9-b03c-c6d3852ed68e"
   },
   "outputs": [
    {
     "data": {
      "text/html": [
       "\n",
       "\n",
       "  <div id=\"df-8f7a6b04-a4cc-46ee-8ca7-929f84dc3ccc\">\n",
       "    <div class=\"colab-df-container\">\n",
       "      <div>\n",
       "<style scoped>\n",
       "    .dataframe tbody tr th:only-of-type {\n",
       "        vertical-align: middle;\n",
       "    }\n",
       "\n",
       "    .dataframe tbody tr th {\n",
       "        vertical-align: top;\n",
       "    }\n",
       "\n",
       "    .dataframe thead th {\n",
       "        text-align: right;\n",
       "    }\n",
       "</style>\n",
       "<table border=\"1\" class=\"dataframe\">\n",
       "  <thead>\n",
       "    <tr style=\"text-align: right;\">\n",
       "      <th></th>\n",
       "      <th>text</th>\n",
       "      <th>sentiment</th>\n",
       "      <th>text_clean</th>\n",
       "      <th>text_len</th>\n",
       "    </tr>\n",
       "  </thead>\n",
       "  <tbody>\n",
       "    <tr>\n",
       "      <th>3207</th>\n",
       "      <td>Fuck Fuck georgegambnino georgegambnino Nigeri...</td>\n",
       "      <td>ethnicity</td>\n",
       "      <td>fuck fuck georgegambnino georgegambnino nigeri...</td>\n",
       "      <td>38</td>\n",
       "    </tr>\n",
       "    <tr>\n",
       "      <th>106</th>\n",
       "      <td>Matt lindo is a BIG WEIRDO&amp; has always been si...</td>\n",
       "      <td>age</td>\n",
       "      <td>matt lindo big weirdo always since literally m...</td>\n",
       "      <td>36</td>\n",
       "    </tr>\n",
       "    <tr>\n",
       "      <th>3042</th>\n",
       "      <td>Mother's and son Dre (Jaden Smith) move to Chi...</td>\n",
       "      <td>age</td>\n",
       "      <td>mother son dre jaden smith move china job know...</td>\n",
       "      <td>36</td>\n",
       "    </tr>\n",
       "    <tr>\n",
       "      <th>3816</th>\n",
       "      <td>Get out the way #LGBTI COMMUNITY ACTIVIST ADVI...</td>\n",
       "      <td>gender</td>\n",
       "      <td>get way lgbti community activist advised one n...</td>\n",
       "      <td>36</td>\n",
       "    </tr>\n",
       "    <tr>\n",
       "      <th>2116</th>\n",
       "      <td>Fuck Fuck georgegambnino lickmykakez Nigeria N...</td>\n",
       "      <td>ethnicity</td>\n",
       "      <td>fuck fuck georgegambnino lickmykakez nigeria n...</td>\n",
       "      <td>35</td>\n",
       "    </tr>\n",
       "    <tr>\n",
       "      <th>...</th>\n",
       "      <td>...</td>\n",
       "      <td>...</td>\n",
       "      <td>...</td>\n",
       "      <td>...</td>\n",
       "    </tr>\n",
       "    <tr>\n",
       "      <th>1635</th>\n",
       "      <td>@lininger7 @natk16 @courthelml fuck you you du...</td>\n",
       "      <td>ethnicity</td>\n",
       "      <td>fuck dumb nigger</td>\n",
       "      <td>3</td>\n",
       "    </tr>\n",
       "    <tr>\n",
       "      <th>1649</th>\n",
       "      <td>@spoonsclass Merry Christmas to all of you fro...</td>\n",
       "      <td>not_cyberbullying</td>\n",
       "      <td>merry christmas heart</td>\n",
       "      <td>3</td>\n",
       "    </tr>\n",
       "    <tr>\n",
       "      <th>4189</th>\n",
       "      <td>Who hasn't cooked on a BBQ before?! #mkr</td>\n",
       "      <td>not_cyberbullying</td>\n",
       "      <td>cooked bbq mkr</td>\n",
       "      <td>3</td>\n",
       "    </tr>\n",
       "    <tr>\n",
       "      <th>4708</th>\n",
       "      <td>More shit that dudes don't have to put up with...</td>\n",
       "      <td>not_cyberbullying</td>\n",
       "      <td>shit dude put</td>\n",
       "      <td>3</td>\n",
       "    </tr>\n",
       "    <tr>\n",
       "      <th>10</th>\n",
       "      <td>@eaballesty @tim_geelen No True Scotsman...</td>\n",
       "      <td>not_cyberbullying</td>\n",
       "      <td></td>\n",
       "      <td>0</td>\n",
       "    </tr>\n",
       "  </tbody>\n",
       "</table>\n",
       "<p>3862 rows × 4 columns</p>\n",
       "</div>\n",
       "      <button class=\"colab-df-convert\" onclick=\"convertToInteractive('df-8f7a6b04-a4cc-46ee-8ca7-929f84dc3ccc')\"\n",
       "              title=\"Convert this dataframe to an interactive table.\"\n",
       "              style=\"display:none;\">\n",
       "\n",
       "  <svg xmlns=\"http://www.w3.org/2000/svg\" height=\"24px\"viewBox=\"0 0 24 24\"\n",
       "       width=\"24px\">\n",
       "    <path d=\"M0 0h24v24H0V0z\" fill=\"none\"/>\n",
       "    <path d=\"M18.56 5.44l.94 2.06.94-2.06 2.06-.94-2.06-.94-.94-2.06-.94 2.06-2.06.94zm-11 1L8.5 8.5l.94-2.06 2.06-.94-2.06-.94L8.5 2.5l-.94 2.06-2.06.94zm10 10l.94 2.06.94-2.06 2.06-.94-2.06-.94-.94-2.06-.94 2.06-2.06.94z\"/><path d=\"M17.41 7.96l-1.37-1.37c-.4-.4-.92-.59-1.43-.59-.52 0-1.04.2-1.43.59L10.3 9.45l-7.72 7.72c-.78.78-.78 2.05 0 2.83L4 21.41c.39.39.9.59 1.41.59.51 0 1.02-.2 1.41-.59l7.78-7.78 2.81-2.81c.8-.78.8-2.07 0-2.86zM5.41 20L4 18.59l7.72-7.72 1.47 1.35L5.41 20z\"/>\n",
       "  </svg>\n",
       "      </button>\n",
       "\n",
       "\n",
       "\n",
       "    <div id=\"df-9aa9f50b-62ce-428f-8995-ac769b426fe2\">\n",
       "      <button class=\"colab-df-quickchart\" onclick=\"quickchart('df-9aa9f50b-62ce-428f-8995-ac769b426fe2')\"\n",
       "              title=\"Suggest charts.\"\n",
       "              style=\"display:none;\">\n",
       "\n",
       "<svg xmlns=\"http://www.w3.org/2000/svg\" height=\"24px\"viewBox=\"0 0 24 24\"\n",
       "     width=\"24px\">\n",
       "    <g>\n",
       "        <path d=\"M19 3H5c-1.1 0-2 .9-2 2v14c0 1.1.9 2 2 2h14c1.1 0 2-.9 2-2V5c0-1.1-.9-2-2-2zM9 17H7v-7h2v7zm4 0h-2V7h2v10zm4 0h-2v-4h2v4z\"/>\n",
       "    </g>\n",
       "</svg>\n",
       "      </button>\n",
       "    </div>\n",
       "\n",
       "<style>\n",
       "  .colab-df-quickchart {\n",
       "    background-color: #E8F0FE;\n",
       "    border: none;\n",
       "    border-radius: 50%;\n",
       "    cursor: pointer;\n",
       "    display: none;\n",
       "    fill: #1967D2;\n",
       "    height: 32px;\n",
       "    padding: 0 0 0 0;\n",
       "    width: 32px;\n",
       "  }\n",
       "\n",
       "  .colab-df-quickchart:hover {\n",
       "    background-color: #E2EBFA;\n",
       "    box-shadow: 0px 1px 2px rgba(60, 64, 67, 0.3), 0px 1px 3px 1px rgba(60, 64, 67, 0.15);\n",
       "    fill: #174EA6;\n",
       "  }\n",
       "\n",
       "  [theme=dark] .colab-df-quickchart {\n",
       "    background-color: #3B4455;\n",
       "    fill: #D2E3FC;\n",
       "  }\n",
       "\n",
       "  [theme=dark] .colab-df-quickchart:hover {\n",
       "    background-color: #434B5C;\n",
       "    box-shadow: 0px 1px 3px 1px rgba(0, 0, 0, 0.15);\n",
       "    filter: drop-shadow(0px 1px 2px rgba(0, 0, 0, 0.3));\n",
       "    fill: #FFFFFF;\n",
       "  }\n",
       "</style>\n",
       "\n",
       "    <script>\n",
       "      async function quickchart(key) {\n",
       "        const containerElement = document.querySelector('#' + key);\n",
       "        const charts = await google.colab.kernel.invokeFunction(\n",
       "            'suggestCharts', [key], {});\n",
       "      }\n",
       "    </script>\n",
       "\n",
       "      <script>\n",
       "\n",
       "function displayQuickchartButton(domScope) {\n",
       "  let quickchartButtonEl =\n",
       "    domScope.querySelector('#df-9aa9f50b-62ce-428f-8995-ac769b426fe2 button.colab-df-quickchart');\n",
       "  quickchartButtonEl.style.display =\n",
       "    google.colab.kernel.accessAllowed ? 'block' : 'none';\n",
       "}\n",
       "\n",
       "        displayQuickchartButton(document);\n",
       "      </script>\n",
       "      <style>\n",
       "    .colab-df-container {\n",
       "      display:flex;\n",
       "      flex-wrap:wrap;\n",
       "      gap: 12px;\n",
       "    }\n",
       "\n",
       "    .colab-df-convert {\n",
       "      background-color: #E8F0FE;\n",
       "      border: none;\n",
       "      border-radius: 50%;\n",
       "      cursor: pointer;\n",
       "      display: none;\n",
       "      fill: #1967D2;\n",
       "      height: 32px;\n",
       "      padding: 0 0 0 0;\n",
       "      width: 32px;\n",
       "    }\n",
       "\n",
       "    .colab-df-convert:hover {\n",
       "      background-color: #E2EBFA;\n",
       "      box-shadow: 0px 1px 2px rgba(60, 64, 67, 0.3), 0px 1px 3px 1px rgba(60, 64, 67, 0.15);\n",
       "      fill: #174EA6;\n",
       "    }\n",
       "\n",
       "    [theme=dark] .colab-df-convert {\n",
       "      background-color: #3B4455;\n",
       "      fill: #D2E3FC;\n",
       "    }\n",
       "\n",
       "    [theme=dark] .colab-df-convert:hover {\n",
       "      background-color: #434B5C;\n",
       "      box-shadow: 0px 1px 3px 1px rgba(0, 0, 0, 0.15);\n",
       "      filter: drop-shadow(0px 1px 2px rgba(0, 0, 0, 0.3));\n",
       "      fill: #FFFFFF;\n",
       "    }\n",
       "  </style>\n",
       "\n",
       "      <script>\n",
       "        const buttonEl =\n",
       "          document.querySelector('#df-8f7a6b04-a4cc-46ee-8ca7-929f84dc3ccc button.colab-df-convert');\n",
       "        buttonEl.style.display =\n",
       "          google.colab.kernel.accessAllowed ? 'block' : 'none';\n",
       "\n",
       "        async function convertToInteractive(key) {\n",
       "          const element = document.querySelector('#df-8f7a6b04-a4cc-46ee-8ca7-929f84dc3ccc');\n",
       "          const dataTable =\n",
       "            await google.colab.kernel.invokeFunction('convertToInteractive',\n",
       "                                                     [key], {});\n",
       "          if (!dataTable) return;\n",
       "\n",
       "          const docLinkHtml = 'Like what you see? Visit the ' +\n",
       "            '<a target=\"_blank\" href=https://colab.research.google.com/notebooks/data_table.ipynb>data table notebook</a>'\n",
       "            + ' to learn more about interactive tables.';\n",
       "          element.innerHTML = '';\n",
       "          dataTable['output_type'] = 'display_data';\n",
       "          await google.colab.output.renderOutput(dataTable, element);\n",
       "          const docLink = document.createElement('div');\n",
       "          docLink.innerHTML = docLinkHtml;\n",
       "          element.appendChild(docLink);\n",
       "        }\n",
       "      </script>\n",
       "    </div>\n",
       "  </div>\n"
      ],
      "text/plain": [
       "                                                   text          sentiment  \\\n",
       "3207  Fuck Fuck georgegambnino georgegambnino Nigeri...          ethnicity   \n",
       "106   Matt lindo is a BIG WEIRDO& has always been si...                age   \n",
       "3042  Mother's and son Dre (Jaden Smith) move to Chi...                age   \n",
       "3816  Get out the way #LGBTI COMMUNITY ACTIVIST ADVI...             gender   \n",
       "2116  Fuck Fuck georgegambnino lickmykakez Nigeria N...          ethnicity   \n",
       "...                                                 ...                ...   \n",
       "1635  @lininger7 @natk16 @courthelml fuck you you du...          ethnicity   \n",
       "1649  @spoonsclass Merry Christmas to all of you fro...  not_cyberbullying   \n",
       "4189           Who hasn't cooked on a BBQ before?! #mkr  not_cyberbullying   \n",
       "4708  More shit that dudes don't have to put up with...  not_cyberbullying   \n",
       "10          @eaballesty @tim_geelen No True Scotsman...  not_cyberbullying   \n",
       "\n",
       "                                             text_clean  text_len  \n",
       "3207  fuck fuck georgegambnino georgegambnino nigeri...        38  \n",
       "106   matt lindo big weirdo always since literally m...        36  \n",
       "3042  mother son dre jaden smith move china job know...        36  \n",
       "3816  get way lgbti community activist advised one n...        36  \n",
       "2116  fuck fuck georgegambnino lickmykakez nigeria n...        35  \n",
       "...                                                 ...       ...  \n",
       "1635                                   fuck dumb nigger         3  \n",
       "1649                              merry christmas heart         3  \n",
       "4189                                     cooked bbq mkr         3  \n",
       "4708                                      shit dude put         3  \n",
       "10                                                              0  \n",
       "\n",
       "[3862 rows x 4 columns]"
      ]
     },
     "execution_count": 163,
     "metadata": {},
     "output_type": "execute_result"
    }
   ],
   "source": [
    "df.sort_values(by=['text_len'], ascending=False)"
   ]
  },
  {
   "cell_type": "code",
   "execution_count": 164,
   "metadata": {
    "_kg_hide-input": true,
    "colab": {
     "base_uri": "https://localhost:8080/",
     "height": 396
    },
    "execution": {
     "iopub.execute_input": "2023-06-02T02:03:24.487823Z",
     "iopub.status.busy": "2023-06-02T02:03:24.487533Z",
     "iopub.status.idle": "2023-06-02T02:03:25.449266Z",
     "shell.execute_reply": "2023-06-02T02:03:25.448515Z",
     "shell.execute_reply.started": "2023-06-02T02:03:24.487779Z"
    },
    "id": "Zt9YFv935QsY",
    "outputId": "67e28b4f-d810-4c1a-9ef4-9b01b1d39e36"
   },
   "outputs": [
    {
     "data": {
      "image/png": "[encoded data removed]",
      "text/plain": [
       "<Figure size 1600x500 with 1 Axes>"
      ]
     },
     "metadata": {},
     "output_type": "display_data"
    }
   ],
   "source": [
    "plt.figure(figsize=(16,5))\n",
    "ax = sns.countplot(x='text_len', data=df[(df['text_len']<=1000) & (df['text_len']>10)], palette='Blues_r')\n",
    "plt.title('Count of tweets with high number of words', fontsize=25)\n",
    "plt.yticks([])\n",
    "ax.bar_label(ax.containers[0])\n",
    "plt.ylabel('count')\n",
    "plt.xlabel('')\n",
    "plt.show()"
   ]
  },
  {
   "cell_type": "markdown",
   "metadata": {
    "id": "JzY9dDnF5QsY"
   },
   "source": [
    "We also will remove tweets that are long."
   ]
  },
  {
   "cell_type": "code",
   "execution_count": 165,
   "metadata": {
    "execution": {
     "iopub.execute_input": "2023-06-02T02:03:25.451257Z",
     "iopub.status.busy": "2023-06-02T02:03:25.450767Z",
     "iopub.status.idle": "2023-06-02T02:03:25.462174Z",
     "shell.execute_reply": "2023-06-02T02:03:25.461429Z",
     "shell.execute_reply.started": "2023-06-02T02:03:25.451215Z"
    },
    "id": "teb7a02F5QsY"
   },
   "outputs": [],
   "source": [
    "df = df[df['text_len'] < df['text_len'].quantile(0.995)]"
   ]
  },
  {
   "cell_type": "markdown",
   "metadata": {
    "id": "o74eolMAsMuf"
   },
   "source": [
    "Then we also get the length of the longest tweet since it will be useful later."
   ]
  },
  {
   "cell_type": "code",
   "execution_count": 166,
   "metadata": {
    "colab": {
     "base_uri": "https://localhost:8080/"
    },
    "execution": {
     "iopub.execute_input": "2023-06-02T02:03:25.464173Z",
     "iopub.status.busy": "2023-06-02T02:03:25.463808Z",
     "iopub.status.idle": "2023-06-02T02:03:25.471732Z",
     "shell.execute_reply": "2023-06-02T02:03:25.470728Z",
     "shell.execute_reply.started": "2023-06-02T02:03:25.464134Z"
    },
    "id": "HyQak-0QI9Mk",
    "outputId": "c18aa6f9-0a36-4cfc-f810-f0ffce54709c"
   },
   "outputs": [
    {
     "data": {
      "text/plain": [
       "31"
      ]
     },
     "execution_count": 166,
     "metadata": {},
     "output_type": "execute_result"
    }
   ],
   "source": [
    "max_len = np.max(df['text_len'])\n",
    "max_len"
   ]
  },
  {
   "cell_type": "code",
   "execution_count": 167,
   "metadata": {
    "colab": {
     "base_uri": "https://localhost:8080/",
     "height": 424
    },
    "execution": {
     "iopub.execute_input": "2023-06-02T02:03:25.473594Z",
     "iopub.status.busy": "2023-06-02T02:03:25.473243Z",
     "iopub.status.idle": "2023-06-02T02:03:25.493626Z",
     "shell.execute_reply": "2023-06-02T02:03:25.492834Z",
     "shell.execute_reply.started": "2023-06-02T02:03:25.473539Z"
    },
    "id": "NZD-8GJd5Qsa",
    "outputId": "614a495c-0de2-410a-91fb-d5ba280b7906"
   },
   "outputs": [
    {
     "data": {
      "text/html": [
       "\n",
       "\n",
       "  <div id=\"df-a849b6b2-75d5-4492-971e-c3ff22153969\">\n",
       "    <div class=\"colab-df-container\">\n",
       "      <div>\n",
       "<style scoped>\n",
       "    .dataframe tbody tr th:only-of-type {\n",
       "        vertical-align: middle;\n",
       "    }\n",
       "\n",
       "    .dataframe tbody tr th {\n",
       "        vertical-align: top;\n",
       "    }\n",
       "\n",
       "    .dataframe thead th {\n",
       "        text-align: right;\n",
       "    }\n",
       "</style>\n",
       "<table border=\"1\" class=\"dataframe\">\n",
       "  <thead>\n",
       "    <tr style=\"text-align: right;\">\n",
       "      <th></th>\n",
       "      <th>text</th>\n",
       "      <th>sentiment</th>\n",
       "      <th>text_clean</th>\n",
       "      <th>text_len</th>\n",
       "    </tr>\n",
       "  </thead>\n",
       "  <tbody>\n",
       "    <tr>\n",
       "      <th>1221</th>\n",
       "      <td>I'm waiting for them to go after Seth McFarlan...</td>\n",
       "      <td>gender</td>\n",
       "      <td>waiting go seth mcfarland family guy american ...</td>\n",
       "      <td>31</td>\n",
       "    </tr>\n",
       "    <tr>\n",
       "      <th>4335</th>\n",
       "      <td>Even men who claimed to be feminist are only p...</td>\n",
       "      <td>religion</td>\n",
       "      <td>even men claimed feminist pretending since daw...</td>\n",
       "      <td>31</td>\n",
       "    </tr>\n",
       "    <tr>\n",
       "      <th>3974</th>\n",
       "      <td>You mean how country folk want nothing to do w...</td>\n",
       "      <td>religion</td>\n",
       "      <td>mean country folk want nothing muslim blm move...</td>\n",
       "      <td>31</td>\n",
       "    </tr>\n",
       "    <tr>\n",
       "      <th>3997</th>\n",
       "      <td>Woke up with a heavy heart yaz I'm thinking ab...</td>\n",
       "      <td>age</td>\n",
       "      <td>woke heavy heart yaz thinking got bullied high...</td>\n",
       "      <td>31</td>\n",
       "    </tr>\n",
       "    <tr>\n",
       "      <th>3841</th>\n",
       "      <td>The best millennials could pick for humor in t...</td>\n",
       "      <td>gender</td>\n",
       "      <td>best millennials could pick humor early joke p...</td>\n",
       "      <td>31</td>\n",
       "    </tr>\n",
       "    <tr>\n",
       "      <th>...</th>\n",
       "      <td>...</td>\n",
       "      <td>...</td>\n",
       "      <td>...</td>\n",
       "      <td>...</td>\n",
       "    </tr>\n",
       "    <tr>\n",
       "      <th>1587</th>\n",
       "      <td>It's like that... Because you want it that way.</td>\n",
       "      <td>not_cyberbullying</td>\n",
       "      <td>like want way</td>\n",
       "      <td>3</td>\n",
       "    </tr>\n",
       "    <tr>\n",
       "      <th>3418</th>\n",
       "      <td>0, would bully u at school</td>\n",
       "      <td>age</td>\n",
       "      <td>would bully school</td>\n",
       "      <td>3</td>\n",
       "    </tr>\n",
       "    <tr>\n",
       "      <th>3122</th>\n",
       "      <td>@LynnMagic some of it. Many moving parts.</td>\n",
       "      <td>not_cyberbullying</td>\n",
       "      <td>many moving part</td>\n",
       "      <td>3</td>\n",
       "    </tr>\n",
       "    <tr>\n",
       "      <th>2597</th>\n",
       "      <td>Your radio gets bullied</td>\n",
       "      <td>not_cyberbullying</td>\n",
       "      <td>radio get bullied</td>\n",
       "      <td>3</td>\n",
       "    </tr>\n",
       "    <tr>\n",
       "      <th>10</th>\n",
       "      <td>@eaballesty @tim_geelen No True Scotsman...</td>\n",
       "      <td>not_cyberbullying</td>\n",
       "      <td></td>\n",
       "      <td>0</td>\n",
       "    </tr>\n",
       "  </tbody>\n",
       "</table>\n",
       "<p>3828 rows × 4 columns</p>\n",
       "</div>\n",
       "      <button class=\"colab-df-convert\" onclick=\"convertToInteractive('df-a849b6b2-75d5-4492-971e-c3ff22153969')\"\n",
       "              title=\"Convert this dataframe to an interactive table.\"\n",
       "              style=\"display:none;\">\n",
       "\n",
       "  <svg xmlns=\"http://www.w3.org/2000/svg\" height=\"24px\"viewBox=\"0 0 24 24\"\n",
       "       width=\"24px\">\n",
       "    <path d=\"M0 0h24v24H0V0z\" fill=\"none\"/>\n",
       "    <path d=\"M18.56 5.44l.94 2.06.94-2.06 2.06-.94-2.06-.94-.94-2.06-.94 2.06-2.06.94zm-11 1L8.5 8.5l.94-2.06 2.06-.94-2.06-.94L8.5 2.5l-.94 2.06-2.06.94zm10 10l.94 2.06.94-2.06 2.06-.94-2.06-.94-.94-2.06-.94 2.06-2.06.94z\"/><path d=\"M17.41 7.96l-1.37-1.37c-.4-.4-.92-.59-1.43-.59-.52 0-1.04.2-1.43.59L10.3 9.45l-7.72 7.72c-.78.78-.78 2.05 0 2.83L4 21.41c.39.39.9.59 1.41.59.51 0 1.02-.2 1.41-.59l7.78-7.78 2.81-2.81c.8-.78.8-2.07 0-2.86zM5.41 20L4 18.59l7.72-7.72 1.47 1.35L5.41 20z\"/>\n",
       "  </svg>\n",
       "      </button>\n",
       "\n",
       "\n",
       "\n",
       "    <div id=\"df-00b11aa0-17fb-44de-a67f-32ba2773b78f\">\n",
       "      <button class=\"colab-df-quickchart\" onclick=\"quickchart('df-00b11aa0-17fb-44de-a67f-32ba2773b78f')\"\n",
       "              title=\"Suggest charts.\"\n",
       "              style=\"display:none;\">\n",
       "\n",
       "<svg xmlns=\"http://www.w3.org/2000/svg\" height=\"24px\"viewBox=\"0 0 24 24\"\n",
       "     width=\"24px\">\n",
       "    <g>\n",
       "        <path d=\"M19 3H5c-1.1 0-2 .9-2 2v14c0 1.1.9 2 2 2h14c1.1 0 2-.9 2-2V5c0-1.1-.9-2-2-2zM9 17H7v-7h2v7zm4 0h-2V7h2v10zm4 0h-2v-4h2v4z\"/>\n",
       "    </g>\n",
       "</svg>\n",
       "      </button>\n",
       "    </div>\n",
       "\n",
       "<style>\n",
       "  .colab-df-quickchart {\n",
       "    background-color: #E8F0FE;\n",
       "    border: none;\n",
       "    border-radius: 50%;\n",
       "    cursor: pointer;\n",
       "    display: none;\n",
       "    fill: #1967D2;\n",
       "    height: 32px;\n",
       "    padding: 0 0 0 0;\n",
       "    width: 32px;\n",
       "  }\n",
       "\n",
       "  .colab-df-quickchart:hover {\n",
       "    background-color: #E2EBFA;\n",
       "    box-shadow: 0px 1px 2px rgba(60, 64, 67, 0.3), 0px 1px 3px 1px rgba(60, 64, 67, 0.15);\n",
       "    fill: #174EA6;\n",
       "  }\n",
       "\n",
       "  [theme=dark] .colab-df-quickchart {\n",
       "    background-color: #3B4455;\n",
       "    fill: #D2E3FC;\n",
       "  }\n",
       "\n",
       "  [theme=dark] .colab-df-quickchart:hover {\n",
       "    background-color: #434B5C;\n",
       "    box-shadow: 0px 1px 3px 1px rgba(0, 0, 0, 0.15);\n",
       "    filter: drop-shadow(0px 1px 2px rgba(0, 0, 0, 0.3));\n",
       "    fill: #FFFFFF;\n",
       "  }\n",
       "</style>\n",
       "\n",
       "    <script>\n",
       "      async function quickchart(key) {\n",
       "        const containerElement = document.querySelector('#' + key);\n",
       "        const charts = await google.colab.kernel.invokeFunction(\n",
       "            'suggestCharts', [key], {});\n",
       "      }\n",
       "    </script>\n",
       "\n",
       "      <script>\n",
       "\n",
       "function displayQuickchartButton(domScope) {\n",
       "  let quickchartButtonEl =\n",
       "    domScope.querySelector('#df-00b11aa0-17fb-44de-a67f-32ba2773b78f button.colab-df-quickchart');\n",
       "  quickchartButtonEl.style.display =\n",
       "    google.colab.kernel.accessAllowed ? 'block' : 'none';\n",
       "}\n",
       "\n",
       "        displayQuickchartButton(document);\n",
       "      </script>\n",
       "      <style>\n",
       "    .colab-df-container {\n",
       "      display:flex;\n",
       "      flex-wrap:wrap;\n",
       "      gap: 12px;\n",
       "    }\n",
       "\n",
       "    .colab-df-convert {\n",
       "      background-color: #E8F0FE;\n",
       "      border: none;\n",
       "      border-radius: 50%;\n",
       "      cursor: pointer;\n",
       "      display: none;\n",
       "      fill: #1967D2;\n",
       "      height: 32px;\n",
       "      padding: 0 0 0 0;\n",
       "      width: 32px;\n",
       "    }\n",
       "\n",
       "    .colab-df-convert:hover {\n",
       "      background-color: #E2EBFA;\n",
       "      box-shadow: 0px 1px 2px rgba(60, 64, 67, 0.3), 0px 1px 3px 1px rgba(60, 64, 67, 0.15);\n",
       "      fill: #174EA6;\n",
       "    }\n",
       "\n",
       "    [theme=dark] .colab-df-convert {\n",
       "      background-color: #3B4455;\n",
       "      fill: #D2E3FC;\n",
       "    }\n",
       "\n",
       "    [theme=dark] .colab-df-convert:hover {\n",
       "      background-color: #434B5C;\n",
       "      box-shadow: 0px 1px 3px 1px rgba(0, 0, 0, 0.15);\n",
       "      filter: drop-shadow(0px 1px 2px rgba(0, 0, 0, 0.3));\n",
       "      fill: #FFFFFF;\n",
       "    }\n",
       "  </style>\n",
       "\n",
       "      <script>\n",
       "        const buttonEl =\n",
       "          document.querySelector('#df-a849b6b2-75d5-4492-971e-c3ff22153969 button.colab-df-convert');\n",
       "        buttonEl.style.display =\n",
       "          google.colab.kernel.accessAllowed ? 'block' : 'none';\n",
       "\n",
       "        async function convertToInteractive(key) {\n",
       "          const element = document.querySelector('#df-a849b6b2-75d5-4492-971e-c3ff22153969');\n",
       "          const dataTable =\n",
       "            await google.colab.kernel.invokeFunction('convertToInteractive',\n",
       "                                                     [key], {});\n",
       "          if (!dataTable) return;\n",
       "\n",
       "          const docLinkHtml = 'Like what you see? Visit the ' +\n",
       "            '<a target=\"_blank\" href=https://colab.research.google.com/notebooks/data_table.ipynb>data table notebook</a>'\n",
       "            + ' to learn more about interactive tables.';\n",
       "          element.innerHTML = '';\n",
       "          dataTable['output_type'] = 'display_data';\n",
       "          await google.colab.output.renderOutput(dataTable, element);\n",
       "          const docLink = document.createElement('div');\n",
       "          docLink.innerHTML = docLinkHtml;\n",
       "          element.appendChild(docLink);\n",
       "        }\n",
       "      </script>\n",
       "    </div>\n",
       "  </div>\n"
      ],
      "text/plain": [
       "                                                   text          sentiment  \\\n",
       "1221  I'm waiting for them to go after Seth McFarlan...             gender   \n",
       "4335  Even men who claimed to be feminist are only p...           religion   \n",
       "3974  You mean how country folk want nothing to do w...           religion   \n",
       "3997  Woke up with a heavy heart yaz I'm thinking ab...                age   \n",
       "3841  The best millennials could pick for humor in t...             gender   \n",
       "...                                                 ...                ...   \n",
       "1587    It's like that... Because you want it that way.  not_cyberbullying   \n",
       "3418                         0, would bully u at school                age   \n",
       "3122          @LynnMagic some of it. Many moving parts.  not_cyberbullying   \n",
       "2597                            Your radio gets bullied  not_cyberbullying   \n",
       "10          @eaballesty @tim_geelen No True Scotsman...  not_cyberbullying   \n",
       "\n",
       "                                             text_clean  text_len  \n",
       "1221  waiting go seth mcfarland family guy american ...        31  \n",
       "4335  even men claimed feminist pretending since daw...        31  \n",
       "3974  mean country folk want nothing muslim blm move...        31  \n",
       "3997  woke heavy heart yaz thinking got bullied high...        31  \n",
       "3841  best millennials could pick humor early joke p...        31  \n",
       "...                                                 ...       ...  \n",
       "1587                                      like want way         3  \n",
       "3418                                 would bully school         3  \n",
       "3122                                   many moving part         3  \n",
       "2597                                  radio get bullied         3  \n",
       "10                                                              0  \n",
       "\n",
       "[3828 rows x 4 columns]"
      ]
     },
     "execution_count": 167,
     "metadata": {},
     "output_type": "execute_result"
    }
   ],
   "source": [
    "df.sort_values(by=[\"text_len\"], ascending=False)"
   ]
  },
  {
   "cell_type": "markdown",
   "metadata": {
    "id": "w5d3x_aLsMuf"
   },
   "source": [
    "## Sentiment column encoding"
   ]
  },
  {
   "cell_type": "markdown",
   "metadata": {
    "id": "m17VRlEBsMuf"
   },
   "source": [
    "The target column will be encoded by ordinal encoding"
   ]
  },
  {
   "cell_type": "code",
   "execution_count": 168,
   "metadata": {
    "execution": {
     "iopub.execute_input": "2023-06-02T02:03:25.495386Z",
     "iopub.status.busy": "2023-06-02T02:03:25.495104Z",
     "iopub.status.idle": "2023-06-02T02:03:25.526715Z",
     "shell.execute_reply": "2023-06-02T02:03:25.525925Z",
     "shell.execute_reply.started": "2023-06-02T02:03:25.495347Z"
    },
    "id": "NIS_nyXBG416"
   },
   "outputs": [],
   "source": [
    "df['sentiment'] = df['sentiment'].replace({'religion':0,'age':1,'ethnicity':2,'gender':3,'not_cyberbullying':4})"
   ]
  },
  {
   "cell_type": "markdown",
   "metadata": {
    "id": "ELMGaiE-F7yn"
   },
   "source": [
    "## Train - Test split"
   ]
  },
  {
   "cell_type": "markdown",
   "metadata": {
    "id": "jrLwRbummpEq"
   },
   "source": [
    "Now we need to split the dataset into a train and test sets."
   ]
  },
  {
   "cell_type": "code",
   "execution_count": 169,
   "metadata": {
    "execution": {
     "iopub.execute_input": "2023-06-02T02:03:25.528482Z",
     "iopub.status.busy": "2023-06-02T02:03:25.528179Z",
     "iopub.status.idle": "2023-06-02T02:03:25.532944Z",
     "shell.execute_reply": "2023-06-02T02:03:25.532221Z",
     "shell.execute_reply.started": "2023-06-02T02:03:25.528442Z"
    },
    "id": "BF01CgBtBONZ"
   },
   "outputs": [],
   "source": [
    "X = df['text_clean']\n",
    "y = df['sentiment']"
   ]
  },
  {
   "cell_type": "code",
   "execution_count": 170,
   "metadata": {
    "execution": {
     "iopub.execute_input": "2023-06-02T02:03:25.534808Z",
     "iopub.status.busy": "2023-06-02T02:03:25.534082Z",
     "iopub.status.idle": "2023-06-02T02:03:25.567159Z",
     "shell.execute_reply": "2023-06-02T02:03:25.566498Z",
     "shell.execute_reply.started": "2023-06-02T02:03:25.534766Z"
    },
    "id": "fvQexohPGAZf"
   },
   "outputs": [],
   "source": [
    "X_train, X_test, y_train, y_test = train_test_split(X, y, test_size=0.2, stratify=y, random_state=seed_value)"
   ]
  },
  {
   "cell_type": "markdown",
   "metadata": {
    "id": "A0d0lSX0GbNS"
   },
   "source": [
    "## Train - Validation split"
   ]
  },
  {
   "cell_type": "markdown",
   "metadata": {
    "id": "0OsrkfnCmtk0"
   },
   "source": [
    "Moreover, we will further split the training set to extract a validation set, which will be used to monior the accuracy and loss to avoid overfitting during the model training."
   ]
  },
  {
   "cell_type": "code",
   "execution_count": 171,
   "metadata": {
    "execution": {
     "iopub.execute_input": "2023-06-02T02:03:25.568755Z",
     "iopub.status.busy": "2023-06-02T02:03:25.568474Z",
     "iopub.status.idle": "2023-06-02T02:03:25.594169Z",
     "shell.execute_reply": "2023-06-02T02:03:25.593523Z",
     "shell.execute_reply.started": "2023-06-02T02:03:25.568718Z"
    },
    "id": "1KyTh6H5GbR4"
   },
   "outputs": [],
   "source": [
    "# stratify=y_train, 根据目标变量里的种类进行抽样，在样本里种类不均衡时使用\n",
    "X_train, X_valid, y_train, y_valid = train_test_split(X_train, y_train, test_size=0.2, stratify=y_train, random_state=seed_value)"
   ]
  },
  {
   "cell_type": "code",
   "execution_count": 172,
   "metadata": {
    "colab": {
     "base_uri": "https://localhost:8080/"
    },
    "execution": {
     "iopub.execute_input": "2023-06-02T02:03:25.595803Z",
     "iopub.status.busy": "2023-06-02T02:03:25.595524Z",
     "iopub.status.idle": "2023-06-02T02:03:25.604632Z",
     "shell.execute_reply": "2023-06-02T02:03:25.603918Z",
     "shell.execute_reply.started": "2023-06-02T02:03:25.595767Z"
    },
    "id": "N-mC3qyuBONc",
    "outputId": "4bce59a2-67fc-4677-9eec-b80940a791cc"
   },
   "outputs": [
    {
     "data": {
      "text/plain": [
       "array([[  0, 522],\n",
       "       [  1, 512],\n",
       "       [  2, 488],\n",
       "       [  3, 519],\n",
       "       [  4, 408]])"
      ]
     },
     "execution_count": 172,
     "metadata": {},
     "output_type": "execute_result"
    }
   ],
   "source": [
    "(unique, counts) = np.unique(y_train, return_counts=True)\n",
    "np.asarray((unique, counts)).T"
   ]
  },
  {
   "cell_type": "markdown",
   "metadata": {
    "id": "45AGAxHSnCXW"
   },
   "source": [
    "The classes are unbalanced, so it could be a good idea to oversample the training set such that all classes have the same count as the most populated one."
   ]
  },
  {
   "cell_type": "markdown",
   "metadata": {
    "id": "Geqa3e3zGUNL"
   },
   "source": [
    "# Oversampling of training set"
   ]
  },
  {
   "cell_type": "code",
   "execution_count": 173,
   "metadata": {
    "execution": {
     "iopub.execute_input": "2023-06-02T02:03:25.606268Z",
     "iopub.status.busy": "2023-06-02T02:03:25.605813Z",
     "iopub.status.idle": "2023-06-02T02:03:25.659048Z",
     "shell.execute_reply": "2023-06-02T02:03:25.658307Z",
     "shell.execute_reply.started": "2023-06-02T02:03:25.606225Z"
    },
    "id": "JN5OCli8BONe"
   },
   "outputs": [],
   "source": [
    "ros = RandomOverSampler()\n",
    "X_train, y_train = ros.fit_resample(np.array(X_train).reshape(-1, 1), np.array(y_train).reshape(-1, 1));\n",
    "train_os = pd.DataFrame(list(zip([x[0] for x in X_train], y_train)), columns = ['text_clean', 'sentiment']);"
   ]
  },
  {
   "cell_type": "code",
   "execution_count": 174,
   "metadata": {
    "execution": {
     "iopub.execute_input": "2023-06-02T02:03:25.660657Z",
     "iopub.status.busy": "2023-06-02T02:03:25.660310Z",
     "iopub.status.idle": "2023-06-02T02:03:25.665758Z",
     "shell.execute_reply": "2023-06-02T02:03:25.664901Z",
     "shell.execute_reply.started": "2023-06-02T02:03:25.660615Z"
    },
    "id": "qAwnlrGoBONe"
   },
   "outputs": [],
   "source": [
    "X_train = train_os['text_clean'].values\n",
    "y_train = train_os['sentiment'].values"
   ]
  },
  {
   "cell_type": "code",
   "execution_count": 175,
   "metadata": {
    "colab": {
     "base_uri": "https://localhost:8080/"
    },
    "execution": {
     "iopub.execute_input": "2023-06-02T02:03:25.667562Z",
     "iopub.status.busy": "2023-06-02T02:03:25.667173Z",
     "iopub.status.idle": "2023-06-02T02:03:25.681800Z",
     "shell.execute_reply": "2023-06-02T02:03:25.681064Z",
     "shell.execute_reply.started": "2023-06-02T02:03:25.667522Z"
    },
    "id": "zNopbN4gBONe",
    "outputId": "67133c55-8757-4337-8c21-20ea3e562035"
   },
   "outputs": [
    {
     "data": {
      "text/plain": [
       "array([[  0, 522],\n",
       "       [  1, 522],\n",
       "       [  2, 522],\n",
       "       [  3, 522],\n",
       "       [  4, 522]])"
      ]
     },
     "execution_count": 175,
     "metadata": {},
     "output_type": "execute_result"
    }
   ],
   "source": [
    "(unique, counts) = np.unique(y_train, return_counts=True)\n",
    "np.asarray((unique, counts)).T"
   ]
  },
  {
   "cell_type": "markdown",
   "metadata": {
    "id": "7erqehGXsMuh"
   },
   "source": [
    "# Naive Bayes baseline model"
   ]
  },
  {
   "cell_type": "markdown",
   "metadata": {
    "id": "II9eI02HsMui"
   },
   "source": [
    "The first algorithm we will implement is Naive Bayes, which will be used as a simple baseline model. In order to use this algorithm, we need first need to preprocess the text data. <br>\n",
    "First, we will create a bag of words using CountVectorizer."
   ]
  },
  {
   "cell_type": "code",
   "execution_count": 176,
   "metadata": {
    "execution": {
     "iopub.execute_input": "2023-06-02T02:03:25.685312Z",
     "iopub.status.busy": "2023-06-02T02:03:25.685099Z",
     "iopub.status.idle": "2023-06-02T02:03:26.382481Z",
     "shell.execute_reply": "2023-06-02T02:03:26.381685Z",
     "shell.execute_reply.started": "2023-06-02T02:03:25.685285Z"
    },
    "id": "lRCIXRz5BONe"
   },
   "outputs": [],
   "source": [
    "clf = CountVectorizer()\n",
    "X_train_cv =  clf.fit_transform(X_train)\n",
    "X_test_cv = clf.transform(X_test)"
   ]
  },
  {
   "cell_type": "markdown",
   "metadata": {
    "id": "IraU7izLsMui"
   },
   "source": [
    "Then we apply TF-IFD transformation to associate weigths to the different words based on their frequency (rarer words will be given more importance)."
   ]
  },
  {
   "cell_type": "code",
   "execution_count": 177,
   "metadata": {
    "execution": {
     "iopub.execute_input": "2023-06-02T02:03:26.384210Z",
     "iopub.status.busy": "2023-06-02T02:03:26.383786Z",
     "iopub.status.idle": "2023-06-02T02:03:26.424232Z",
     "shell.execute_reply": "2023-06-02T02:03:26.423500Z",
     "shell.execute_reply.started": "2023-06-02T02:03:26.384165Z"
    },
    "id": "B_FoQa2cBONf"
   },
   "outputs": [],
   "source": [
    "tf_transformer = TfidfTransformer(use_idf=True).fit(X_train_cv)\n",
    "X_train_tf = tf_transformer.transform(X_train_cv)\n",
    "X_test_tf = tf_transformer.transform(X_test_cv)"
   ]
  },
  {
   "cell_type": "markdown",
   "metadata": {
    "id": "VwdTe1m5sMui"
   },
   "source": [
    "Finally we can instantiate the Naive Bayes model."
   ]
  },
  {
   "cell_type": "code",
   "execution_count": 178,
   "metadata": {
    "execution": {
     "iopub.execute_input": "2023-06-02T02:03:26.426842Z",
     "iopub.status.busy": "2023-06-02T02:03:26.425452Z",
     "iopub.status.idle": "2023-06-02T02:03:26.430717Z",
     "shell.execute_reply": "2023-06-02T02:03:26.430009Z",
     "shell.execute_reply.started": "2023-06-02T02:03:26.426800Z"
    },
    "id": "ecHNDL60BONf"
   },
   "outputs": [],
   "source": [
    "nb_clf = MultinomialNB()"
   ]
  },
  {
   "cell_type": "code",
   "execution_count": 179,
   "metadata": {
    "colab": {
     "base_uri": "https://localhost:8080/",
     "height": 75
    },
    "execution": {
     "iopub.execute_input": "2023-06-02T02:03:26.438796Z",
     "iopub.status.busy": "2023-06-02T02:03:26.438230Z",
     "iopub.status.idle": "2023-06-02T02:03:26.459289Z",
     "shell.execute_reply": "2023-06-02T02:03:26.458570Z",
     "shell.execute_reply.started": "2023-06-02T02:03:26.438765Z"
    },
    "id": "gj-9CqO9BONf",
    "outputId": "ce18eea8-c4a3-4197-86a2-dc98653be851"
   },
   "outputs": [
    {
     "data": {
      "text/html": [
       "<style>#sk-container-id-2 {color: black;background-color: white;}#sk-container-id-2 pre{padding: 0;}#sk-container-id-2 div.sk-toggleable {background-color: white;}#sk-container-id-2 label.sk-toggleable__label {cursor: pointer;display: block;width: 100%;margin-bottom: 0;padding: 0.3em;box-sizing: border-box;text-align: center;}#sk-container-id-2 label.sk-toggleable__label-arrow:before {content: \"▸\";float: left;margin-right: 0.25em;color: #696969;}#sk-container-id-2 label.sk-toggleable__label-arrow:hover:before {color: black;}#sk-container-id-2 div.sk-estimator:hover label.sk-toggleable__label-arrow:before {color: black;}#sk-container-id-2 div.sk-toggleable__content {max-height: 0;max-width: 0;overflow: hidden;text-align: left;background-color: #f0f8ff;}#sk-container-id-2 div.sk-toggleable__content pre {margin: 0.2em;color: black;border-radius: 0.25em;background-color: #f0f8ff;}#sk-container-id-2 input.sk-toggleable__control:checked~div.sk-toggleable__content {max-height: 200px;max-width: 100%;overflow: auto;}#sk-container-id-2 input.sk-toggleable__control:checked~label.sk-toggleable__label-arrow:before {content: \"▾\";}#sk-container-id-2 div.sk-estimator input.sk-toggleable__control:checked~label.sk-toggleable__label {background-color: #d4ebff;}#sk-container-id-2 div.sk-label input.sk-toggleable__control:checked~label.sk-toggleable__label {background-color: #d4ebff;}#sk-container-id-2 input.sk-hidden--visually {border: 0;clip: rect(1px 1px 1px 1px);clip: rect(1px, 1px, 1px, 1px);height: 1px;margin: -1px;overflow: hidden;padding: 0;position: absolute;width: 1px;}#sk-container-id-2 div.sk-estimator {font-family: monospace;background-color: #f0f8ff;border: 1px dotted black;border-radius: 0.25em;box-sizing: border-box;margin-bottom: 0.5em;}#sk-container-id-2 div.sk-estimator:hover {background-color: #d4ebff;}#sk-container-id-2 div.sk-parallel-item::after {content: \"\";width: 100%;border-bottom: 1px solid gray;flex-grow: 1;}#sk-container-id-2 div.sk-label:hover label.sk-toggleable__label {background-color: #d4ebff;}#sk-container-id-2 div.sk-serial::before {content: \"\";position: absolute;border-left: 1px solid gray;box-sizing: border-box;top: 0;bottom: 0;left: 50%;z-index: 0;}#sk-container-id-2 div.sk-serial {display: flex;flex-direction: column;align-items: center;background-color: white;padding-right: 0.2em;padding-left: 0.2em;position: relative;}#sk-container-id-2 div.sk-item {position: relative;z-index: 1;}#sk-container-id-2 div.sk-parallel {display: flex;align-items: stretch;justify-content: center;background-color: white;position: relative;}#sk-container-id-2 div.sk-item::before, #sk-container-id-2 div.sk-parallel-item::before {content: \"\";position: absolute;border-left: 1px solid gray;box-sizing: border-box;top: 0;bottom: 0;left: 50%;z-index: -1;}#sk-container-id-2 div.sk-parallel-item {display: flex;flex-direction: column;z-index: 1;position: relative;background-color: white;}#sk-container-id-2 div.sk-parallel-item:first-child::after {align-self: flex-end;width: 50%;}#sk-container-id-2 div.sk-parallel-item:last-child::after {align-self: flex-start;width: 50%;}#sk-container-id-2 div.sk-parallel-item:only-child::after {width: 0;}#sk-container-id-2 div.sk-dashed-wrapped {border: 1px dashed gray;margin: 0 0.4em 0.5em 0.4em;box-sizing: border-box;padding-bottom: 0.4em;background-color: white;}#sk-container-id-2 div.sk-label label {font-family: monospace;font-weight: bold;display: inline-block;line-height: 1.2em;}#sk-container-id-2 div.sk-label-container {text-align: center;}#sk-container-id-2 div.sk-container {/* jupyter's `normalize.less` sets `[hidden] { display: none; }` but bootstrap.min.css set `[hidden] { display: none !important; }` so we also need the `!important` here to be able to override the default hidden behavior on the sphinx rendered scikit-learn.org. See: https://github.com/scikit-learn/scikit-learn/issues/21755 */display: inline-block !important;position: relative;}#sk-container-id-2 div.sk-text-repr-fallback {display: none;}</style><div id=\"sk-container-id-2\" class=\"sk-top-container\"><div class=\"sk-text-repr-fallback\"><pre>MultinomialNB()</pre><b>In a Jupyter environment, please rerun this cell to show the HTML representation or trust the notebook. <br />On GitHub, the HTML representation is unable to render, please try loading this page with nbviewer.org.</b></div><div class=\"sk-container\" hidden><div class=\"sk-item\"><div class=\"sk-estimator sk-toggleable\"><input class=\"sk-toggleable__control sk-hidden--visually\" id=\"sk-estimator-id-2\" type=\"checkbox\" checked><label for=\"sk-estimator-id-2\" class=\"sk-toggleable__label sk-toggleable__label-arrow\">MultinomialNB</label><div class=\"sk-toggleable__content\"><pre>MultinomialNB()</pre></div></div></div></div></div>"
      ],
      "text/plain": [
       "MultinomialNB()"
      ]
     },
     "execution_count": 179,
     "metadata": {},
     "output_type": "execute_result"
    }
   ],
   "source": [
    "nb_clf.fit(X_train_tf, y_train)"
   ]
  },
  {
   "cell_type": "code",
   "execution_count": 180,
   "metadata": {
    "execution": {
     "iopub.execute_input": "2023-06-02T02:03:26.460935Z",
     "iopub.status.busy": "2023-06-02T02:03:26.460619Z",
     "iopub.status.idle": "2023-06-02T02:03:26.467279Z",
     "shell.execute_reply": "2023-06-02T02:03:26.466491Z",
     "shell.execute_reply.started": "2023-06-02T02:03:26.460896Z"
    },
    "id": "Evr5z6nhBONf"
   },
   "outputs": [],
   "source": [
    "nb_pred = nb_clf.predict(X_test_tf)"
   ]
  },
  {
   "cell_type": "code",
   "execution_count": 181,
   "metadata": {
    "_kg_hide-input": true,
    "colab": {
     "base_uri": "https://localhost:8080/"
    },
    "execution": {
     "iopub.execute_input": "2023-06-02T02:03:26.469226Z",
     "iopub.status.busy": "2023-06-02T02:03:26.468949Z",
     "iopub.status.idle": "2023-06-02T02:03:26.490900Z",
     "shell.execute_reply": "2023-06-02T02:03:26.490022Z",
     "shell.execute_reply.started": "2023-06-02T02:03:26.469186Z"
    },
    "id": "4pUzmmo6BONf",
    "outputId": "d47a1393-bd67-49ea-bc05-e2b5d425f8c9"
   },
   "outputs": [
    {
     "name": "stdout",
     "output_type": "stream",
     "text": [
      "Classification Report for Naive Bayes:\n",
      "               precision    recall  f1-score   support\n",
      "\n",
      "    religion       0.85      0.97      0.91       163\n",
      "         age       0.78      0.99      0.87       160\n",
      "   ethnicity       0.88      0.93      0.91       152\n",
      "      gender       0.89      0.86      0.87       163\n",
      "not bullying       0.73      0.34      0.47       128\n",
      "\n",
      "    accuracy                           0.84       766\n",
      "   macro avg       0.83      0.82      0.81       766\n",
      "weighted avg       0.83      0.84      0.82       766\n",
      "\n"
     ]
    }
   ],
   "source": [
    "print('Classification Report for Naive Bayes:\\n',classification_report(y_test, nb_pred, target_names=sentiments))"
   ]
  },
  {
   "cell_type": "code",
   "execution_count": 182,
   "metadata": {
    "_kg_hide-input": true,
    "colab": {
     "base_uri": "https://localhost:8080/",
     "height": 757
    },
    "execution": {
     "iopub.execute_input": "2023-06-02T02:03:26.492722Z",
     "iopub.status.busy": "2023-06-02T02:03:26.492423Z",
     "iopub.status.idle": "2023-06-02T02:03:26.843489Z",
     "shell.execute_reply": "2023-06-02T02:03:26.842752Z",
     "shell.execute_reply.started": "2023-06-02T02:03:26.492663Z"
    },
    "id": "J4OVvS3BsMuj",
    "outputId": "d118f5a3-152c-44f5-fa32-7e71107c23f0"
   },
   "outputs": [
    {
     "data": {
      "image/png": "[encoded data removed]",
      "text/plain": [
       "<Figure size 750x750 with 1 Axes>"
      ]
     },
     "metadata": {},
     "output_type": "display_data"
    }
   ],
   "source": [
    "conf_matrix(y_test,nb_pred,'Naive Bayes Sentiment Analysis\\nConfusion Matrix', sentiments)"
   ]
  },
  {
   "cell_type": "markdown",
   "metadata": {
    "id": "ezFTQzNrsMuj"
   },
   "source": [
    "**The performance scores of the algorithm is very good, with an overall accurcy of 87%.<br>\n",
    "We can observe how the predictions for the more populated classes have very high F1 scores (over 85%), while for the class \"non-cyberbullying\" the score is much lower (58%).**"
   ]
  },
  {
   "cell_type": "markdown",
   "metadata": {
    "id": "yeq5I1zHsMuj"
   },
   "source": [
    "*Next we will implement a more complex algorithm to perform the classification, aiming to achieve higher accurcy than the baseline Naive Bayes model.*"
   ]
  },
  {
   "cell_type": "markdown",
   "metadata": {
    "id": "9PTc-Gx8sMuj"
   },
   "source": [
    "# PyTorch LSTM RNN w/ Attention"
   ]
  },
  {
   "cell_type": "markdown",
   "metadata": {
    "id": "d4RKIINwsMuj"
   },
   "source": [
    "In this section, we will define a custom Unidirectional and Bidirectional LSTM using PyTorch in order to perform the Sentiment Analysis on the tweets."
   ]
  },
  {
   "cell_type": "markdown",
   "metadata": {
    "id": "QZpta6PbBONf"
   },
   "source": [
    "## Data preprocessing for LSTM"
   ]
  },
  {
   "cell_type": "markdown",
   "metadata": {
    "id": "Wkh-nYdUsMuk"
   },
   "source": [
    "Similarly to what we did with Naive Bayes, we need to preprocess the data: in particular we will tokenize the sentences with a custom defined function. <br>\n",
    "The sentences will be converted to lists of number with padding to the max number of words in a sentence."
   ]
  },
  {
   "cell_type": "code",
   "execution_count": 266,
   "metadata": {
    "execution": {
     "iopub.execute_input": "2023-06-02T02:03:26.844852Z",
     "iopub.status.busy": "2023-06-02T02:03:26.844596Z",
     "iopub.status.idle": "2023-06-02T02:03:26.854699Z",
     "shell.execute_reply": "2023-06-02T02:03:26.853433Z",
     "shell.execute_reply.started": "2023-06-02T02:03:26.844819Z"
    },
    "id": "PAhPX58mpM0i"
   },
   "outputs": [],
   "source": [
    "def Tokenize(column, seq_len):\n",
    "    ##Create vocabulary of words from column\n",
    "    corpus = [word for text in column for word in text.split()]\n",
    "    count_words = Counter(corpus)\n",
    "    #print(count_words)\n",
    "    sorted_words = count_words.most_common()\n",
    "    #print(sorted_words)\n",
    "    vocab_to_int = {w:i+1 for i, (w,c) in enumerate(sorted_words)}\n",
    "    #print(vocab_to_int)\n",
    "    #print(vocab_to_int['school'])\n",
    "    # 字典中key是按出现顺序排列的词，values是index\n",
    "\n",
    "    ##Tokenize the columns text using the vocabulary\n",
    "    text_int = []\n",
    "    for text in column:\n",
    "        r = [vocab_to_int[word] for word in text.split()]\n",
    "        text_int.append(r) #text是每一行文本里面的单词对应的index，这里index我们按照频率降序排列\n",
    "    #print(text_int)\n",
    "    ##Add padding to tokens\n",
    "    features = np.zeros((len(text_int), seq_len), dtype = int)\n",
    "    for i, review in enumerate(text_int):\n",
    "        if len(review) <= seq_len:\n",
    "            zeros = list(np.zeros(seq_len - len(review)))\n",
    "            new = zeros + review\n",
    "        else:\n",
    "            new = review[: seq_len]\n",
    "        features[i, :] = np.array(new)\n",
    "    #print(sorted_words)\n",
    "    #print(features)\n",
    "    return sorted_words, features, vocab_to_int # sorted_words里面是按从大到小出现的单词及次数，feature 里面每一行是一个tweet,\n",
    "                                  # 数字代表词语出现的index，如果不满足最大长度，填充0"
   ]
  },
  {
   "cell_type": "code",
   "execution_count": 267,
   "metadata": {
    "execution": {
     "iopub.execute_input": "2023-06-02T02:03:26.857297Z",
     "iopub.status.busy": "2023-06-02T02:03:26.856858Z",
     "iopub.status.idle": "2023-06-02T02:03:27.691485Z",
     "shell.execute_reply": "2023-06-02T02:03:27.690675Z",
     "shell.execute_reply.started": "2023-06-02T02:03:26.857251Z"
    },
    "id": "Huovl-tkq9pr"
   },
   "outputs": [],
   "source": [
    "vocabulary, tokenized_column, vocab_to_int = Tokenize(df[\"text_clean\"], max_len)"
   ]
  },
  {
   "cell_type": "markdown",
   "metadata": {
    "id": "W6aMLFXnsMuk"
   },
   "source": [
    "We can check how each tweet has been tokenized with an example:"
   ]
  },
  {
   "cell_type": "code",
   "execution_count": 268,
   "metadata": {
    "colab": {
     "base_uri": "https://localhost:8080/",
     "height": 35
    },
    "execution": {
     "iopub.execute_input": "2023-06-02T02:03:27.693018Z",
     "iopub.status.busy": "2023-06-02T02:03:27.692741Z",
     "iopub.status.idle": "2023-06-02T02:03:27.698560Z",
     "shell.execute_reply": "2023-06-02T02:03:27.697866Z",
     "shell.execute_reply.started": "2023-06-02T02:03:27.692981Z"
    },
    "id": "qZ-kM1_3sMuk",
    "outputId": "0c14682b-0712-412d-f0ed-1e730f7f86d6"
   },
   "outputs": [
    {
     "data": {
      "application/vnd.google.colaboratory.intrinsic+json": {
       "type": "string"
      },
      "text/plain": [
       "'girl used bully high school told happy birthday mean winning life'"
      ]
     },
     "execution_count": 268,
     "metadata": {},
     "output_type": "execute_result"
    }
   ],
   "source": [
    "df[\"text_clean\"].iloc[0]"
   ]
  },
  {
   "cell_type": "markdown",
   "metadata": {
    "id": "ZwwEB9nIsMuk"
   },
   "source": [
    "This sentence is transformed to the vector:"
   ]
  },
  {
   "cell_type": "code",
   "execution_count": 269,
   "metadata": {
    "colab": {
     "base_uri": "https://localhost:8080/"
    },
    "execution": {
     "iopub.execute_input": "2023-06-02T02:03:27.700273Z",
     "iopub.status.busy": "2023-06-02T02:03:27.699731Z",
     "iopub.status.idle": "2023-06-02T02:03:27.710123Z",
     "shell.execute_reply": "2023-06-02T02:03:27.709394Z",
     "shell.execute_reply.started": "2023-06-02T02:03:27.700232Z"
    },
    "id": "KK1TRC9tsMul",
    "outputId": "0cc52693-1899-447c-e55a-8d2bc89d80f4"
   },
   "outputs": [
    {
     "data": {
      "text/plain": [
       "array([   0,    0,    0,    0,    0,    0,    0,    0,    0,    0,    0,\n",
       "          0,    0, 2674,   15,   32,    6,   26,  261,  192, 1036,  198,\n",
       "        226,  672, 4013, 4014, 4015, 4016, 1037,  672, 4017])"
      ]
     },
     "execution_count": 269,
     "metadata": {},
     "output_type": "execute_result"
    }
   ],
   "source": [
    "tokenized_column[10]"
   ]
  },
  {
   "cell_type": "markdown",
   "metadata": {
    "id": "0j44Y3vJsMul"
   },
   "source": [
    "Moreover we can also check the TOP 20 most common words by extracting them from the vocabulary python dictionary we created with the tokenizer."
   ]
  },
  {
   "cell_type": "code",
   "execution_count": 270,
   "metadata": {
    "execution": {
     "iopub.execute_input": "2023-06-02T02:03:27.712030Z",
     "iopub.status.busy": "2023-06-02T02:03:27.711233Z",
     "iopub.status.idle": "2023-06-02T02:03:27.717792Z",
     "shell.execute_reply": "2023-06-02T02:03:27.717082Z",
     "shell.execute_reply.started": "2023-06-02T02:03:27.711982Z"
    },
    "id": "9tnEd3gzsMul"
   },
   "outputs": [],
   "source": [
    "keys = []\n",
    "values = []\n",
    "for key, value in vocabulary[:20]:\n",
    "    keys.append(key)\n",
    "    values.append(value)"
   ]
  },
  {
   "cell_type": "code",
   "execution_count": 271,
   "metadata": {
    "_kg_hide-input": true,
    "colab": {
     "base_uri": "https://localhost:8080/",
     "height": 421
    },
    "execution": {
     "iopub.execute_input": "2023-06-02T02:03:27.719757Z",
     "iopub.status.busy": "2023-06-02T02:03:27.718892Z",
     "iopub.status.idle": "2023-06-02T02:03:28.304275Z",
     "shell.execute_reply": "2023-06-02T02:03:28.303513Z",
     "shell.execute_reply.started": "2023-06-02T02:03:27.719710Z"
    },
    "id": "Kw6ZQjUksMul",
    "outputId": "c6f1c619-57fe-4849-d8bd-4a51ad2852c3"
   },
   "outputs": [
    {
     "data": {
      "image/png": "[encoded data removed]",
      "text/plain": [
       "<Figure size 1500x500 with 1 Axes>"
      ]
     },
     "metadata": {},
     "output_type": "display_data"
    }
   ],
   "source": [
    "plt.figure(figsize=(15, 5))\n",
    "ax = sns.barplot(x=keys, y=values, palette='mako')\n",
    "plt.title('Top 20 most common words', size=25)\n",
    "ax.bar_label(ax.containers[0])\n",
    "plt.ylabel(\"Words count\")\n",
    "plt.show()"
   ]
  },
  {
   "cell_type": "markdown",
   "metadata": {
    "id": "HWbV9v8DsMul"
   },
   "source": [
    "# Word Embedding by Word2Vec"
   ]
  },
  {
   "cell_type": "markdown",
   "metadata": {
    "id": "L_LCOz0osMul"
   },
   "source": [
    "Next, we will create a word embedding matrix using the original text tweets and the pre trained model Word2vec.<br>\n",
    "First, we create a list of words from the X_train vector created before."
   ]
  },
  {
   "cell_type": "code",
   "execution_count": 272,
   "metadata": {
    "execution": {
     "iopub.execute_input": "2023-06-02T02:03:28.306370Z",
     "iopub.status.busy": "2023-06-02T02:03:28.305569Z",
     "iopub.status.idle": "2023-06-02T02:03:28.346348Z",
     "shell.execute_reply": "2023-06-02T02:03:28.345580Z",
     "shell.execute_reply.started": "2023-06-02T02:03:28.306326Z"
    },
    "id": "y6QkqztVsMul"
   },
   "outputs": [],
   "source": [
    "Word2vec_train_data = list(map(lambda x: x.split(), X_train))"
   ]
  },
  {
   "cell_type": "markdown",
   "metadata": {
    "id": "50L2-wctsMum"
   },
   "source": [
    "We set a dimension of the embedding words, which can be seen as the number of featurs of each transformed word."
   ]
  },
  {
   "cell_type": "code",
   "execution_count": 273,
   "metadata": {
    "execution": {
     "iopub.execute_input": "2023-06-02T02:03:28.347985Z",
     "iopub.status.busy": "2023-06-02T02:03:28.347610Z",
     "iopub.status.idle": "2023-06-02T02:03:28.352454Z",
     "shell.execute_reply": "2023-06-02T02:03:28.351471Z",
     "shell.execute_reply.started": "2023-06-02T02:03:28.347938Z"
    },
    "id": "SZlV8klNsMum"
   },
   "outputs": [],
   "source": [
    "EMBEDDING_DIM = 200"
   ]
  },
  {
   "cell_type": "markdown",
   "metadata": {
    "id": "2rKhPevDsMum"
   },
   "source": [
    "Then we can instaniate the Word2Vec model by passing the training words and chosen embedding dimension to the imported Word2vec object."
   ]
  },
  {
   "cell_type": "code",
   "execution_count": 274,
   "metadata": {
    "execution": {
     "iopub.execute_input": "2023-06-02T02:03:28.354418Z",
     "iopub.status.busy": "2023-06-02T02:03:28.353924Z",
     "iopub.status.idle": "2023-06-02T02:03:31.171524Z",
     "shell.execute_reply": "2023-06-02T02:03:31.170733Z",
     "shell.execute_reply.started": "2023-06-02T02:03:28.354378Z"
    },
    "id": "sjILiEC-sMum"
   },
   "outputs": [],
   "source": [
    "word2vec_model = Word2Vec(Word2vec_train_data, vector_size=EMBEDDING_DIM)"
   ]
  },
  {
   "cell_type": "markdown",
   "metadata": {
    "id": "eeAy3KOUsMum"
   },
   "source": [
    "Before defining the embedding matrix, we also need to choose the max number of words. We will extract the number of words from the vocabulary python dictionary we created before."
   ]
  },
  {
   "cell_type": "code",
   "execution_count": 275,
   "metadata": {
    "colab": {
     "base_uri": "https://localhost:8080/"
    },
    "execution": {
     "iopub.execute_input": "2023-06-02T02:03:31.175157Z",
     "iopub.status.busy": "2023-06-02T02:03:31.174938Z",
     "iopub.status.idle": "2023-06-02T02:03:31.182099Z",
     "shell.execute_reply": "2023-06-02T02:03:31.181346Z",
     "shell.execute_reply.started": "2023-06-02T02:03:31.175127Z"
    },
    "id": "sVxAi4D4sMum",
    "outputId": "c30d209a-e18d-4673-a398-d60b7370d1da"
   },
   "outputs": [
    {
     "name": "stdout",
     "output_type": "stream",
     "text": [
      "Vocabulary size: 9781\n"
     ]
    }
   ],
   "source": [
    "print(f\"Vocabulary size: {len(vocabulary) + 1}\")"
   ]
  },
  {
   "cell_type": "code",
   "execution_count": 276,
   "metadata": {
    "execution": {
     "iopub.execute_input": "2023-06-02T02:03:31.183782Z",
     "iopub.status.busy": "2023-06-02T02:03:31.183301Z",
     "iopub.status.idle": "2023-06-02T02:03:31.190430Z",
     "shell.execute_reply": "2023-06-02T02:03:31.189618Z",
     "shell.execute_reply.started": "2023-06-02T02:03:31.183742Z"
    },
    "id": "1GYKC_GCsMum"
   },
   "outputs": [],
   "source": [
    "VOCAB_SIZE = len(vocabulary) + 1 #+1 for the padding"
   ]
  },
  {
   "cell_type": "markdown",
   "metadata": {
    "id": "bSmcKasTsMun"
   },
   "source": [
    "Finally we can define the embedding matrix."
   ]
  },
  {
   "cell_type": "code",
   "execution_count": 289,
   "metadata": {
    "id": "wNIWnuU5PUeM"
   },
   "outputs": [],
   "source": [
    "vocab_to_int = [(key, value) for key, value in vocab_to_int.items()]"
   ]
  },
  {
   "cell_type": "code",
   "execution_count": 290,
   "metadata": {
    "colab": {
     "base_uri": "https://localhost:8080/"
    },
    "execution": {
     "iopub.execute_input": "2023-06-02T02:03:31.192256Z",
     "iopub.status.busy": "2023-06-02T02:03:31.191982Z",
     "iopub.status.idle": "2023-06-02T02:03:31.237607Z",
     "shell.execute_reply": "2023-06-02T02:03:31.236826Z",
     "shell.execute_reply.started": "2023-06-02T02:03:31.192219Z"
    },
    "id": "IDhqRvRHsMun",
    "outputId": "9bab4dfa-f939-4f32-b6b6-a716b2235aa5"
   },
   "outputs": [
    {
     "name": "stdout",
     "output_type": "stream",
     "text": [
      "Embedding Matrix Shape: (9781, 200)\n"
     ]
    }
   ],
   "source": [
    "# Define an empty embedding matrix of shape (VOCAB_SIZE, EMBEDDING_DIM)\n",
    "# one word = one 200 dimensional vector\n",
    "embedding_matrix = np.zeros((VOCAB_SIZE, EMBEDDING_DIM))\n",
    "\n",
    "# Fill the embedding matrix with pre-trained values from word2vec\n",
    "for word, token in vocab_to_int:\n",
    "    # Check if the word is present in the word2vec model's vocabulary\n",
    "    if word in word2vec_model.wv.key_to_index:\n",
    "        # If the word is present, retrieve its embedding vector and add it to the embedding matrix\n",
    "        embedding_vector = word2vec_model.wv[word] #word2vec_model.wv[word] 200 vector\n",
    "        embedding_matrix[token] = embedding_vector\n",
    "\n",
    "# Print the shape of the embedding matrix\n",
    "print(\"Embedding Matrix Shape:\", embedding_matrix.shape)"
   ]
  },
  {
   "cell_type": "code",
   "execution_count": 303,
   "metadata": {
    "colab": {
     "base_uri": "https://localhost:8080/"
    },
    "id": "sk31J4FDH0Gu",
    "outputId": "3acc03ff-c39c-48c5-8877-79b3b69d33d2"
   },
   "outputs": [
    {
     "data": {
      "text/plain": [
       "array([-4.29077260e-02, -1.12506099e-01, -1.02071486e-01,  3.76140863e-01,\n",
       "        3.73258024e-01, -2.62232870e-01, -6.12813979e-02,  6.79341912e-01,\n",
       "       -1.49724707e-01,  3.26863468e-01, -1.08975857e-01, -2.27149919e-01,\n",
       "        2.07497217e-02,  3.33375663e-01, -2.41928786e-01, -2.28242025e-01,\n",
       "       -5.41295372e-02,  3.63112278e-02,  2.59222835e-03, -6.39017045e-01,\n",
       "        1.53570786e-01, -3.27785015e-01, -2.30684638e-01,  1.00112781e-01,\n",
       "       -6.13987632e-02, -1.69081807e-01, -1.10854901e-01, -3.86636615e-01,\n",
       "       -4.45758075e-01,  3.03333580e-01,  3.33963931e-01,  1.99110955e-02,\n",
       "        6.60203397e-02, -4.77167852e-02,  3.70943267e-03,  2.91428775e-01,\n",
       "        2.78318733e-01, -1.77471116e-01, -1.21964067e-01, -4.13251013e-01,\n",
       "       -2.63566166e-01,  1.52965402e-03, -4.96287607e-02,  9.81644019e-02,\n",
       "        6.13864839e-01, -6.24046836e-04, -6.89792633e-02, -2.32947171e-01,\n",
       "        3.10340852e-01,  2.61851728e-01,  1.96325853e-01, -7.19647408e-02,\n",
       "       -2.51370013e-01, -2.30310723e-01,  1.77882120e-01, -6.85487539e-02,\n",
       "       -1.18106596e-01, -2.42795914e-01, -3.98005992e-01,  2.00718362e-02,\n",
       "       -1.48331359e-01,  5.58439195e-02, -4.11876328e-02,  9.15008504e-03,\n",
       "       -6.05312049e-01,  5.38510941e-02, -2.11809808e-03,  5.60995698e-01,\n",
       "       -3.18939120e-01,  4.38577741e-01,  2.77671479e-02,  2.55486146e-02,\n",
       "        4.51579690e-01, -6.05827756e-02,  7.44974613e-02,  1.96661830e-01,\n",
       "        2.97506690e-01, -5.28831005e-01, -5.56387424e-01, -1.20055817e-01,\n",
       "       -4.79320660e-02, -3.09987217e-02, -3.24383110e-01,  5.78331530e-01,\n",
       "       -2.14832559e-01,  5.46455272e-02,  6.16882518e-02,  4.55194950e-01,\n",
       "        8.08409303e-02, -2.26370171e-02,  1.93025544e-01,  4.87751275e-01,\n",
       "        2.45245814e-01,  4.20199662e-01,  5.31037152e-01,  4.94785547e-01,\n",
       "        8.66012722e-02, -1.73490450e-01,  3.62308472e-01,  1.00718036e-01,\n",
       "       -3.86878252e-01,  4.86007631e-01,  1.10466883e-01, -1.68797210e-01,\n",
       "       -3.31635088e-01, -4.63323921e-01,  1.02541298e-01,  4.49040353e-01,\n",
       "       -1.66942507e-01, -2.72713959e-01, -2.74559945e-01, -4.09053504e-01,\n",
       "       -1.30206555e-01, -2.23436415e-01,  2.02047244e-01, -1.34644896e-01,\n",
       "        1.17263749e-01, -6.83069587e-01, -2.45089121e-02, -1.73554465e-01,\n",
       "        9.75081697e-02,  5.82616389e-01,  3.06884855e-01, -3.08567107e-01,\n",
       "       -6.88538849e-02,  3.27491283e-01, -3.48000765e-01, -1.71418577e-01,\n",
       "       -1.80371314e-01, -2.62904167e-01,  2.43752420e-01,  1.92575864e-02,\n",
       "       -3.78217455e-03, -1.57916769e-01, -1.48087576e-01,  3.51360232e-01,\n",
       "       -3.43862802e-01, -4.39035624e-01, -2.20720246e-01, -7.44791627e-01,\n",
       "        2.96526492e-01, -5.75255692e-01, -1.48694724e-01, -1.92967385e-01,\n",
       "       -1.39496878e-01, -2.53154188e-01, -1.75582498e-01,  1.82648256e-01,\n",
       "       -1.99339136e-01,  9.44630355e-02,  1.10673800e-01, -2.20810562e-01,\n",
       "        4.35185209e-02,  2.87066698e-01, -4.14195329e-01,  5.37731826e-01,\n",
       "        1.86216846e-01,  2.42520034e-01, -2.94640779e-01,  2.08535179e-01,\n",
       "        3.03035438e-01,  2.40298435e-01, -3.79041553e-01, -1.06264748e-01,\n",
       "       -1.82252437e-01,  1.80038959e-01,  3.51286769e-01, -4.03817773e-01,\n",
       "       -2.47679174e-01,  1.88057244e-01, -4.03850853e-01,  2.59451061e-01,\n",
       "        7.52567276e-02, -3.68223190e-01,  3.91856432e-01,  2.64897764e-01,\n",
       "       -3.40492725e-01,  3.19375426e-01,  1.07982144e-01,  2.93568790e-01,\n",
       "        1.02543138e-01,  4.92169037e-02, -5.29264621e-02,  1.70359313e-01,\n",
       "        2.09577024e-01,  6.45560101e-02, -1.64989859e-01,  3.16968113e-01,\n",
       "        5.80545068e-01, -2.86231991e-02,  3.84034157e-01, -1.57218993e-01,\n",
       "       -1.39766604e-01, -2.60226667e-01,  2.79939592e-01,  9.04088616e-02,\n",
       "        2.10378051e-01, -4.26965088e-01, -6.24931641e-02, -1.83449060e-01])"
      ]
     },
     "execution_count": 303,
     "metadata": {},
     "output_type": "execute_result"
    }
   ],
   "source": [
    "embedding_matrix[1] # school"
   ]
  },
  {
   "cell_type": "markdown",
   "metadata": {
    "id": "CpbTT0LJsMun"
   },
   "source": [
    "## Train - Validation - Test split"
   ]
  },
  {
   "cell_type": "markdown",
   "metadata": {
    "id": "AWyU7HqJsMun"
   },
   "source": [
    "Now we will use the tokenized sentences to create a training, validation and test datasets."
   ]
  },
  {
   "cell_type": "code",
   "execution_count": 321,
   "metadata": {
    "colab": {
     "base_uri": "https://localhost:8080/"
    },
    "id": "qHrtaI8uUILx",
    "outputId": "cde389ca-6b4d-4c22-db48-1a08a9af0112"
   },
   "outputs": [
    {
     "data": {
      "text/plain": [
       "array([[   0,    0,    0, ...,   63, 1617,   75],\n",
       "       [   0,    0,    0, ...,  160,  118,   90],\n",
       "       [   0,    0,    0, ..., 2031, 4000, 2032],\n",
       "       ...,\n",
       "       [   0,    0,    0, ...,   22,    8,  642],\n",
       "       [   0,    0,    0, ...,  155,    1,   57],\n",
       "       [   0,    0,    0, ...,   10,    1,    3]])"
      ]
     },
     "execution_count": 321,
     "metadata": {},
     "output_type": "execute_result"
    }
   ],
   "source": [
    "tokenized_column"
   ]
  },
  {
   "cell_type": "code",
   "execution_count": 304,
   "metadata": {
    "execution": {
     "iopub.execute_input": "2023-06-02T02:03:31.239404Z",
     "iopub.status.busy": "2023-06-02T02:03:31.238945Z",
     "iopub.status.idle": "2023-06-02T02:03:31.243421Z",
     "shell.execute_reply": "2023-06-02T02:03:31.242713Z",
     "shell.execute_reply.started": "2023-06-02T02:03:31.239364Z"
    },
    "id": "xPzbx9jFBONg"
   },
   "outputs": [],
   "source": [
    "X = tokenized_column\n",
    "y = df['sentiment'].values"
   ]
  },
  {
   "cell_type": "code",
   "execution_count": 305,
   "metadata": {
    "execution": {
     "iopub.execute_input": "2023-06-02T02:03:31.245407Z",
     "iopub.status.busy": "2023-06-02T02:03:31.244933Z",
     "iopub.status.idle": "2023-06-02T02:03:31.280401Z",
     "shell.execute_reply": "2023-06-02T02:03:31.279619Z",
     "shell.execute_reply.started": "2023-06-02T02:03:31.245368Z"
    },
    "id": "HQJ-XSMzBONg"
   },
   "outputs": [],
   "source": [
    "X_train, X_test, y_train, y_test = train_test_split(X, y, test_size=0.2, stratify=y, random_state=seed_value)"
   ]
  },
  {
   "cell_type": "code",
   "execution_count": 306,
   "metadata": {
    "execution": {
     "iopub.execute_input": "2023-06-02T02:03:31.281967Z",
     "iopub.status.busy": "2023-06-02T02:03:31.281667Z",
     "iopub.status.idle": "2023-06-02T02:03:31.309990Z",
     "shell.execute_reply": "2023-06-02T02:03:31.309282Z",
     "shell.execute_reply.started": "2023-06-02T02:03:31.281928Z"
    },
    "id": "aeca_zUVBONg"
   },
   "outputs": [],
   "source": [
    "X_train, X_valid, y_train, y_valid = train_test_split(X_train, y_train, test_size=0.2, stratify=y_train, random_state=seed_value)"
   ]
  },
  {
   "cell_type": "markdown",
   "metadata": {
    "id": "FniQHMkQsMun"
   },
   "source": [
    "We can check the balance of the target classes:"
   ]
  },
  {
   "cell_type": "code",
   "execution_count": 307,
   "metadata": {
    "colab": {
     "base_uri": "https://localhost:8080/"
    },
    "execution": {
     "iopub.execute_input": "2023-06-02T02:03:31.311626Z",
     "iopub.status.busy": "2023-06-02T02:03:31.311127Z",
     "iopub.status.idle": "2023-06-02T02:03:31.320095Z",
     "shell.execute_reply": "2023-06-02T02:03:31.319040Z",
     "shell.execute_reply.started": "2023-06-02T02:03:31.311585Z"
    },
    "id": "FX77tlMuBONg",
    "outputId": "59695ee0-6c5f-4947-a23c-ca7a8ebc8ce9"
   },
   "outputs": [
    {
     "data": {
      "text/plain": [
       "array([[  0, 522],\n",
       "       [  1, 512],\n",
       "       [  2, 488],\n",
       "       [  3, 519],\n",
       "       [  4, 408]])"
      ]
     },
     "execution_count": 307,
     "metadata": {},
     "output_type": "execute_result"
    }
   ],
   "source": [
    "(unique, counts) = np.unique(y_train, return_counts=True)\n",
    "np.asarray((unique, counts)).T"
   ]
  },
  {
   "cell_type": "markdown",
   "metadata": {
    "id": "I3T9v_KQsMuo"
   },
   "source": [
    "And then apply random oversampling on the training set."
   ]
  },
  {
   "cell_type": "code",
   "execution_count": 308,
   "metadata": {
    "execution": {
     "iopub.execute_input": "2023-06-02T02:03:31.322117Z",
     "iopub.status.busy": "2023-06-02T02:03:31.321809Z",
     "iopub.status.idle": "2023-06-02T02:03:31.344222Z",
     "shell.execute_reply": "2023-06-02T02:03:31.343454Z",
     "shell.execute_reply.started": "2023-06-02T02:03:31.322076Z"
    },
    "id": "sFRMuSdrBONh"
   },
   "outputs": [],
   "source": [
    "ros = RandomOverSampler()\n",
    "X_train_os, y_train_os = ros.fit_resample(np.array(X_train),np.array(y_train));"
   ]
  },
  {
   "cell_type": "code",
   "execution_count": 309,
   "metadata": {
    "colab": {
     "base_uri": "https://localhost:8080/"
    },
    "execution": {
     "iopub.execute_input": "2023-06-02T02:03:31.345848Z",
     "iopub.status.busy": "2023-06-02T02:03:31.345550Z",
     "iopub.status.idle": "2023-06-02T02:03:31.353139Z",
     "shell.execute_reply": "2023-06-02T02:03:31.352195Z",
     "shell.execute_reply.started": "2023-06-02T02:03:31.345809Z"
    },
    "id": "OQl1UY2BUt-m",
    "outputId": "da19dcd9-433e-4fa3-d279-209dffd0896f"
   },
   "outputs": [
    {
     "data": {
      "text/plain": [
       "array([[  0, 522],\n",
       "       [  1, 522],\n",
       "       [  2, 522],\n",
       "       [  3, 522],\n",
       "       [  4, 522]])"
      ]
     },
     "execution_count": 309,
     "metadata": {},
     "output_type": "execute_result"
    }
   ],
   "source": [
    "(unique, counts) = np.unique(y_train_os, return_counts=True)\n",
    "np.asarray((unique, counts)).T"
   ]
  },
  {
   "cell_type": "markdown",
   "metadata": {
    "id": "122oPH2lsMuo"
   },
   "source": [
    "## PyTorch datasets and dataloaders"
   ]
  },
  {
   "cell_type": "markdown",
   "metadata": {
    "id": "J-Nuk83FsMuo"
   },
   "source": [
    "The three sets will be transformed to tensor datasets and dataloaders so we can extract the data in batches for the LSTM training, validation and testing."
   ]
  },
  {
   "cell_type": "code",
   "execution_count": 310,
   "metadata": {
    "execution": {
     "iopub.execute_input": "2023-06-02T02:03:31.354996Z",
     "iopub.status.busy": "2023-06-02T02:03:31.354580Z",
     "iopub.status.idle": "2023-06-02T02:03:31.362974Z",
     "shell.execute_reply": "2023-06-02T02:03:31.362158Z",
     "shell.execute_reply.started": "2023-06-02T02:03:31.354959Z"
    },
    "id": "O-e9FHZp5Qsc"
   },
   "outputs": [],
   "source": [
    "train_data = TensorDataset(torch.from_numpy(X_train_os), torch.from_numpy(y_train_os))\n",
    "test_data = TensorDataset(torch.from_numpy(X_test), torch.from_numpy(y_test))\n",
    "valid_data = TensorDataset(torch.from_numpy(X_valid), torch.from_numpy(y_valid))"
   ]
  },
  {
   "cell_type": "code",
   "execution_count": 311,
   "metadata": {
    "execution": {
     "iopub.execute_input": "2023-06-02T02:03:31.364634Z",
     "iopub.status.busy": "2023-06-02T02:03:31.364358Z",
     "iopub.status.idle": "2023-06-02T02:03:31.370533Z",
     "shell.execute_reply": "2023-06-02T02:03:31.369765Z",
     "shell.execute_reply.started": "2023-06-02T02:03:31.364597Z"
    },
    "id": "RfzfdlUFX8al"
   },
   "outputs": [],
   "source": [
    "BATCH_SIZE = 32 #一次训练的样本数量"
   ]
  },
  {
   "cell_type": "code",
   "execution_count": 312,
   "metadata": {
    "execution": {
     "iopub.execute_input": "2023-06-02T02:03:31.372341Z",
     "iopub.status.busy": "2023-06-02T02:03:31.372030Z",
     "iopub.status.idle": "2023-06-02T02:03:31.380031Z",
     "shell.execute_reply": "2023-06-02T02:03:31.379264Z",
     "shell.execute_reply.started": "2023-06-02T02:03:31.372261Z"
    },
    "id": "S2TGQjB4X7UQ"
   },
   "outputs": [],
   "source": [
    "train_loader = DataLoader(train_data, shuffle=True, batch_size=BATCH_SIZE, drop_last=True)\n",
    "valid_loader = DataLoader(valid_data, shuffle=False, batch_size=BATCH_SIZE, drop_last=True)\n",
    "test_loader = DataLoader(test_data, shuffle=False, batch_size=BATCH_SIZE, drop_last=True)"
   ]
  },
  {
   "cell_type": "markdown",
   "metadata": {
    "id": "vGrgKxxLsMup"
   },
   "source": [
    "# PyTorch LSTM modeling with Attention Layer"
   ]
  },
  {
   "cell_type": "markdown",
   "metadata": {
    "id": "Ti5DofbFsMup"
   },
   "source": [
    "In this chapter we implement two Python classes: Attention and LSTM_Sentiment_Classifier.\n",
    "\n",
    "The Attention class defines our attention mechanism. This technique is commonly used in Natural Language Processing tasks to allow our model to focus on specific parts of the input sequence when generating output. It learns to assign weights to different parts of the input data, indicating their relevance. This class initializes an attention layer which takes into account whether our LSTM network is bidirectional or not.\n",
    "\n",
    "In the Attention class forward method, we first calculate the attention weights. These weights are computed by applying a tanh activation function to the concatenated hidden states and encoder outputs. A softmax is then applied to the attention weights, ensuring they sum to 1 and hence can be interpreted as probabilities.\n",
    "\n",
    "Next, we define our LSTM_Sentiment_Classifier class, which uses the Attention mechanism to make predictions. This class includes an LSTM network which takes embedded word representations as input and outputs hidden states. It also includes an attention layer, which uses these hidden states to compute attention weights and apply them to the encoder outputs to get a context vector. This context vector is passed through a fully connected layer followed by a log-softmax function to produce the final output probabilities.\n",
    "\n",
    "In the forward method of LSTM_Sentiment_Classifier, we pass our inputs through an embedding layer, followed by the LSTM network. We then calculate the attention weights and form a context vector. This context vector serves as a summary of the entire input sequence, weighted by the attention mechanism's output. We pass this context vector through a fully connected layer and a log-softmax function to make our final prediction.\n",
    "\n",
    "Lastly, we define a method init_hidden to initialize the hidden state of our LSTM network. Depending on whether our LSTM network is bidirectional or not, we may need to double the size of our hidden state.\n",
    "\n",
    "This LSTM model with attention allows us to better handle the complexities of language understanding by giving more importance to the relevant parts of our text data. This enhances the model's ability to understand context and thereby, improves the performance of our Sentiment Analysis task."
   ]
  },
  {
   "cell_type": "code",
   "execution_count": 313,
   "metadata": {
    "execution": {
     "iopub.execute_input": "2023-06-02T02:03:31.382065Z",
     "iopub.status.busy": "2023-06-02T02:03:31.381479Z",
     "iopub.status.idle": "2023-06-02T02:03:31.400363Z",
     "shell.execute_reply": "2023-06-02T02:03:31.399719Z",
     "shell.execute_reply.started": "2023-06-02T02:03:31.382026Z"
    },
    "id": "q3ygLFDEsMup"
   },
   "outputs": [],
   "source": [
    "class Attention(nn.Module):\n",
    "    def __init__(self, hidden_dim, is_bidirectional):\n",
    "        super(Attention, self).__init__()\n",
    "        self.is_bidirectional = is_bidirectional\n",
    "        # The attention linear layer which transforms the input data to the hidden space\n",
    "        self.attn = nn.Linear(hidden_dim * (4 if is_bidirectional else 2), hidden_dim * (2 if is_bidirectional else 1))\n",
    "        # The linear layer that calculates the attention scores\n",
    "        self.v = nn.Linear(hidden_dim * (2 if is_bidirectional else 1), 1, bias=False)\n",
    "\n",
    "    def forward(self, hidden, encoder_outputs):\n",
    "        seq_len = encoder_outputs.size(1)\n",
    "        # Concatenate the last two hidden states in case of a bidirectional LSTM\n",
    "        if self.is_bidirectional:\n",
    "            hidden = torch.cat((hidden[-2], hidden[-1]), dim=-1)\n",
    "        else:\n",
    "            hidden = hidden[-1]\n",
    "        # Repeat the hidden state across the sequence length\n",
    "        hidden_repeated = hidden.unsqueeze(1).repeat(1, seq_len, 1)\n",
    "        # Calculate attention weights\n",
    "        attn_weights = torch.tanh(self.attn(torch.cat((hidden_repeated, encoder_outputs), dim=2)))\n",
    "        # Compute attention scores\n",
    "        attn_weights = self.v(attn_weights).squeeze(2)\n",
    "        # Apply softmax to get valid probabilities\n",
    "        return nn.functional.softmax(attn_weights, dim=1)\n",
    "\n",
    "\n",
    "class LSTM_Sentiment_Classifier(nn.Module):\n",
    "    def __init__(self, vocab_size, embedding_dim, hidden_dim, num_classes, lstm_layers, dropout, is_bidirectional):\n",
    "        super(LSTM_Sentiment_Classifier, self).__init__()\n",
    "        self.hidden_dim = hidden_dim\n",
    "        self.num_layers = lstm_layers\n",
    "        self.is_bidirectional = is_bidirectional\n",
    "\n",
    "        # The Embedding layer that converts input words to embeddings\n",
    "        self.embedding = nn.Embedding(vocab_size, embedding_dim)\n",
    "        # LSTM layer which processes the embeddings\n",
    "        self.lstm = nn.LSTM(embedding_dim, hidden_dim, lstm_layers, batch_first=True, bidirectional=is_bidirectional)\n",
    "        # Attention layer to compute the context vector\n",
    "        self.attention = Attention(hidden_dim, is_bidirectional)\n",
    "        # Fully connected layer which classifies the context vector into classes\n",
    "        self.fc = nn.Linear(hidden_dim * (2 if is_bidirectional else 1), num_classes)\n",
    "        # Apply LogSoftmax to outputs for numerical stability\n",
    "        self.softmax = nn.LogSoftmax(dim=1)\n",
    "        # Dropout layer for regularisation\n",
    "        self.dropout = nn.Dropout(dropout)\n",
    "\n",
    "    def forward(self, x, hidden):\n",
    "        # Transform words to embeddings\n",
    "        embedded = self.embedding(x)\n",
    "        # Pass embeddings to LSTM\n",
    "        out, hidden = self.lstm(embedded, hidden)\n",
    "        # Calculate attention weights\n",
    "        attn_weights = self.attention(hidden[0], out)\n",
    "        # Calculate context vector by taking the weighted sum of LSTM outputs\n",
    "        context = attn_weights.unsqueeze(1).bmm(out).squeeze(1)\n",
    "        # Classify the context vector\n",
    "        out = self.softmax(self.fc(context))\n",
    "        return out, hidden\n",
    "\n",
    "    def init_hidden(self, batch_size):\n",
    "        # Factor determines the size of hidden states depending on bidirectionality\n",
    "        factor = 2 if self.is_bidirectional else 1\n",
    "        # Initial hidden and cell states are zero\n",
    "        h0 = torch.zeros(self.num_layers * factor, batch_size, self.hidden_dim).to(DEVICE)\n",
    "        c0 = torch.zeros(self.num_layers * factor, batch_size, self.hidden_dim).to(DEVICE)"
   ]
  },
  {
   "cell_type": "code",
   "execution_count": 314,
   "metadata": {
    "colab": {
     "base_uri": "https://localhost:8080/"
    },
    "execution": {
     "iopub.execute_input": "2023-06-02T02:03:31.402462Z",
     "iopub.status.busy": "2023-06-02T02:03:31.401924Z",
     "iopub.status.idle": "2023-06-02T02:03:34.082516Z",
     "shell.execute_reply": "2023-06-02T02:03:34.081710Z",
     "shell.execute_reply.started": "2023-06-02T02:03:31.402423Z"
    },
    "id": "z2wIZZXhsMup",
    "outputId": "a439aeb5-bf2a-4b32-e495-27011f19ed09"
   },
   "outputs": [
    {
     "name": "stdout",
     "output_type": "stream",
     "text": [
      "LSTM_Sentiment_Classifier(\n",
      "  (embedding): Embedding(9781, 200)\n",
      "  (lstm): LSTM(200, 100, batch_first=True)\n",
      "  (attention): Attention(\n",
      "    (attn): Linear(in_features=200, out_features=100, bias=True)\n",
      "    (v): Linear(in_features=100, out_features=1, bias=False)\n",
      "  )\n",
      "  (fc): Linear(in_features=100, out_features=5, bias=True)\n",
      "  (softmax): LogSoftmax(dim=1)\n",
      "  (dropout): Dropout(p=0.5, inplace=False)\n",
      ")\n"
     ]
    }
   ],
   "source": [
    "NUM_CLASSES = 5 #We are dealing with a multiclass classification of 5 classes\n",
    "HIDDEN_DIM = 100 #number of neurons of the internal state (internal neural network in the LSTM)\n",
    "LSTM_LAYERS = 1 #Number of stacked LSTM layers\n",
    "\n",
    "IS_BIDIRECTIONAL = False # Set this to False for unidirectional LSTM, and True for bidirectional LSTM\n",
    "\n",
    "LR = 4e-4 #Learning rate\n",
    "DROPOUT = 0.5 #LSTM Dropout\n",
    "EPOCHS = 10 #Number of training epoch\n",
    "\n",
    "DEVICE = 'cuda' if torch.cuda.is_available() else 'cpu'\n",
    "\n",
    "model = LSTM_Sentiment_Classifier(VOCAB_SIZE, EMBEDDING_DIM, HIDDEN_DIM, NUM_CLASSES, LSTM_LAYERS, DROPOUT, IS_BIDIRECTIONAL)\n",
    "\n",
    "model = model.to(DEVICE)\n",
    "\n",
    "# Initialize the embedding layer with the previously defined embedding matrix\n",
    "model.embedding.weight.data.copy_(torch.from_numpy(embedding_matrix))\n",
    "# Allow the embedding matrix to be fine-tuned to better adapt to our dataset and get higher accuracy\n",
    "model.embedding.weight.requires_grad = True\n",
    "\n",
    "# Set up the criterion (loss function)\n",
    "criterion = nn.NLLLoss()\n",
    "optimizer = torch.optim.AdamW(model.parameters(), lr=LR, weight_decay = 5e-6)\n",
    "\n",
    "print(model)"
   ]
  },
  {
   "cell_type": "markdown",
   "metadata": {
    "id": "xMsfzdjCsMuq"
   },
   "source": [
    "# LSTM Training loop"
   ]
  },
  {
   "cell_type": "markdown",
   "metadata": {
    "id": "LkKH8GmXsMuq"
   },
   "source": [
    "Now we will define a custom training loop, where we include an early stopping functionality, and save only the best models in terms of validation accuracy."
   ]
  },
  {
   "cell_type": "code",
   "execution_count": 315,
   "metadata": {
    "colab": {
     "base_uri": "https://localhost:8080/"
    },
    "execution": {
     "iopub.execute_input": "2023-06-02T02:03:34.084493Z",
     "iopub.status.busy": "2023-06-02T02:03:34.084043Z",
     "iopub.status.idle": "2023-06-02T02:04:08.723187Z",
     "shell.execute_reply": "2023-06-02T02:04:08.722377Z",
     "shell.execute_reply.started": "2023-06-02T02:03:34.084452Z"
    },
    "id": "5rK3YPVT5Qsd",
    "outputId": "cbb83a5f-2778-4ce5-d97b-544af2cd7e95"
   },
   "outputs": [
    {
     "name": "stdout",
     "output_type": "stream",
     "text": [
      "Epoch 1:Validation accuracy increased (0.000000 --> 41.940789).  Saving model ...\n",
      "\tTrain_loss : 1.5260 Val_loss : 1.3848\n",
      "\tTrain_acc : 32.948% Val_acc : 41.941%\n",
      "Epoch 2:Validation accuracy increased (41.940789 --> 77.138158).  Saving model ...\n",
      "\tTrain_loss : 1.0535 Val_loss : 0.7580\n",
      "\tTrain_acc : 65.548% Val_acc : 77.138%\n",
      "Epoch 3:Validation accuracy increased (77.138158 --> 86.677632).  Saving model ...\n",
      "\tTrain_loss : 0.5337 Val_loss : 0.4328\n",
      "\tTrain_acc : 85.378% Val_acc : 86.678%\n",
      "Epoch 4:Validation accuracy increased (86.677632 --> 88.651316).  Saving model ...\n",
      "\tTrain_loss : 0.3192 Val_loss : 0.3542\n",
      "\tTrain_acc : 90.201% Val_acc : 88.651%\n",
      "Epoch 5:Validation accuracy did not increase\n",
      "\tTrain_loss : 0.2168 Val_loss : 0.3720\n",
      "\tTrain_acc : 93.904% Val_acc : 87.336%\n",
      "Epoch 6:Validation accuracy did not increase\n",
      "\tTrain_loss : 0.1552 Val_loss : 0.3964\n",
      "\tTrain_acc : 96.026% Val_acc : 87.171%\n",
      "Epoch 7:Validation accuracy increased (88.651316 --> 88.980263).  Saving model ...\n",
      "\tTrain_loss : 0.1209 Val_loss : 0.3488\n",
      "\tTrain_acc : 96.798% Val_acc : 88.980%\n",
      "Epoch 8:Validation accuracy did not increase\n",
      "\tTrain_loss : 0.0728 Val_loss : 0.3756\n",
      "\tTrain_acc : 98.495% Val_acc : 88.322%\n",
      "Epoch 9:Validation accuracy did not increase\n",
      "\tTrain_loss : 0.0464 Val_loss : 0.4050\n",
      "\tTrain_acc : 99.074% Val_acc : 87.500%\n",
      "Epoch 10:Validation accuracy did not increase\n",
      "\tTrain_loss : 0.0294 Val_loss : 0.4248\n",
      "\tTrain_acc : 99.653% Val_acc : 87.829%\n"
     ]
    }
   ],
   "source": [
    "total_step = len(train_loader)\n",
    "total_step_val = len(valid_loader)\n",
    "\n",
    "early_stopping_patience = 4\n",
    "early_stopping_counter = 0\n",
    "\n",
    "valid_acc_max = 0 # Initialize best accuracy top 0\n",
    "\n",
    "for e in range(EPOCHS):\n",
    "\n",
    "    #lists to host the train and validation losses of every batch for each epoch\n",
    "    train_loss, valid_loss  = [], []\n",
    "    #lists to host the train and validation accuracy of every batch for each epoch\n",
    "    train_acc, valid_acc  = [], []\n",
    "\n",
    "    #lists to host the train and validation predictions of every batch for each epoch\n",
    "    y_train_list, y_val_list = [], []\n",
    "\n",
    "    #initalize number of total and correctly classified texts during training and validation\n",
    "    correct, correct_val = 0, 0\n",
    "    total, total_val = 0, 0\n",
    "    running_loss, running_loss_val = 0, 0\n",
    "\n",
    "\n",
    "    ####TRAINING LOOP####\n",
    "\n",
    "    model.train()\n",
    "\n",
    "    for inputs, labels in train_loader:\n",
    "        inputs, labels = inputs.to(DEVICE), labels.to(DEVICE) #load features and targets in device\n",
    "\n",
    "        h = model.init_hidden(labels.size(0))\n",
    "\n",
    "        model.zero_grad() #reset gradients\n",
    "\n",
    "        output, h = model(inputs,h) #get output and hidden states from LSTM network\n",
    "\n",
    "        loss = criterion(output, labels)\n",
    "        loss.backward()\n",
    "\n",
    "        running_loss += loss.item()\n",
    "\n",
    "        optimizer.step()\n",
    "\n",
    "        y_pred_train = torch.argmax(output, dim=1) #get tensor of predicted values on the training set\n",
    "        y_train_list.extend(y_pred_train.squeeze().tolist()) #transform tensor to list and the values to the list\n",
    "\n",
    "        correct += torch.sum(y_pred_train==labels).item() #count correctly classified texts per batch\n",
    "        total += labels.size(0) #count total texts per batch\n",
    "\n",
    "    train_loss.append(running_loss / total_step)\n",
    "    train_acc.append(100 * correct / total)\n",
    "\n",
    "    ####VALIDATION LOOP####\n",
    "\n",
    "    with torch.no_grad():\n",
    "\n",
    "        model.eval()\n",
    "\n",
    "        for inputs, labels in valid_loader:\n",
    "            inputs, labels = inputs.to(DEVICE), labels.to(DEVICE)\n",
    "\n",
    "            val_h = model.init_hidden(labels.size(0))\n",
    "\n",
    "            output, val_h = model(inputs, val_h)\n",
    "\n",
    "            val_loss = criterion(output, labels)\n",
    "            running_loss_val += val_loss.item()\n",
    "\n",
    "            y_pred_val = torch.argmax(output, dim=1)\n",
    "            y_val_list.extend(y_pred_val.squeeze().tolist())\n",
    "\n",
    "            correct_val += torch.sum(y_pred_val==labels).item()\n",
    "            total_val += labels.size(0)\n",
    "\n",
    "        valid_loss.append(running_loss_val / total_step_val)\n",
    "        valid_acc.append(100 * correct_val / total_val)\n",
    "\n",
    "    #Save model if validation accuracy increases\n",
    "    if np.mean(valid_acc) >= valid_acc_max:\n",
    "        torch.save(model.state_dict(), './state_dict.pt')\n",
    "        print(f'Epoch {e+1}:Validation accuracy increased ({valid_acc_max:.6f} --> {np.mean(valid_acc):.6f}).  Saving model ...')\n",
    "        valid_acc_max = np.mean(valid_acc)\n",
    "        early_stopping_counter=0 #reset counter if validation accuracy increases\n",
    "    else:\n",
    "        print(f'Epoch {e+1}:Validation accuracy did not increase')\n",
    "        early_stopping_counter+=1 #increase counter if validation accuracy does not increase\n",
    "\n",
    "    if early_stopping_counter > early_stopping_patience:\n",
    "        print('Early stopped at epoch :', e+1)\n",
    "        break\n",
    "\n",
    "    print(f'\\tTrain_loss : {np.mean(train_loss):.4f} Val_loss : {np.mean(valid_loss):.4f}')\n",
    "    print(f'\\tTrain_acc : {np.mean(train_acc):.3f}% Val_acc : {np.mean(valid_acc):.3f}%')"
   ]
  },
  {
   "cell_type": "code",
   "execution_count": 316,
   "metadata": {
    "colab": {
     "base_uri": "https://localhost:8080/"
    },
    "execution": {
     "iopub.execute_input": "2023-06-02T02:04:08.724848Z",
     "iopub.status.busy": "2023-06-02T02:04:08.724569Z",
     "iopub.status.idle": "2023-06-02T02:04:08.756488Z",
     "shell.execute_reply": "2023-06-02T02:04:08.755527Z",
     "shell.execute_reply.started": "2023-06-02T02:04:08.724816Z"
    },
    "id": "wfTLdAi45Qsd",
    "outputId": "d9a79165-fa69-4a9e-d512-87e25793e3b6"
   },
   "outputs": [
    {
     "data": {
      "text/plain": [
       "<All keys matched successfully>"
      ]
     },
     "execution_count": 316,
     "metadata": {},
     "output_type": "execute_result"
    }
   ],
   "source": [
    "# Loading the best model\n",
    "model.load_state_dict(torch.load('./state_dict.pt'))"
   ]
  },
  {
   "cell_type": "markdown",
   "metadata": {
    "id": "F0c2Z2rOsMuq"
   },
   "source": [
    "# LSTM Testing"
   ]
  },
  {
   "cell_type": "code",
   "execution_count": 317,
   "metadata": {
    "execution": {
     "iopub.execute_input": "2023-06-02T02:04:08.758414Z",
     "iopub.status.busy": "2023-06-02T02:04:08.758109Z",
     "iopub.status.idle": "2023-06-02T02:04:09.053117Z",
     "shell.execute_reply": "2023-06-02T02:04:09.052297Z",
     "shell.execute_reply.started": "2023-06-02T02:04:08.758375Z"
    },
    "id": "3ERsOjzW41tF"
   },
   "outputs": [],
   "source": [
    "def evaluate_model(model, test_loader):\n",
    "    model.eval()\n",
    "    y_pred_list = []\n",
    "    y_test_list = []\n",
    "\n",
    "    with torch.no_grad():\n",
    "        for inputs, labels in test_loader:\n",
    "            inputs, labels = inputs.to(DEVICE), labels.to(DEVICE)\n",
    "            test_h = model.init_hidden(labels.size(0))\n",
    "\n",
    "            output, val_h = model(inputs, test_h)\n",
    "            y_pred_test = torch.argmax(output, dim=1)\n",
    "            y_pred_list.extend(y_pred_test.squeeze().tolist())\n",
    "            y_test_list.extend(labels.squeeze().tolist())\n",
    "\n",
    "    return y_pred_list, y_test_list\n",
    "\n",
    "y_pred_list, y_test_list = evaluate_model(model, test_loader)"
   ]
  },
  {
   "cell_type": "code",
   "execution_count": 318,
   "metadata": {
    "_kg_hide-input": true,
    "colab": {
     "base_uri": "https://localhost:8080/"
    },
    "execution": {
     "iopub.execute_input": "2023-06-02T02:04:09.054901Z",
     "iopub.status.busy": "2023-06-02T02:04:09.054605Z",
     "iopub.status.idle": "2023-06-02T02:04:09.081449Z",
     "shell.execute_reply": "2023-06-02T02:04:09.080599Z",
     "shell.execute_reply.started": "2023-06-02T02:04:09.054859Z"
    },
    "id": "tu6ex4zC5Qse",
    "outputId": "2fcceef6-e86f-4dd7-f218-d1ad316b7d50"
   },
   "outputs": [
    {
     "name": "stdout",
     "output_type": "stream",
     "text": [
      "Classification Report for Bi-LSTM :\n",
      "               precision    recall  f1-score   support\n",
      "\n",
      "    religion       0.97      0.90      0.93       158\n",
      "         age       0.92      0.97      0.95       151\n",
      "   ethnicity       0.92      0.94      0.93       146\n",
      "      gender       0.90      0.80      0.85       157\n",
      "not bullying       0.72      0.81      0.76       124\n",
      "\n",
      "    accuracy                           0.89       736\n",
      "   macro avg       0.89      0.89      0.88       736\n",
      "weighted avg       0.89      0.89      0.89       736\n",
      "\n"
     ]
    }
   ],
   "source": [
    "print('Classification Report for Bi-LSTM :\\n', classification_report(y_test_list, y_pred_list, target_names=sentiments))"
   ]
  },
  {
   "cell_type": "code",
   "execution_count": 319,
   "metadata": {
    "_kg_hide-input": true,
    "colab": {
     "base_uri": "https://localhost:8080/",
     "height": 757
    },
    "execution": {
     "iopub.execute_input": "2023-06-02T02:04:09.083251Z",
     "iopub.status.busy": "2023-06-02T02:04:09.082977Z",
     "iopub.status.idle": "2023-06-02T02:04:09.436261Z",
     "shell.execute_reply": "2023-06-02T02:04:09.435568Z",
     "shell.execute_reply.started": "2023-06-02T02:04:09.083214Z"
    },
    "id": "vmE9K77s1qv_",
    "outputId": "a978801b-82e9-4861-fd5f-483e8a2b796e"
   },
   "outputs": [
    {
     "data": {
      "image/png": "[encoded data removed]",
      "text/plain": [
       "<Figure size 750x750 with 1 Axes>"
      ]
     },
     "metadata": {},
     "output_type": "display_data"
    }
   ],
   "source": [
    "conf_matrix(y_test_list,y_pred_list,'PyTorch Bi-LSTM Sentiment Analysis\\nConfusion Matrix', sentiments)"
   ]
  },
  {
   "cell_type": "markdown",
   "metadata": {
    "id": "HpM-0gdpsMur"
   },
   "source": [
    "**The performance scores of the algorithm are very high, with an overall accuracy of 93%.**<br>\n",
    "**In particular, the F1 scores for the more populated classes are over 95%**"
   ]
  },
  {
   "cell_type": "markdown",
   "metadata": {
    "id": "EKGNdUB_sMur"
   },
   "source": [
    "# BERT Classification"
   ]
  },
  {
   "cell_type": "markdown",
   "metadata": {
    "id": "zBgHH0MpsMur"
   },
   "source": [
    "In this section, we will load a pre trained BERT model from the Hugging Face library and fine tune it for our classification task."
   ]
  },
  {
   "cell_type": "markdown",
   "metadata": {
    "id": "Mq9OXWiOsMur"
   },
   "source": [
    "First, we need to split the dataset into train - validation - test again since we need to tokenize the sentences differently from before (Naive Bayes and LSTM)."
   ]
  },
  {
   "cell_type": "markdown",
   "metadata": {
    "id": "uHAuCzi5sMus"
   },
   "source": [
    "## Train - Validation - Test split"
   ]
  },
  {
   "cell_type": "code",
   "execution_count": 71,
   "metadata": {
    "execution": {
     "iopub.execute_input": "2023-06-02T02:04:09.438232Z",
     "iopub.status.busy": "2023-06-02T02:04:09.437588Z",
     "iopub.status.idle": "2023-06-02T02:04:09.442761Z",
     "shell.execute_reply": "2023-06-02T02:04:09.441866Z",
     "shell.execute_reply.started": "2023-06-02T02:04:09.438188Z"
    },
    "id": "2tOPXV0-sMus"
   },
   "outputs": [],
   "source": [
    "X = df['text_clean'].values\n",
    "y = df['sentiment'].values"
   ]
  },
  {
   "cell_type": "code",
   "execution_count": 72,
   "metadata": {
    "execution": {
     "iopub.execute_input": "2023-06-02T02:04:09.444736Z",
     "iopub.status.busy": "2023-06-02T02:04:09.444438Z",
     "iopub.status.idle": "2023-06-02T02:04:09.475888Z",
     "shell.execute_reply": "2023-06-02T02:04:09.475228Z",
     "shell.execute_reply.started": "2023-06-02T02:04:09.444697Z"
    },
    "id": "KiUTgEfRsMus"
   },
   "outputs": [],
   "source": [
    "X_train, X_test, y_train, y_test = train_test_split(X, y, test_size=0.2, stratify=y, random_state=seed_value)"
   ]
  },
  {
   "cell_type": "code",
   "execution_count": 73,
   "metadata": {
    "execution": {
     "iopub.execute_input": "2023-06-02T02:04:09.477154Z",
     "iopub.status.busy": "2023-06-02T02:04:09.476916Z",
     "iopub.status.idle": "2023-06-02T02:04:09.504359Z",
     "shell.execute_reply": "2023-06-02T02:04:09.503570Z",
     "shell.execute_reply.started": "2023-06-02T02:04:09.477117Z"
    },
    "id": "RV9B1VposMus"
   },
   "outputs": [],
   "source": [
    "X_train, X_valid, y_train, y_valid = train_test_split(X_train, y_train, test_size=0.2, stratify=y_train, random_state=seed_value)"
   ]
  },
  {
   "cell_type": "markdown",
   "metadata": {
    "id": "CjvNFGCPsMus"
   },
   "source": [
    "As seen before, we oversample the text to the majority class."
   ]
  },
  {
   "cell_type": "code",
   "execution_count": 74,
   "metadata": {
    "execution": {
     "iopub.execute_input": "2023-06-02T02:04:09.505965Z",
     "iopub.status.busy": "2023-06-02T02:04:09.505518Z",
     "iopub.status.idle": "2023-06-02T02:04:09.522121Z",
     "shell.execute_reply": "2023-06-02T02:04:09.521446Z",
     "shell.execute_reply.started": "2023-06-02T02:04:09.505926Z"
    },
    "id": "FBth0MUisMus"
   },
   "outputs": [],
   "source": [
    "ros = RandomOverSampler()\n",
    "X_train_os, y_train_os = ros.fit_resample(np.array(X_train).reshape(-1,1),np.array(y_train).reshape(-1,1))"
   ]
  },
  {
   "cell_type": "code",
   "execution_count": 75,
   "metadata": {
    "execution": {
     "iopub.execute_input": "2023-06-02T02:04:09.523414Z",
     "iopub.status.busy": "2023-06-02T02:04:09.523151Z",
     "iopub.status.idle": "2023-06-02T02:04:09.527605Z",
     "shell.execute_reply": "2023-06-02T02:04:09.526921Z",
     "shell.execute_reply.started": "2023-06-02T02:04:09.523376Z"
    },
    "id": "HQxQZLoSsMus"
   },
   "outputs": [],
   "source": [
    "X_train_os = X_train_os.flatten()\n",
    "y_train_os = y_train_os.flatten()"
   ]
  },
  {
   "cell_type": "code",
   "execution_count": 76,
   "metadata": {
    "colab": {
     "base_uri": "https://localhost:8080/"
    },
    "execution": {
     "iopub.execute_input": "2023-06-02T02:04:09.529647Z",
     "iopub.status.busy": "2023-06-02T02:04:09.528781Z",
     "iopub.status.idle": "2023-06-02T02:04:09.540434Z",
     "shell.execute_reply": "2023-06-02T02:04:09.539499Z",
     "shell.execute_reply.started": "2023-06-02T02:04:09.529606Z"
    },
    "id": "bXVxOVAMsMuw",
    "outputId": "fe08898a-1b54-4677-af71-e4eabd8fd795"
   },
   "outputs": [
    {
     "data": {
      "text/plain": [
       "array([[  0, 522],\n",
       "       [  1, 522],\n",
       "       [  2, 522],\n",
       "       [  3, 522],\n",
       "       [  4, 522]])"
      ]
     },
     "execution_count": 76,
     "metadata": {},
     "output_type": "execute_result"
    }
   ],
   "source": [
    "(unique, counts) = np.unique(y_train_os, return_counts=True)\n",
    "np.asarray((unique, counts)).T"
   ]
  },
  {
   "cell_type": "markdown",
   "metadata": {
    "id": "6tcpEORusMuw"
   },
   "source": [
    "# BERT Tokenization"
   ]
  },
  {
   "cell_type": "markdown",
   "metadata": {
    "id": "GKEJPxDKsMuw"
   },
   "source": [
    "Since we need to tokenize the tweets (get \"input ids\" and \"attention masks\") for BERT, we load the specific BERT tokenizer from the Hugging Face library."
   ]
  },
  {
   "cell_type": "code",
   "execution_count": 77,
   "metadata": {
    "execution": {
     "iopub.execute_input": "2023-06-02T02:04:09.542271Z",
     "iopub.status.busy": "2023-06-02T02:04:09.541864Z",
     "iopub.status.idle": "2023-06-02T02:04:11.285025Z",
     "shell.execute_reply": "2023-06-02T02:04:11.284253Z",
     "shell.execute_reply.started": "2023-06-02T02:04:09.542234Z"
    },
    "id": "a0WQvRgYsMuw"
   },
   "outputs": [],
   "source": [
    "tokenizer = BertTokenizer.from_pretrained('bert-base-uncased', do_lower_case=True)"
   ]
  },
  {
   "cell_type": "markdown",
   "metadata": {
    "execution": {
     "iopub.execute_input": "2022-03-15T08:35:46.046364Z",
     "iopub.status.busy": "2022-03-15T08:35:46.046010Z",
     "iopub.status.idle": "2022-03-15T08:35:46.076692Z",
     "shell.execute_reply": "2022-03-15T08:35:46.075417Z",
     "shell.execute_reply.started": "2022-03-15T08:35:46.046277Z"
    },
    "id": "q6YI7CgzsMuw"
   },
   "source": [
    "Then we define a custom tokenizer function using the loaded tokenizer."
   ]
  },
  {
   "cell_type": "code",
   "execution_count": 78,
   "metadata": {
    "execution": {
     "iopub.execute_input": "2023-06-02T02:04:11.286770Z",
     "iopub.status.busy": "2023-06-02T02:04:11.286483Z",
     "iopub.status.idle": "2023-06-02T02:04:11.294126Z",
     "shell.execute_reply": "2023-06-02T02:04:11.293214Z",
     "shell.execute_reply.started": "2023-06-02T02:04:11.286730Z"
    },
    "id": "jCT0Qp3osMuw"
   },
   "outputs": [],
   "source": [
    "def bert_tokenizer(data):\n",
    "    input_ids = []\n",
    "    attention_masks = []\n",
    "    for sent in data:\n",
    "        encoded_sent = tokenizer.encode_plus(\n",
    "            text=sent,\n",
    "            add_special_tokens=True,        # Add `[CLS]` and `[SEP]` special tokens\n",
    "            max_length=MAX_LEN,             # Choose max length to truncate/pad\n",
    "            pad_to_max_length=True,         # Pad sentence to max length\n",
    "            return_attention_mask=True      # Return attention mask\n",
    "            )\n",
    "        input_ids.append(encoded_sent.get('input_ids'))\n",
    "        attention_masks.append(encoded_sent.get('attention_mask'))\n",
    "\n",
    "    # Convert lists to tensors\n",
    "    input_ids = torch.tensor(input_ids)\n",
    "    attention_masks = torch.tensor(attention_masks)\n",
    "\n",
    "    return input_ids, attention_masks"
   ]
  },
  {
   "cell_type": "markdown",
   "metadata": {
    "id": "T7N2LVqnsMux"
   },
   "source": [
    "Since we need to specify the length of the longest tokenized sentence, we tokenize the train tweets using the \"encode\" method of the original BERT tokenizer and check the longest sentence."
   ]
  },
  {
   "cell_type": "code",
   "execution_count": 79,
   "metadata": {
    "colab": {
     "base_uri": "https://localhost:8080/"
    },
    "execution": {
     "iopub.execute_input": "2023-06-02T02:04:11.296203Z",
     "iopub.status.busy": "2023-06-02T02:04:11.295883Z",
     "iopub.status.idle": "2023-06-02T02:04:29.249206Z",
     "shell.execute_reply": "2023-06-02T02:04:29.247551Z",
     "shell.execute_reply.started": "2023-06-02T02:04:11.296165Z"
    },
    "id": "pXbUzXgBsMux",
    "outputId": "1662f965-23c8-4add-9fa2-3bf2af99cb67"
   },
   "outputs": [
    {
     "name": "stdout",
     "output_type": "stream",
     "text": [
      "Max length:  54\n"
     ]
    }
   ],
   "source": [
    "# Tokenize train tweets\n",
    "encoded_tweets = [tokenizer.encode(sent, add_special_tokens=True) for sent in X_train]\n",
    "\n",
    "# Find the longest tokenized tweet\n",
    "max_len = max([len(sent) for sent in encoded_tweets])\n",
    "print('Max length: ', max_len)"
   ]
  },
  {
   "cell_type": "markdown",
   "metadata": {
    "id": "jREYKMEisMux"
   },
   "source": [
    "We can choose the max length as 128."
   ]
  },
  {
   "cell_type": "code",
   "execution_count": 80,
   "metadata": {
    "execution": {
     "iopub.execute_input": "2023-06-02T02:04:29.251156Z",
     "iopub.status.busy": "2023-06-02T02:04:29.250706Z",
     "iopub.status.idle": "2023-06-02T02:04:29.254856Z",
     "shell.execute_reply": "2023-06-02T02:04:29.254078Z",
     "shell.execute_reply.started": "2023-06-02T02:04:29.251113Z"
    },
    "id": "VwwSJENgsMux"
   },
   "outputs": [],
   "source": [
    "MAX_LEN = 128"
   ]
  },
  {
   "cell_type": "markdown",
   "metadata": {
    "id": "cojVuI9XsMux"
   },
   "source": [
    "Then we can tokenize the train, validation and test tweets using the custom define tokenizer."
   ]
  },
  {
   "cell_type": "code",
   "execution_count": 81,
   "metadata": {
    "_kg_hide-output": true,
    "colab": {
     "base_uri": "https://localhost:8080/"
    },
    "execution": {
     "iopub.execute_input": "2023-06-02T02:04:29.256909Z",
     "iopub.status.busy": "2023-06-02T02:04:29.256411Z",
     "iopub.status.idle": "2023-06-02T02:05:01.094688Z",
     "shell.execute_reply": "2023-06-02T02:05:01.093823Z",
     "shell.execute_reply.started": "2023-06-02T02:04:29.256869Z"
    },
    "id": "rv_o9UaNsMux",
    "outputId": "eabb0dba-c12c-47fd-96e8-8ac10a5e379d"
   },
   "outputs": [
    {
     "name": "stderr",
     "output_type": "stream",
     "text": [
      "Truncation was not explicitly activated but `max_length` is provided a specific value, please use `truncation=True` to explicitly truncate examples to max length. Defaulting to 'longest_first' truncation strategy. If you encode pairs of sequences (GLUE-style) with the tokenizer you can select this strategy more precisely by providing a specific strategy to `truncation`.\n",
      "/usr/local/lib/python3.10/dist-packages/transformers/tokenization_utils_base.py:2393: FutureWarning: The `pad_to_max_length` argument is deprecated and will be removed in a future version, use `padding=True` or `padding='longest'` to pad to the longest sequence in the batch, or use `padding='max_length'` to pad to a max length. In this case, you can give a specific length with `max_length` (e.g. `max_length=45`) or leave max_length to None to pad to the maximal input size of the model (e.g. 512 for Bert).\n",
      "  warnings.warn(\n"
     ]
    }
   ],
   "source": [
    "train_inputs, train_masks = bert_tokenizer(X_train_os)\n",
    "val_inputs, val_masks = bert_tokenizer(X_valid)\n",
    "test_inputs, test_masks = bert_tokenizer(X_test)"
   ]
  },
  {
   "cell_type": "markdown",
   "metadata": {
    "id": "GCseCPkfsMux"
   },
   "source": [
    "## Data preprocessing for PyTorch BERT model"
   ]
  },
  {
   "cell_type": "markdown",
   "metadata": {
    "id": "oFNwKA-IsMux"
   },
   "source": [
    "Since we are using the BERT model built on PyTorch, we need to convert the arrays to pytorch tensors and create dataloaders for the data."
   ]
  },
  {
   "cell_type": "code",
   "execution_count": 82,
   "metadata": {
    "execution": {
     "iopub.execute_input": "2023-06-02T02:05:01.096439Z",
     "iopub.status.busy": "2023-06-02T02:05:01.096172Z",
     "iopub.status.idle": "2023-06-02T02:05:01.100535Z",
     "shell.execute_reply": "2023-06-02T02:05:01.099735Z",
     "shell.execute_reply.started": "2023-06-02T02:05:01.096400Z"
    },
    "id": "5f6P85XLsMuy"
   },
   "outputs": [],
   "source": [
    "# Convert target columns to pytorch tensors format\n",
    "train_labels = torch.from_numpy(y_train_os)\n",
    "val_labels = torch.from_numpy(y_valid)\n",
    "test_labels = torch.from_numpy(y_test)"
   ]
  },
  {
   "cell_type": "markdown",
   "metadata": {
    "id": "PWGnfQSwsMuy"
   },
   "source": [
    "## Dataloaders"
   ]
  },
  {
   "cell_type": "markdown",
   "metadata": {
    "id": "uFtc3qb5sMuy"
   },
   "source": [
    "To fine-tune the BERT model, the original authors recommend a batch size of 16 or 32."
   ]
  },
  {
   "cell_type": "code",
   "execution_count": 83,
   "metadata": {
    "execution": {
     "iopub.execute_input": "2023-06-02T02:05:01.102537Z",
     "iopub.status.busy": "2023-06-02T02:05:01.102262Z",
     "iopub.status.idle": "2023-06-02T02:05:01.114354Z",
     "shell.execute_reply": "2023-06-02T02:05:01.113650Z",
     "shell.execute_reply.started": "2023-06-02T02:05:01.102491Z"
    },
    "id": "OQo6ckgDsMuy"
   },
   "outputs": [],
   "source": [
    "batch_size = 32"
   ]
  },
  {
   "cell_type": "code",
   "execution_count": 84,
   "metadata": {
    "execution": {
     "iopub.execute_input": "2023-06-02T02:05:01.115907Z",
     "iopub.status.busy": "2023-06-02T02:05:01.115581Z",
     "iopub.status.idle": "2023-06-02T02:05:01.126224Z",
     "shell.execute_reply": "2023-06-02T02:05:01.125464Z",
     "shell.execute_reply.started": "2023-06-02T02:05:01.115865Z"
    },
    "id": "ToTYM0x7sMuy"
   },
   "outputs": [],
   "source": [
    "# Create the DataLoader for our training set\n",
    "train_data = TensorDataset(train_inputs, train_masks, train_labels)\n",
    "train_sampler = RandomSampler(train_data)\n",
    "train_dataloader = DataLoader(train_data, sampler=train_sampler, batch_size=batch_size)\n",
    "\n",
    "# Create the DataLoader for our validation set\n",
    "val_data = TensorDataset(val_inputs, val_masks, val_labels)\n",
    "val_sampler = SequentialSampler(val_data)\n",
    "val_dataloader = DataLoader(val_data, sampler=val_sampler, batch_size=batch_size)\n",
    "\n",
    "# Create the DataLoader for our test set\n",
    "test_data = TensorDataset(test_inputs, test_masks, test_labels)\n",
    "test_sampler = SequentialSampler(test_data)\n",
    "test_dataloader = DataLoader(test_data, sampler=test_sampler, batch_size=batch_size)"
   ]
  },
  {
   "cell_type": "markdown",
   "metadata": {
    "id": "xyuZGEQLsMuy"
   },
   "source": [
    "# BERT Modeling"
   ]
  },
  {
   "cell_type": "markdown",
   "metadata": {
    "id": "w92wRi_OsMuy"
   },
   "source": [
    "Now we can create a custom BERT classifier class, including the original BERT model (made of transformer layers) and additional Dense layers to perform the desired classification task."
   ]
  },
  {
   "cell_type": "code",
   "execution_count": 85,
   "metadata": {
    "execution": {
     "iopub.execute_input": "2023-06-02T02:05:01.127961Z",
     "iopub.status.busy": "2023-06-02T02:05:01.127533Z",
     "iopub.status.idle": "2023-06-02T02:05:01.139718Z",
     "shell.execute_reply": "2023-06-02T02:05:01.138831Z",
     "shell.execute_reply.started": "2023-06-02T02:05:01.127919Z"
    },
    "id": "MlKSO4PysMuy"
   },
   "outputs": [],
   "source": [
    "class Bert_Classifier(nn.Module):\n",
    "    def __init__(self, freeze_bert=False):\n",
    "        super(Bert_Classifier, self).__init__()\n",
    "        # Specify hidden size of BERT, hidden size of the classifier, and number of labels\n",
    "        n_input = 768\n",
    "        n_hidden = 50\n",
    "        n_output = 5\n",
    "\n",
    "        # Instantiate BERT model\n",
    "        self.bert = BertModel.from_pretrained('bert-base-uncased')\n",
    "\n",
    "        # Instantiate the classifier (a fully connected layer followed by a ReLU activation and another fully connected layer)\n",
    "        self.classifier = nn.Sequential(\n",
    "            nn.Linear(n_input, n_hidden),\n",
    "            nn.ReLU(),\n",
    "            nn.Linear(n_hidden, n_output)\n",
    "        )\n",
    "\n",
    "        # Freeze the BERT model weights if freeze_bert is True (useful for feature extraction without fine-tuning)\n",
    "        if freeze_bert:\n",
    "            for param in self.bert.parameters():\n",
    "                param.requires_grad = False\n",
    "\n",
    "    def forward(self, input_ids, attention_mask):\n",
    "        # Feed input data (input_ids and attention_mask) to BERT\n",
    "        outputs = self.bert(input_ids=input_ids,\n",
    "                            attention_mask=attention_mask)\n",
    "\n",
    "        # Extract the last hidden state of the `[CLS]` token from the BERT output (useful for classification tasks)\n",
    "        last_hidden_state_cls = outputs[0][:, 0, :]\n",
    "\n",
    "        # Feed the extracted hidden state to the classifier to compute logits\n",
    "        logits = self.classifier(last_hidden_state_cls)\n",
    "\n",
    "        return logits"
   ]
  },
  {
   "cell_type": "markdown",
   "metadata": {
    "id": "FPWPsFN-sMuy"
   },
   "source": [
    "Moreover, since we want to define a learning rate scheduler, we define a custom \"initalize_model\" function as follows."
   ]
  },
  {
   "cell_type": "code",
   "execution_count": 86,
   "metadata": {
    "execution": {
     "iopub.execute_input": "2023-06-02T02:05:01.141755Z",
     "iopub.status.busy": "2023-06-02T02:05:01.140963Z",
     "iopub.status.idle": "2023-06-02T02:05:01.153984Z",
     "shell.execute_reply": "2023-06-02T02:05:01.153141Z",
     "shell.execute_reply.started": "2023-06-02T02:05:01.141715Z"
    },
    "id": "Ka_39nOQsMuz"
   },
   "outputs": [],
   "source": [
    "# Function for initializing the BERT Classifier model, optimizer, and learning rate scheduler\n",
    "def initialize_model(epochs=4):\n",
    "    # Instantiate Bert Classifier\n",
    "    bert_classifier = Bert_Classifier(freeze_bert=False)\n",
    "\n",
    "    bert_classifier.to(device)\n",
    "\n",
    "    # Set up optimizer\n",
    "    optimizer = AdamW(bert_classifier.parameters(),\n",
    "                      lr=5e-5,    # learning rate, set to default value\n",
    "                      eps=1e-8    # decay, set to default value\n",
    "                      )\n",
    "\n",
    "    # Calculate total number of training steps\n",
    "    total_steps = len(train_dataloader) * epochs\n",
    "\n",
    "    # Define the learning rate scheduler\n",
    "    scheduler = get_linear_schedule_with_warmup(optimizer,\n",
    "                                                num_warmup_steps=0, # Default value\n",
    "                                                num_training_steps=total_steps)\n",
    "    return bert_classifier, optimizer, scheduler"
   ]
  },
  {
   "cell_type": "markdown",
   "metadata": {
    "id": "rJIAKH21sMuz"
   },
   "source": [
    "We also specify the use of GPU if present (highly recommended for the fine tuning)"
   ]
  },
  {
   "cell_type": "code",
   "execution_count": 87,
   "metadata": {
    "execution": {
     "iopub.execute_input": "2023-06-02T02:05:01.156025Z",
     "iopub.status.busy": "2023-06-02T02:05:01.155042Z",
     "iopub.status.idle": "2023-06-02T02:05:01.166688Z",
     "shell.execute_reply": "2023-06-02T02:05:01.165952Z",
     "shell.execute_reply.started": "2023-06-02T02:05:01.155979Z"
    },
    "id": "VuVS8s5QsMuz"
   },
   "outputs": [],
   "source": [
    "device = 'cuda' if torch.cuda.is_available() else 'cpu'\n",
    "EPOCHS=2"
   ]
  },
  {
   "cell_type": "markdown",
   "metadata": {
    "id": "fUD9ogoRsMuz"
   },
   "source": [
    "And then we intialize the BERT model calling the \"initialize_model\" function we defined."
   ]
  },
  {
   "cell_type": "code",
   "execution_count": 88,
   "metadata": {
    "_kg_hide-output": true,
    "colab": {
     "base_uri": "https://localhost:8080/"
    },
    "execution": {
     "iopub.execute_input": "2023-06-02T02:05:01.168188Z",
     "iopub.status.busy": "2023-06-02T02:05:01.167823Z",
     "iopub.status.idle": "2023-06-02T02:05:03.081637Z",
     "shell.execute_reply": "2023-06-02T02:05:03.080731Z",
     "shell.execute_reply.started": "2023-06-02T02:05:01.168146Z"
    },
    "id": "aIJM_3XIsMuz",
    "outputId": "a3d005a2-c011-4a4c-d794-9be99c23543a"
   },
   "outputs": [
    {
     "name": "stderr",
     "output_type": "stream",
     "text": [
      "/usr/local/lib/python3.10/dist-packages/transformers/optimization.py:411: FutureWarning: This implementation of AdamW is deprecated and will be removed in a future version. Use the PyTorch implementation torch.optim.AdamW instead, or set `no_deprecation_warning=True` to disable this warning\n",
      "  warnings.warn(\n"
     ]
    }
   ],
   "source": [
    "bert_classifier, optimizer, scheduler = initialize_model(epochs=EPOCHS)"
   ]
  },
  {
   "cell_type": "markdown",
   "metadata": {
    "id": "CLt1Gq3wsMuz"
   },
   "source": [
    "# BERT Training"
   ]
  },
  {
   "cell_type": "markdown",
   "metadata": {
    "id": "i5NQLVmwsMuz"
   },
   "source": [
    "After defining the custom BERT classifier model, we are ready to start the training."
   ]
  },
  {
   "cell_type": "code",
   "execution_count": 89,
   "metadata": {
    "execution": {
     "iopub.execute_input": "2023-06-02T02:05:03.083500Z",
     "iopub.status.busy": "2023-06-02T02:05:03.083230Z",
     "iopub.status.idle": "2023-06-02T02:05:03.102832Z",
     "shell.execute_reply": "2023-06-02T02:05:03.102029Z",
     "shell.execute_reply.started": "2023-06-02T02:05:03.083460Z"
    },
    "id": "sIld_8XwsMu0"
   },
   "outputs": [],
   "source": [
    "# Define Cross entropy Loss function for the multiclass classification task\n",
    "loss_fn = nn.CrossEntropyLoss()\n",
    "\n",
    "def bert_train(model, train_dataloader, val_dataloader=None, epochs=4, evaluation=False):\n",
    "\n",
    "    print(\"Start training...\\n\")\n",
    "    for epoch_i in range(epochs):\n",
    "        print(\"-\"*10)\n",
    "        print(\"Epoch : {}\".format(epoch_i+1))\n",
    "        print(\"-\"*10)\n",
    "        print(\"-\"*38)\n",
    "        print(f\"{'BATCH NO.':^7} | {'TRAIN LOSS':^12} | {'ELAPSED (s)':^9}\")\n",
    "        print(\"-\"*38)\n",
    "\n",
    "        # Measure the elapsed time of each epoch\n",
    "        t0_epoch, t0_batch = time.time(), time.time()\n",
    "\n",
    "        # Reset tracking variables at the beginning of each epoch\n",
    "        total_loss, batch_loss, batch_counts = 0, 0, 0\n",
    "\n",
    "        ###TRAINING###\n",
    "\n",
    "        # Put the model into the training mode\n",
    "        model.train()\n",
    "\n",
    "        for step, batch in enumerate(train_dataloader):\n",
    "            batch_counts +=1\n",
    "\n",
    "            b_input_ids, b_attn_mask, b_labels = tuple(t.to(device) for t in batch)\n",
    "\n",
    "            # Zero out any previously calculated gradients\n",
    "            model.zero_grad()\n",
    "\n",
    "            # Perform a forward pass and get logits.\n",
    "            logits = model(b_input_ids, b_attn_mask)\n",
    "\n",
    "            # Compute loss and accumulate the loss values\n",
    "            loss = loss_fn(logits, b_labels)\n",
    "            batch_loss += loss.item()\n",
    "            total_loss += loss.item()\n",
    "\n",
    "            # Perform a backward pass to calculate gradients\n",
    "            loss.backward()\n",
    "\n",
    "            # Clip the norm of the gradients to 1.0 to prevent \"exploding gradients\"\n",
    "            torch.nn.utils.clip_grad_norm_(model.parameters(), 1.0)\n",
    "\n",
    "            # Update model parameters:\n",
    "            # fine tune BERT params and train additional dense layers\n",
    "            optimizer.step()\n",
    "            # update learning rate\n",
    "            scheduler.step()\n",
    "\n",
    "            # Print the loss values and time elapsed for every 100 batches\n",
    "            if (step % 100 == 0 and step != 0) or (step == len(train_dataloader) - 1):\n",
    "                # Calculate time elapsed for 20 batches\n",
    "                time_elapsed = time.time() - t0_batch\n",
    "\n",
    "                print(f\"{step:^9} | {batch_loss / batch_counts:^12.6f} | {time_elapsed:^9.2f}\")\n",
    "\n",
    "                # Reset batch tracking variables\n",
    "                batch_loss, batch_counts = 0, 0\n",
    "                t0_batch = time.time()\n",
    "\n",
    "        # Calculate the average loss over the entire training data\n",
    "        avg_train_loss = total_loss / len(train_dataloader)\n",
    "\n",
    "        ###EVALUATION###\n",
    "\n",
    "        # Put the model into the evaluation mode\n",
    "        model.eval()\n",
    "\n",
    "        # Define empty lists to host accuracy and validation for each batch\n",
    "        val_accuracy = []\n",
    "        val_loss = []\n",
    "\n",
    "        for batch in val_dataloader:\n",
    "            batch_input_ids, batch_attention_mask, batch_labels = tuple(t.to(device) for t in batch)\n",
    "\n",
    "            # We do not want to update the params during the evaluation,\n",
    "            # So we specify that we dont want to compute the gradients of the tensors\n",
    "            # by calling the torch.no_grad() method\n",
    "            with torch.no_grad():\n",
    "                logits = model(batch_input_ids, batch_attention_mask)\n",
    "\n",
    "            loss = loss_fn(logits, batch_labels)\n",
    "\n",
    "            val_loss.append(loss.item())\n",
    "\n",
    "            # Get the predictions starting from the logits (get index of highest logit)\n",
    "            preds = torch.argmax(logits, dim=1).flatten()\n",
    "\n",
    "            # Calculate the validation accuracy\n",
    "            accuracy = (preds == batch_labels).cpu().numpy().mean() * 100\n",
    "            val_accuracy.append(accuracy)\n",
    "\n",
    "        # Compute the average accuracy and loss over the validation set\n",
    "        val_loss = np.mean(val_loss)\n",
    "        val_accuracy = np.mean(val_accuracy)\n",
    "\n",
    "        # Print performance over the entire training data\n",
    "        time_elapsed = time.time() - t0_epoch\n",
    "        print(\"-\"*61)\n",
    "        print(f\"{'AVG TRAIN LOSS':^12} | {'VAL LOSS':^10} | {'VAL ACCURACY (%)':^9} | {'ELAPSED (s)':^9}\")\n",
    "        print(\"-\"*61)\n",
    "        print(f\"{avg_train_loss:^14.6f} | {val_loss:^10.6f} | {val_accuracy:^17.2f} | {time_elapsed:^9.2f}\")\n",
    "        print(\"-\"*61)\n",
    "        print(\"\\n\")\n",
    "\n",
    "    print(\"Training complete!\")"
   ]
  },
  {
   "cell_type": "code",
   "execution_count": 90,
   "metadata": {
    "colab": {
     "base_uri": "https://localhost:8080/"
    },
    "execution": {
     "iopub.execute_input": "2023-06-02T02:05:03.105292Z",
     "iopub.status.busy": "2023-06-02T02:05:03.104233Z",
     "iopub.status.idle": "2023-06-02T02:15:53.834438Z",
     "shell.execute_reply": "2023-06-02T02:15:53.833452Z",
     "shell.execute_reply.started": "2023-06-02T02:05:03.105259Z"
    },
    "id": "PDmU7w9lsMu0",
    "outputId": "5a7b98b4-5d27-462b-fe45-13558caa8154"
   },
   "outputs": [
    {
     "name": "stdout",
     "output_type": "stream",
     "text": [
      "Start training...\n",
      "\n",
      "----------\n",
      "Epoch : 1\n",
      "----------\n",
      "--------------------------------------\n",
      "BATCH NO. |  TRAIN LOSS  | ELAPSED (s)\n",
      "--------------------------------------\n",
      "   81     |   0.764407   |  3490.83 \n",
      "-------------------------------------------------------------\n",
      "AVG TRAIN LOSS |  VAL LOSS  | VAL ACCURACY (%) | ELAPSED (s)\n",
      "-------------------------------------------------------------\n",
      "   0.764407    |  0.348482  |       90.47       |  3752.08 \n",
      "-------------------------------------------------------------\n",
      "\n",
      "\n",
      "----------\n",
      "Epoch : 2\n",
      "----------\n",
      "--------------------------------------\n",
      "BATCH NO. |  TRAIN LOSS  | ELAPSED (s)\n",
      "--------------------------------------\n",
      "   81     |   0.257986   |  3358.90 \n",
      "-------------------------------------------------------------\n",
      "AVG TRAIN LOSS |  VAL LOSS  | VAL ACCURACY (%) | ELAPSED (s)\n",
      "-------------------------------------------------------------\n",
      "   0.257986    |  0.307314  |       90.78       |  3625.10 \n",
      "-------------------------------------------------------------\n",
      "\n",
      "\n",
      "Training complete!\n"
     ]
    }
   ],
   "source": [
    "bert_train(bert_classifier, train_dataloader, val_dataloader, epochs=EPOCHS)"
   ]
  },
  {
   "cell_type": "markdown",
   "metadata": {
    "id": "Zi1oi2J5sMu0"
   },
   "source": [
    "# BERT Prediction"
   ]
  },
  {
   "cell_type": "markdown",
   "metadata": {
    "id": "HGcNnkPWsMu0"
   },
   "source": [
    "Now we define a function similar to the model \"evaluation\", where we feed to the model the test data instead of the validation data."
   ]
  },
  {
   "cell_type": "code",
   "execution_count": 91,
   "metadata": {
    "execution": {
     "iopub.execute_input": "2023-06-02T02:15:53.836407Z",
     "iopub.status.busy": "2023-06-02T02:15:53.836041Z",
     "iopub.status.idle": "2023-06-02T02:15:53.844432Z",
     "shell.execute_reply": "2023-06-02T02:15:53.843261Z",
     "shell.execute_reply.started": "2023-06-02T02:15:53.836365Z"
    },
    "id": "_mrUUJ9usMu0"
   },
   "outputs": [],
   "source": [
    "def bert_predict(model, test_dataloader):\n",
    "\n",
    "    # Define empty list to host the predictions\n",
    "    preds_list = []\n",
    "\n",
    "    # Put the model into evaluation mode\n",
    "    model.eval()\n",
    "\n",
    "    for batch in test_dataloader:\n",
    "        batch_input_ids, batch_attention_mask = tuple(t.to(device) for t in batch)[:2]\n",
    "\n",
    "        # Avoid gradient calculation of tensors by using \"no_grad()\" method\n",
    "        with torch.no_grad():\n",
    "            logit = model(batch_input_ids, batch_attention_mask)\n",
    "\n",
    "        # Get index of highest logit\n",
    "        pred = torch.argmax(logit,dim=1).cpu().numpy()\n",
    "        # Append predicted class to list\n",
    "        preds_list.extend(pred)\n",
    "\n",
    "    return preds_list"
   ]
  },
  {
   "cell_type": "markdown",
   "metadata": {
    "id": "61i6wNoasMu0"
   },
   "source": [
    "Then we can call the defined function and get the class predictions of the test data."
   ]
  },
  {
   "cell_type": "code",
   "execution_count": 92,
   "metadata": {
    "execution": {
     "iopub.execute_input": "2023-06-02T02:15:53.846259Z",
     "iopub.status.busy": "2023-06-02T02:15:53.845986Z",
     "iopub.status.idle": "2023-06-02T02:16:21.645265Z",
     "shell.execute_reply": "2023-06-02T02:16:21.644443Z",
     "shell.execute_reply.started": "2023-06-02T02:15:53.846222Z"
    },
    "id": "D-74W4dWsMu0"
   },
   "outputs": [],
   "source": [
    "bert_preds = bert_predict(bert_classifier, test_dataloader)"
   ]
  },
  {
   "cell_type": "code",
   "execution_count": 93,
   "metadata": {
    "colab": {
     "base_uri": "https://localhost:8080/"
    },
    "execution": {
     "iopub.execute_input": "2023-06-02T02:16:21.647186Z",
     "iopub.status.busy": "2023-06-02T02:16:21.646916Z",
     "iopub.status.idle": "2023-06-02T02:16:21.670352Z",
     "shell.execute_reply": "2023-06-02T02:16:21.669487Z",
     "shell.execute_reply.started": "2023-06-02T02:16:21.647147Z"
    },
    "id": "pjbuSJYusMu1",
    "outputId": "8ed536f6-a83c-4754-a7d6-9b1a4b94624e"
   },
   "outputs": [
    {
     "name": "stdout",
     "output_type": "stream",
     "text": [
      "Classification Report for BERT :\n",
      "               precision    recall  f1-score   support\n",
      "\n",
      "    religion       0.96      0.99      0.97       164\n",
      "         age       0.96      0.97      0.97       160\n",
      "   ethnicity       0.95      0.97      0.96       153\n",
      "      gender       0.88      0.89      0.88       163\n",
      "not bullying       0.81      0.72      0.76       126\n",
      "\n",
      "    accuracy                           0.92       766\n",
      "   macro avg       0.91      0.91      0.91       766\n",
      "weighted avg       0.91      0.92      0.91       766\n",
      "\n"
     ]
    }
   ],
   "source": [
    "print('Classification Report for BERT :\\n', classification_report(y_test, bert_preds, target_names=sentiments))"
   ]
  },
  {
   "cell_type": "code",
   "execution_count": 94,
   "metadata": {
    "colab": {
     "base_uri": "https://localhost:8080/",
     "height": 757
    },
    "execution": {
     "iopub.execute_input": "2023-06-02T02:16:21.672093Z",
     "iopub.status.busy": "2023-06-02T02:16:21.671819Z",
     "iopub.status.idle": "2023-06-02T02:16:22.103134Z",
     "shell.execute_reply": "2023-06-02T02:16:22.102395Z",
     "shell.execute_reply.started": "2023-06-02T02:16:21.672055Z"
    },
    "id": "lMWKblFWsMu1",
    "outputId": "c0bc5bd0-606d-4a38-8bce-cea5bdba0dc7"
   },
   "outputs": [
    {
     "data": {
      "image/png": "[encoded data removed]",
      "text/plain": [
       "<Figure size 750x750 with 1 Axes>"
      ]
     },
     "metadata": {},
     "output_type": "display_data"
    }
   ],
   "source": [
    "conf_matrix(y_test, bert_preds,' BERT Sentiment Analysis\\nConfusion Matrix', sentiments)"
   ]
  },
  {
   "cell_type": "markdown",
   "metadata": {
    "id": "r-T5yp2XsMu1"
   },
   "source": [
    "**The performance scores of BERT Classifier are quite high and higher than those achieved using the LSTM model, with an overall accuracy around 95% and F1 scores well over 95%.**<br>"
   ]
  },
  {
   "cell_type": "markdown",
   "metadata": {
    "id": "Dqz-dRGZsMu1"
   },
   "source": [
    "Thank your for checking out my notebook! Let me know if you have comments or if you want me to check out your work! :)"
   ]
  }
 ],
 "metadata": {
  "colab": {
   "provenance": []
  },
  "kernelspec": {
   "display_name": "Python 3 (ipykernel)",
   "language": "python",
   "name": "python3"
  },
  "language_info": {
   "codemirror_mode": {
    "name": "ipython",
    "version": 3
   },
   "file_extension": ".py",
   "mimetype": "text/x-python",
   "name": "python",
   "nbconvert_exporter": "python",
   "pygments_lexer": "ipython3",
   "version": "3.10.0"
  }
 },
 "nbformat": 4,
 "nbformat_minor": 1
}
